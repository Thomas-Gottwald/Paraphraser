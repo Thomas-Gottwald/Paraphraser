{
 "metadata": {
  "language_info": {
   "codemirror_mode": {
    "name": "ipython",
    "version": 3
   },
   "file_extension": ".py",
   "mimetype": "text/x-python",
   "name": "python",
   "nbconvert_exporter": "python",
   "pygments_lexer": "ipython3",
   "version": "3.7.4-final"
  },
  "orig_nbformat": 2,
  "kernelspec": {
   "name": "python3",
   "display_name": "Python 3"
  }
 },
 "nbformat": 4,
 "nbformat_minor": 2,
 "cells": [
  {
   "cell_type": "code",
   "execution_count": 3,
   "metadata": {},
   "outputs": [],
   "source": [
    "import paraphrase_pipeline as ppipe\n",
    "from transformers import pipeline"
   ]
  },
  {
   "cell_type": "code",
   "execution_count": 5,
   "metadata": {},
   "outputs": [
    {
     "output_type": "stream",
     "name": "stderr",
     "text": [
      "Special tokens have been added in the vocabulary, make sure the associated word embedding are fine-tuned or trained.\n",
      "Some weights of RobertaForMaskedLM were not initialized from the model checkpoint at roberta-large and are newly initialized: ['lm_head.decoder.bias']\n",
      "You should probably TRAIN this model on a down-stream task to be able to use it for predictions and inference.\n"
     ]
    }
   ],
   "source": [
    "unmasker = pipeline('fill-mask', model='roberta-large')\n",
    "paraphraser = ppipe.ParaphrasePipeline(unmasker)"
   ]
  },
  {
   "cell_type": "code",
   "execution_count": 10,
   "metadata": {},
   "outputs": [
    {
     "output_type": "execute_result",
     "data": {
      "text/plain": [
       "'Ayn Rand (; born Alisa Zinovyevna Rosenbaum; Â\\xa0â€“ March 6, 1982) was a Russian-American writer and philosopher. She is known for her two best-selling novels, \"The Fountainhead\" and \"Atlas Shrugged\", and for developing a philosophical system she named Objectivism. Educated in Russia, she moved to the United States in 1926. She had a play produced on Broadway in 1935 and 1936. After two early novels that were initially unsuccessful, she achieved fame with her 1943 novel, \"The Fountainhead\". In 1957, Rand published her best-known work, the novel \"Atlas Shrugged\". Afterward, she turned to non-fiction to promote her philosophy, publishing her own periodicals and releasing several collections of essays until her death in 1982.'"
      ]
     },
     "metadata": {},
     "execution_count": 10
    }
   ],
   "source": [
    "filename = r\"./../data/wikipedia/og/339-ORIG-2.txt\"\n",
    "with open(filename) as file:\n",
    "    originalText = file.read()\n",
    "originalText"
   ]
  },
  {
   "cell_type": "code",
   "execution_count": 7,
   "metadata": {},
   "outputs": [],
   "source": [
    "spun_text, df = paraphraser.parapherase(originalText, mask=0.1, range_replace=(1, 4), mark_replace=True)"
   ]
  },
  {
   "cell_type": "code",
   "execution_count": 8,
   "metadata": {},
   "outputs": [
    {
     "output_type": "execute_result",
     "data": {
      "text/plain": [
       "'<s> Ayn Rand ([ ;] born Alisa Zin[ay]evna Rosenbaum; Â\\xa0â[Â]“ March 6, 1982) was a[ Ukrainian]-American writer and[ educator]. She is known for her two best[‐]selling novels, \"The Fountainhead\" and \"Atlas Shrugged[\"] and for developing a philosophical system she[ termed] Objectivism. Educated in Russia, she moved to the United States[ by] 1926[,] She[ wrote] a play produced[ in] Broadway in[ 1934] and 1936. After two early novels that were[ relatively] unsuccessful, she achieved fame with her 1943 novel, \"The Fountainhead\". In 1957, Rand published her best-known work, the novel \"Atlas Shrugged\". Afterward, she turned to non-fiction to promote[ the] philosophy, publishing her own periodicals and releasing[ three] collections of essays until her death in[ 1980]. </s>'"
      ]
     },
     "metadata": {},
     "execution_count": 8
    }
   ],
   "source": [
    "spun_text"
   ]
  },
  {
   "cell_type": "code",
   "execution_count": 9,
   "metadata": {},
   "outputs": [
    {
     "output_type": "execute_result",
     "data": {
      "text/plain": [
       "            token_str     score    state\n",
       "index token                             \n",
       "167   15077     Ġ1969  0.079818  ignored\n",
       "      14757     Ġ1973  0.077119   looked\n",
       "      5114      Ġ1980  0.069675   chosen\n",
       "      14873     Ġ1975  0.065993   looked\n",
       "67    373     Ġcalled  0.828217  ignored\n",
       "...               ...       ...      ...\n",
       "90    11          Ġin  0.000158   chosen\n",
       "10    35664       ovy  0.803942  ignored\n",
       "      42937      ovie  0.028291   looked\n",
       "      5846        ily  0.023113   looked\n",
       "      857          ay  0.022268   chosen\n",
       "\n",
       "[68 rows x 3 columns]"
      ],
      "text/html": "<div>\n<style scoped>\n    .dataframe tbody tr th:only-of-type {\n        vertical-align: middle;\n    }\n\n    .dataframe tbody tr th {\n        vertical-align: top;\n    }\n\n    .dataframe thead th {\n        text-align: right;\n    }\n</style>\n<table border=\"1\" class=\"dataframe\">\n  <thead>\n    <tr style=\"text-align: right;\">\n      <th></th>\n      <th></th>\n      <th>token_str</th>\n      <th>score</th>\n      <th>state</th>\n    </tr>\n    <tr>\n      <th>index</th>\n      <th>token</th>\n      <th></th>\n      <th></th>\n      <th></th>\n    </tr>\n  </thead>\n  <tbody>\n    <tr>\n      <th rowspan=\"4\" valign=\"top\">167</th>\n      <th>15077</th>\n      <td>Ġ1969</td>\n      <td>0.079818</td>\n      <td>ignored</td>\n    </tr>\n    <tr>\n      <th>14757</th>\n      <td>Ġ1973</td>\n      <td>0.077119</td>\n      <td>looked</td>\n    </tr>\n    <tr>\n      <th>5114</th>\n      <td>Ġ1980</td>\n      <td>0.069675</td>\n      <td>chosen</td>\n    </tr>\n    <tr>\n      <th>14873</th>\n      <td>Ġ1975</td>\n      <td>0.065993</td>\n      <td>looked</td>\n    </tr>\n    <tr>\n      <th>67</th>\n      <th>373</th>\n      <td>Ġcalled</td>\n      <td>0.828217</td>\n      <td>ignored</td>\n    </tr>\n    <tr>\n      <th>...</th>\n      <th>...</th>\n      <td>...</td>\n      <td>...</td>\n      <td>...</td>\n    </tr>\n    <tr>\n      <th>90</th>\n      <th>11</th>\n      <td>Ġin</td>\n      <td>0.000158</td>\n      <td>chosen</td>\n    </tr>\n    <tr>\n      <th rowspan=\"4\" valign=\"top\">10</th>\n      <th>35664</th>\n      <td>ovy</td>\n      <td>0.803942</td>\n      <td>ignored</td>\n    </tr>\n    <tr>\n      <th>42937</th>\n      <td>ovie</td>\n      <td>0.028291</td>\n      <td>looked</td>\n    </tr>\n    <tr>\n      <th>5846</th>\n      <td>ily</td>\n      <td>0.023113</td>\n      <td>looked</td>\n    </tr>\n    <tr>\n      <th>857</th>\n      <td>ay</td>\n      <td>0.022268</td>\n      <td>chosen</td>\n    </tr>\n  </tbody>\n</table>\n<p>68 rows × 3 columns</p>\n</div>"
     },
     "metadata": {},
     "execution_count": 9
    }
   ],
   "source": [
    "df"
   ]
  },
  {
   "cell_type": "code",
   "execution_count": null,
   "metadata": {},
   "outputs": [],
   "source": []
  }
 ]
}