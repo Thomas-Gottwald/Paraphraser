{
 "metadata": {
  "language_info": {
   "codemirror_mode": {
    "name": "ipython",
    "version": 3
   },
   "file_extension": ".py",
   "mimetype": "text/x-python",
   "name": "python",
   "nbconvert_exporter": "python",
   "pygments_lexer": "ipython3",
   "version": "3.8.5"
  },
  "orig_nbformat": 2,
  "kernelspec": {
   "name": "python3",
   "display_name": "Python 3",
   "language": "python"
  }
 },
 "nbformat": 4,
 "nbformat_minor": 2,
 "cells": [
  {
   "cell_type": "code",
   "execution_count": 1,
   "metadata": {},
   "outputs": [],
   "source": [
    "import numpy as np\n",
    "import pandas as pd\n",
    "import spacy\n",
    "import nltk\n",
    "import re\n",
    "import os\n",
    "import torch\n",
    "from transformers import AutoConfig, AutoTokenizer, AutoModelForMaskedLM\n",
    "from transformers.pipelines import FillMaskPipeline\n",
    "from tqdm import tqdm"
   ]
  },
  {
   "source": [
    "#### Set up the Model Options"
   ],
   "cell_type": "markdown",
   "metadata": {}
  },
  {
   "cell_type": "code",
   "execution_count": 2,
   "metadata": {},
   "outputs": [],
   "source": [
    "model_name_or_path = \"roberta-large\"\n",
    "max_len = 512\n",
    "k = 4\n",
    "path = \"./../data/wikipedia/ogUTF-8/1208667-ORIG-4.txt\"\n",
    "nlp = spacy.load(\"en_core_web_sm\", disable=[\"parser\"])\n",
    "with open(path, 'r', encoding='utf-8') as file:\n",
    "    toy_sentence = file.read()"
   ]
  },
  {
   "source": [
    "#### Load the Model"
   ],
   "cell_type": "markdown",
   "metadata": {}
  },
  {
   "cell_type": "code",
   "execution_count": 3,
   "metadata": {},
   "outputs": [
    {
     "output_type": "stream",
     "name": "stderr",
     "text": [
      "Some weights of RobertaForMaskedLM were not initialized from the model checkpoint at roberta-large and are newly initialized: ['lm_head.decoder.bias']\nYou should probably TRAIN this model on a down-stream task to be able to use it for predictions and inference.\n"
     ]
    }
   ],
   "source": [
    "config = AutoConfig.from_pretrained(model_name_or_path)\n",
    "tokenizer = AutoTokenizer.from_pretrained(model_name_or_path, model_max_length=max_len)\n",
    "masked_model = AutoModelForMaskedLM.from_pretrained(model_name_or_path, config=config)"
   ]
  },
  {
   "source": [
    "#### Create the Pipeline"
   ],
   "cell_type": "markdown",
   "metadata": {}
  },
  {
   "cell_type": "code",
   "execution_count": 4,
   "metadata": {},
   "outputs": [],
   "source": [
    "masked_pipe = FillMaskPipeline(model=masked_model, tokenizer=tokenizer)"
   ]
  },
  {
   "cell_type": "code",
   "execution_count": 5,
   "metadata": {},
   "outputs": [],
   "source": [
    "def check_token(token: str) -> bool:\n",
    "    return bool(re.fullmatch(r\"[A-Za-z]+([-'][A-Za-z]+)*\", token))"
   ]
  },
  {
   "cell_type": "code",
   "execution_count": 6,
   "metadata": {},
   "outputs": [],
   "source": [
    "def insert_mask(i: int, t_len: int, text: str, mask_token: str) -> str:\n",
    "    return text[:i] + mask_token + text[i+t_len:]"
   ]
  },
  {
   "source": [
    "### Set up the example text"
   ],
   "cell_type": "markdown",
   "metadata": {}
  },
  {
   "cell_type": "code",
   "execution_count": 7,
   "metadata": {},
   "outputs": [
    {
     "output_type": "stream",
     "name": "stdout",
     "text": [
      "Statton was born in Beaconsfield, Tasmania, on 21 October 1890 to Edward Statton, a miner, and his wife Maggie Lavinia (née Hoskins). He was educated at Zeehan State School, before gaining employment as a farmer in Tyenna. Giving his age as twenty-one, Statton married Elsie May Pearce in a Methodist ceremony on 12 September 1907; the couple later had a son and two daughters.\n"
     ]
    }
   ],
   "source": [
    "doc = nlp(toy_sentence)\n",
    "print(toy_sentence)"
   ]
  },
  {
   "cell_type": "code",
   "execution_count": 8,
   "metadata": {},
   "outputs": [
    {
     "output_type": "execute_result",
     "data": {
      "text/plain": [
       "array([ 1,  2,  3,  8, 12, 16, 17, 19, 20, 21, 26, 29, 30, 31, 32, 37, 38,\n",
       "       39, 40, 41, 42, 43, 46, 47, 48, 49, 50, 52, 55, 58, 59, 60, 62, 63,\n",
       "       71, 72, 73, 74, 76])"
      ]
     },
     "metadata": {},
     "execution_count": 8
    }
   ],
   "source": [
    "indices = np.array([i for i in range(len(doc))])\n",
    "for ent in doc.ents:\n",
    "    indices[ent.start:ent.end] = -1\n",
    "indices = np.array([i for i in indices if i >= 0 and check_token(doc[i].text)])\n",
    "indices"
   ]
  },
  {
   "source": [
    "### Test for the first Token that can be replaced"
   ],
   "cell_type": "markdown",
   "metadata": {}
  },
  {
   "cell_type": "code",
   "execution_count": 83,
   "metadata": {},
   "outputs": [],
   "source": [
    "t_idx = indices[0]"
   ]
  },
  {
   "source": [
    "#### for the Pipeline"
   ],
   "cell_type": "markdown",
   "metadata": {}
  },
  {
   "cell_type": "code",
   "execution_count": 87,
   "metadata": {},
   "outputs": [],
   "source": [
    "pipe_in = insert_mask(doc[t_idx].idx, len(doc[t_idx]), toy_sentence, tokenizer.mask_token)\n",
    "pipe_out = masked_pipe(pipe_in, top_k=k)\n",
    "pipe_token = np.array([t['token'] for t in pipe_out])\n",
    "pipe_socre = np.array([t['score'] for t in pipe_out])"
   ]
  },
  {
   "cell_type": "code",
   "execution_count": 88,
   "metadata": {},
   "outputs": [
    {
     "output_type": "execute_result",
     "data": {
      "text/plain": [
       "array([  21, 7325,   16,   58])"
      ]
     },
     "metadata": {},
     "execution_count": 88
    }
   ],
   "source": [
    "pipe_token"
   ]
  },
  {
   "cell_type": "code",
   "execution_count": 175,
   "metadata": {},
   "outputs": [
    {
     "output_type": "execute_result",
     "data": {
      "text/plain": [
       "['Ġwas', 'was', 'Ġis', 'Ġwere']"
      ]
     },
     "metadata": {},
     "execution_count": 175
    }
   ],
   "source": [
    "[tokenizer.convert_ids_to_tokens(int(t)) for t in pipe_token]"
   ]
  },
  {
   "cell_type": "code",
   "execution_count": 89,
   "metadata": {},
   "outputs": [
    {
     "output_type": "execute_result",
     "data": {
      "text/plain": [
       "array([9.99974489e-01, 1.05791069e-05, 4.63241895e-06, 2.47411299e-06])"
      ]
     },
     "metadata": {},
     "execution_count": 89
    }
   ],
   "source": [
    "pipe_socre"
   ]
  },
  {
   "source": [
    "#### for the normal Model"
   ],
   "cell_type": "markdown",
   "metadata": {}
  },
  {
   "source": [
    "How much of the token shuld be replaced in addition"
   ],
   "cell_type": "markdown",
   "metadata": {}
  },
  {
   "cell_type": "code",
   "execution_count": 164,
   "metadata": {},
   "outputs": [
    {
     "output_type": "execute_result",
     "data": {
      "text/plain": [
       "array([ 1, 16, 19, 20, 29, 30, 38, 46, 47, 49, 50, 52, 58, 59, 63, 71, 73,\n",
       "       76])"
      ]
     },
     "metadata": {},
     "execution_count": 164
    }
   ],
   "source": [
    "p = 0.3\n",
    "N = max(int(len([1 for t in doc if check_token(t.text)]) * p) - 1, 0)\n",
    "mask_idc = np.random.choice([i for i in indices if i != t_idx], N, replace=False)\n",
    "mask_idc = np.sort(np.append(mask_idc, t_idx))\n",
    "t_pos = np.searchsorted(mask_idc, t_idx)\n",
    "mask_idc"
   ]
  },
  {
   "cell_type": "code",
   "execution_count": 165,
   "metadata": {},
   "outputs": [
    {
     "output_type": "execute_result",
     "data": {
      "text/plain": [
       "'Statton <mask> born in Beaconsfield, Tasmania, on 21 October 1890 to Edward Statton, <mask> miner, <mask> <mask> wife Maggie Lavinia (née Hoskins). <mask> <mask> educated at Zeehan State School, before <mask> employment as a farmer in Tyenna. <mask> <mask> age <mask> <mask>-<mask>, Statton married Elsie May <mask> <mask> a Methodist ceremony <mask> 12 September 1907; the couple later <mask> a <mask> and two <mask>.'"
      ]
     },
     "metadata": {},
     "execution_count": 165
    }
   ],
   "source": [
    "model_in = toy_sentence\n",
    "for i in mask_idc[::-1]:\n",
    "    model_in = insert_mask(doc[i].idx, len(doc[i]), model_in, tokenizer.mask_token)\n",
    "model_in"
   ]
  },
  {
   "cell_type": "code",
   "execution_count": 166,
   "metadata": {},
   "outputs": [],
   "source": [
    "inputs = tokenizer(\n",
    "    model_in,\n",
    "    max_length=tokenizer.model_max_length,\n",
    "    truncation=True,\n",
    "    return_tensors='pt'\n",
    ")\n",
    "preds = masked_model(**inputs)\n",
    "activated_preds = torch.softmax(preds[0], dim=2)\n",
    "masked_token_indices = (inputs['input_ids'] == tokenizer.mask_token_id)\n",
    "masked_preds = activated_preds[masked_token_indices]\n",
    "topk = torch.topk(masked_preds, k, dim=1)\n",
    "model_token = topk.indices[t_pos].numpy()\n",
    "model_score = topk.values[t_pos].detach().numpy()"
   ]
  },
  {
   "cell_type": "code",
   "execution_count": 167,
   "metadata": {},
   "outputs": [
    {
     "output_type": "execute_result",
     "data": {
      "text/plain": [
       "array([  21,   16, 7325,   58])"
      ]
     },
     "metadata": {},
     "execution_count": 167
    }
   ],
   "source": [
    "model_token"
   ]
  },
  {
   "cell_type": "code",
   "execution_count": 174,
   "metadata": {},
   "outputs": [
    {
     "output_type": "execute_result",
     "data": {
      "text/plain": [
       "['Ġwas', 'Ġis', 'was', 'Ġwere']"
      ]
     },
     "metadata": {},
     "execution_count": 174
    }
   ],
   "source": [
    "[tokenizer.convert_ids_to_tokens(int(t)) for t in model_token]"
   ]
  },
  {
   "source": [
    "### compare the \"Models\" for one text"
   ],
   "cell_type": "markdown",
   "metadata": {}
  },
  {
   "cell_type": "code",
   "execution_count": 32,
   "metadata": {},
   "outputs": [],
   "source": [
    "p = 0.1\n",
    "N = max(int(len([1 for t in doc if check_token(t.text)]) * p) - 1, 0)"
   ]
  },
  {
   "cell_type": "code",
   "execution_count": 36,
   "metadata": {},
   "outputs": [
    {
     "output_type": "stream",
     "name": "stderr",
     "text": [
      "100%|██████████| 39/39 [00:32<00:00,  1.20it/s]\n"
     ]
    }
   ],
   "source": [
    "df = None\n",
    "store_mask_idc = dict()\n",
    "\n",
    "for t_idx in tqdm(indices):\n",
    "    # for the mask pipeline\n",
    "    pipe_in = insert_mask(doc[t_idx].idx, len(doc[t_idx]), toy_sentence, tokenizer.mask_token)\n",
    "    pipe_out = masked_pipe(pipe_in, top_k=k)\n",
    "    pipe_token = np.array([t['token'] for t in pipe_out])\n",
    "    pipe_socre = np.array([t['score'] for t in pipe_out])\n",
    "\n",
    "    # for the normal model\n",
    "    # dertement which token should be replaced in addtion\n",
    "    mask_idc = np.random.choice([i for i in indices if i != t_idx], N, replace=False)\n",
    "    mask_idc = np.sort(np.append(mask_idc, t_idx))\n",
    "    t_pos = np.searchsorted(mask_idc, t_idx)\n",
    "    # insert the mask tokens\n",
    "    model_in = toy_sentence\n",
    "    for i in mask_idc[::-1]:\n",
    "        model_in = insert_mask(doc[i].idx, len(doc[i]), model_in, tokenizer.mask_token)\n",
    "    # run the mask model\n",
    "    inputs = tokenizer(\n",
    "        model_in,\n",
    "        max_length=tokenizer.model_max_length,\n",
    "        truncation=True,\n",
    "        return_tensors='pt'\n",
    "    )\n",
    "    preds = masked_model(**inputs)\n",
    "    activated_preds = torch.softmax(preds[0], dim=2)\n",
    "    masked_token_indices = (inputs['input_ids'] == tokenizer.mask_token_id)\n",
    "    masked_preds = activated_preds[masked_token_indices]\n",
    "    topk = torch.topk(masked_preds, k, dim=1)\n",
    "    model_token = topk.indices[t_pos].numpy()\n",
    "    model_score = topk.values[t_pos].detach().numpy()\n",
    "\n",
    "    # store the results in a DataFrame\n",
    "    df_indices = [[], [], [], []]\n",
    "    df_data = {'new_pipe': [] ,'score_pipe': [], 'new_model': [], 'score_modle': []}\n",
    "\n",
    "    new_pipe = [tokenizer.convert_ids_to_tokens(int(t)) for t in pipe_token]\n",
    "    new_model = [tokenizer.convert_ids_to_tokens(int(t)) for t in model_token]\n",
    "\n",
    "    df_indices[0].extend(4*[t_idx])\n",
    "    df_indices[1].extend(4*[doc[t_idx].text])\n",
    "    df_indices[2].extend(4*[nltk.edit_distance(new_pipe, new_model, substitution_cost=2, transpositions=True)])\n",
    "    df_indices[3].extend([i+1 for i in range(4)])\n",
    "    df_data['new_pipe'].extend(new_pipe)\n",
    "    df_data['score_pipe'].extend(pipe_socre)\n",
    "    df_data['new_model'].extend(new_model)\n",
    "    df_data['score_modle'].extend(model_score)\n",
    "\n",
    "    df_MultiIndex = pd.MultiIndex.from_arrays(df_indices, names=['t_idx', 'og_token', 'edit_dist', 'pos'])\n",
    "    if type(df) is pd.DataFrame:\n",
    "       df = df.append(pd.DataFrame(df_data, index= df_MultiIndex))\n",
    "    else:\n",
    "        df = pd.DataFrame(df_data, index= df_MultiIndex)\n",
    "    # store the mask indices for the normal model\n",
    "    store_mask_idc[t_idx] = mask_idc"
   ]
  },
  {
   "cell_type": "code",
   "execution_count": 56,
   "metadata": {},
   "outputs": [
    {
     "output_type": "execute_result",
     "data": {
      "text/plain": [
       "'Statton was born in Beaconsfield, Tasmania, on 21 October 1890 to Edward Statton, a miner, and his wife Maggie Lavinia (née Hoskins). He was educated at Zeehan State School, before gaining employment as a farmer in Tyenna. Giving his age as twenty-one, Statton married Elsie May Pearce in a Methodist ceremony on 12 September 1907; the couple later had a son and two daughters.'"
      ]
     },
     "metadata": {},
     "execution_count": 56
    }
   ],
   "source": [
    "toy_sentence"
   ]
  },
  {
   "cell_type": "code",
   "execution_count": 37,
   "metadata": {},
   "outputs": [
    {
     "output_type": "execute_result",
     "data": {
      "text/plain": [
       "                             new_pipe  score_pipe new_model  score_modle\n",
       "t_idx og_token edit_dist pos                                            \n",
       "46    Giving   8         1    ĠGiving    0.595367       ĠAt     0.965172\n",
       "58    Pearce   3         1       nard    0.040820     field     0.030288\n",
       "62    ceremony 4         1    Ġchurch    0.527530   ĠChurch     0.768625"
      ],
      "text/html": "<div>\n<style scoped>\n    .dataframe tbody tr th:only-of-type {\n        vertical-align: middle;\n    }\n\n    .dataframe tbody tr th {\n        vertical-align: top;\n    }\n\n    .dataframe thead th {\n        text-align: right;\n    }\n</style>\n<table border=\"1\" class=\"dataframe\">\n  <thead>\n    <tr style=\"text-align: right;\">\n      <th></th>\n      <th></th>\n      <th></th>\n      <th></th>\n      <th>new_pipe</th>\n      <th>score_pipe</th>\n      <th>new_model</th>\n      <th>score_modle</th>\n    </tr>\n    <tr>\n      <th>t_idx</th>\n      <th>og_token</th>\n      <th>edit_dist</th>\n      <th>pos</th>\n      <th></th>\n      <th></th>\n      <th></th>\n      <th></th>\n    </tr>\n  </thead>\n  <tbody>\n    <tr>\n      <th>46</th>\n      <th>Giving</th>\n      <th>8</th>\n      <th>1</th>\n      <td>ĠGiving</td>\n      <td>0.595367</td>\n      <td>ĠAt</td>\n      <td>0.965172</td>\n    </tr>\n    <tr>\n      <th>58</th>\n      <th>Pearce</th>\n      <th>3</th>\n      <th>1</th>\n      <td>nard</td>\n      <td>0.040820</td>\n      <td>field</td>\n      <td>0.030288</td>\n    </tr>\n    <tr>\n      <th>62</th>\n      <th>ceremony</th>\n      <th>4</th>\n      <th>1</th>\n      <td>Ġchurch</td>\n      <td>0.527530</td>\n      <td>ĠChurch</td>\n      <td>0.768625</td>\n    </tr>\n  </tbody>\n</table>\n</div>"
     },
     "metadata": {},
     "execution_count": 37
    }
   ],
   "source": [
    "df.query('pos == 1 & new_pipe != new_model')"
   ]
  },
  {
   "cell_type": "code",
   "execution_count": 38,
   "metadata": {},
   "outputs": [
    {
     "output_type": "execute_result",
     "data": {
      "text/plain": [
       "array([19, 29, 38, 58, 62, 74])"
      ]
     },
     "metadata": {},
     "execution_count": 38
    }
   ],
   "source": [
    "store_mask_idc[58]"
   ]
  },
  {
   "cell_type": "code",
   "execution_count": 39,
   "metadata": {},
   "outputs": [
    {
     "output_type": "execute_result",
     "data": {
      "text/plain": [
       "                                new_pipe  score_pipe new_model  score_modle\n",
       "t_idx og_token edit_dist pos                                               \n",
       "46    Giving   8         2    ĠReporting    0.311990       ĠOn     0.008358\n",
       "58    Pearce   3         2         field    0.039326      nard     0.020772\n",
       "62    ceremony 4         2     Ġceremony    0.175827   Ġchurch     0.189142\n",
       "63    on       2         2        Ġdated    0.000574       Ġin     0.000528"
      ],
      "text/html": "<div>\n<style scoped>\n    .dataframe tbody tr th:only-of-type {\n        vertical-align: middle;\n    }\n\n    .dataframe tbody tr th {\n        vertical-align: top;\n    }\n\n    .dataframe thead th {\n        text-align: right;\n    }\n</style>\n<table border=\"1\" class=\"dataframe\">\n  <thead>\n    <tr style=\"text-align: right;\">\n      <th></th>\n      <th></th>\n      <th></th>\n      <th></th>\n      <th>new_pipe</th>\n      <th>score_pipe</th>\n      <th>new_model</th>\n      <th>score_modle</th>\n    </tr>\n    <tr>\n      <th>t_idx</th>\n      <th>og_token</th>\n      <th>edit_dist</th>\n      <th>pos</th>\n      <th></th>\n      <th></th>\n      <th></th>\n      <th></th>\n    </tr>\n  </thead>\n  <tbody>\n    <tr>\n      <th>46</th>\n      <th>Giving</th>\n      <th>8</th>\n      <th>2</th>\n      <td>ĠReporting</td>\n      <td>0.311990</td>\n      <td>ĠOn</td>\n      <td>0.008358</td>\n    </tr>\n    <tr>\n      <th>58</th>\n      <th>Pearce</th>\n      <th>3</th>\n      <th>2</th>\n      <td>field</td>\n      <td>0.039326</td>\n      <td>nard</td>\n      <td>0.020772</td>\n    </tr>\n    <tr>\n      <th>62</th>\n      <th>ceremony</th>\n      <th>4</th>\n      <th>2</th>\n      <td>Ġceremony</td>\n      <td>0.175827</td>\n      <td>Ġchurch</td>\n      <td>0.189142</td>\n    </tr>\n    <tr>\n      <th>63</th>\n      <th>on</th>\n      <th>2</th>\n      <th>2</th>\n      <td>Ġdated</td>\n      <td>0.000574</td>\n      <td>Ġin</td>\n      <td>0.000528</td>\n    </tr>\n  </tbody>\n</table>\n</div>"
     },
     "metadata": {},
     "execution_count": 39
    }
   ],
   "source": [
    "df.query('pos == 2 & new_pipe != new_model')"
   ]
  },
  {
   "cell_type": "code",
   "execution_count": 40,
   "metadata": {},
   "outputs": [
    {
     "output_type": "execute_result",
     "data": {
      "text/plain": [
       "                               new_pipe    score_pipe  new_model  score_modle\n",
       "t_idx og_token edit_dist pos                                                 \n",
       "2     born     0         1        Ġborn  9.999921e-01      Ġborn     0.999989\n",
       "                         2        ĠBorn  2.734768e-06      ĠBorn     0.000004\n",
       "                         3         born  2.513455e-06       born     0.000003\n",
       "                         4    Ġbaptized  8.927365e-07  Ġbaptized     0.000001"
      ],
      "text/html": "<div>\n<style scoped>\n    .dataframe tbody tr th:only-of-type {\n        vertical-align: middle;\n    }\n\n    .dataframe tbody tr th {\n        vertical-align: top;\n    }\n\n    .dataframe thead th {\n        text-align: right;\n    }\n</style>\n<table border=\"1\" class=\"dataframe\">\n  <thead>\n    <tr style=\"text-align: right;\">\n      <th></th>\n      <th></th>\n      <th></th>\n      <th></th>\n      <th>new_pipe</th>\n      <th>score_pipe</th>\n      <th>new_model</th>\n      <th>score_modle</th>\n    </tr>\n    <tr>\n      <th>t_idx</th>\n      <th>og_token</th>\n      <th>edit_dist</th>\n      <th>pos</th>\n      <th></th>\n      <th></th>\n      <th></th>\n      <th></th>\n    </tr>\n  </thead>\n  <tbody>\n    <tr>\n      <th rowspan=\"4\" valign=\"top\">2</th>\n      <th rowspan=\"4\" valign=\"top\">born</th>\n      <th rowspan=\"4\" valign=\"top\">0</th>\n      <th>1</th>\n      <td>Ġborn</td>\n      <td>9.999921e-01</td>\n      <td>Ġborn</td>\n      <td>0.999989</td>\n    </tr>\n    <tr>\n      <th>2</th>\n      <td>ĠBorn</td>\n      <td>2.734768e-06</td>\n      <td>ĠBorn</td>\n      <td>0.000004</td>\n    </tr>\n    <tr>\n      <th>3</th>\n      <td>born</td>\n      <td>2.513455e-06</td>\n      <td>born</td>\n      <td>0.000003</td>\n    </tr>\n    <tr>\n      <th>4</th>\n      <td>Ġbaptized</td>\n      <td>8.927365e-07</td>\n      <td>Ġbaptized</td>\n      <td>0.000001</td>\n    </tr>\n  </tbody>\n</table>\n</div>"
     },
     "metadata": {},
     "execution_count": 40
    }
   ],
   "source": [
    "df.query('t_idx == 2')"
   ]
  },
  {
   "cell_type": "code",
   "execution_count": 49,
   "metadata": {},
   "outputs": [
    {
     "output_type": "execute_result",
     "data": {
      "text/plain": [
       "                                 new_pipe  score_pipe new_model  score_modle\n",
       "t_idx og_token edit_dist pos                                                \n",
       "46    Giving   8         1        ĠGiving    0.595367       ĠAt     0.965172\n",
       "                         2     ĠReporting    0.311990       ĠOn     0.008358\n",
       "                         3     ĠRecording    0.029245  ĠDespite     0.008125\n",
       "                         4    ĠAccounting    0.013219       ĠBy     0.006876"
      ],
      "text/html": "<div>\n<style scoped>\n    .dataframe tbody tr th:only-of-type {\n        vertical-align: middle;\n    }\n\n    .dataframe tbody tr th {\n        vertical-align: top;\n    }\n\n    .dataframe thead th {\n        text-align: right;\n    }\n</style>\n<table border=\"1\" class=\"dataframe\">\n  <thead>\n    <tr style=\"text-align: right;\">\n      <th></th>\n      <th></th>\n      <th></th>\n      <th></th>\n      <th>new_pipe</th>\n      <th>score_pipe</th>\n      <th>new_model</th>\n      <th>score_modle</th>\n    </tr>\n    <tr>\n      <th>t_idx</th>\n      <th>og_token</th>\n      <th>edit_dist</th>\n      <th>pos</th>\n      <th></th>\n      <th></th>\n      <th></th>\n      <th></th>\n    </tr>\n  </thead>\n  <tbody>\n    <tr>\n      <th rowspan=\"4\" valign=\"top\">46</th>\n      <th rowspan=\"4\" valign=\"top\">Giving</th>\n      <th rowspan=\"4\" valign=\"top\">8</th>\n      <th>1</th>\n      <td>ĠGiving</td>\n      <td>0.595367</td>\n      <td>ĠAt</td>\n      <td>0.965172</td>\n    </tr>\n    <tr>\n      <th>2</th>\n      <td>ĠReporting</td>\n      <td>0.311990</td>\n      <td>ĠOn</td>\n      <td>0.008358</td>\n    </tr>\n    <tr>\n      <th>3</th>\n      <td>ĠRecording</td>\n      <td>0.029245</td>\n      <td>ĠDespite</td>\n      <td>0.008125</td>\n    </tr>\n    <tr>\n      <th>4</th>\n      <td>ĠAccounting</td>\n      <td>0.013219</td>\n      <td>ĠBy</td>\n      <td>0.006876</td>\n    </tr>\n  </tbody>\n</table>\n</div>"
     },
     "metadata": {},
     "execution_count": 49
    }
   ],
   "source": [
    "df.query('edit_dist == 8')"
   ]
  },
  {
   "cell_type": "code",
   "execution_count": 78,
   "metadata": {},
   "outputs": [
    {
     "output_type": "execute_result",
     "data": {
      "text/plain": [
       "<AxesSubplot:>"
      ]
     },
     "metadata": {},
     "execution_count": 78
    },
    {
     "output_type": "display_data",
     "data": {
      "text/plain": "<Figure size 432x288 with 1 Axes>",
      "image/svg+xml": "<?xml version=\"1.0\" encoding=\"utf-8\" standalone=\"no\"?>\n<!DOCTYPE svg PUBLIC \"-//W3C//DTD SVG 1.1//EN\"\n  \"http://www.w3.org/Graphics/SVG/1.1/DTD/svg11.dtd\">\n<!-- Created with matplotlib (https://matplotlib.org/) -->\n<svg height=\"248.518125pt\" version=\"1.1\" viewBox=\"0 0 367.813942 248.518125\" width=\"367.813942pt\" xmlns=\"http://www.w3.org/2000/svg\" xmlns:xlink=\"http://www.w3.org/1999/xlink\">\n <metadata>\n  <rdf:RDF xmlns:cc=\"http://creativecommons.org/ns#\" xmlns:dc=\"http://purl.org/dc/elements/1.1/\" xmlns:rdf=\"http://www.w3.org/1999/02/22-rdf-syntax-ns#\">\n   <cc:Work>\n    <dc:type rdf:resource=\"http://purl.org/dc/dcmitype/StillImage\"/>\n    <dc:date>2021-02-14T17:51:10.860862</dc:date>\n    <dc:format>image/svg+xml</dc:format>\n    <dc:creator>\n     <cc:Agent>\n      <dc:title>Matplotlib v3.3.2, https://matplotlib.org/</dc:title>\n     </cc:Agent>\n    </dc:creator>\n   </cc:Work>\n  </rdf:RDF>\n </metadata>\n <defs>\n  <style type=\"text/css\">*{stroke-linecap:butt;stroke-linejoin:round;}</style>\n </defs>\n <g id=\"figure_1\">\n  <g id=\"patch_1\">\n   <path d=\"M 0 248.518125 \nL 367.813942 248.518125 \nL 367.813942 0 \nL 0 0 \nz\n\" style=\"fill:none;\"/>\n  </g>\n  <g id=\"axes_1\">\n   <g id=\"patch_2\">\n    <path d=\"M 20.5625 224.64 \nL 355.3625 224.64 \nL 355.3625 7.2 \nL 20.5625 7.2 \nz\n\" style=\"fill:#ffffff;\"/>\n   </g>\n   <g id=\"patch_3\">\n    <path clip-path=\"url(#p3c4b13789d)\" d=\"M 22.708654 224.64 \nL 27.000962 224.64 \nL 27.000962 224.64 \nL 22.708654 224.64 \nz\n\" style=\"fill:#1f77b4;\"/>\n   </g>\n   <g id=\"patch_4\">\n    <path clip-path=\"url(#p3c4b13789d)\" d=\"M 31.293269 224.64 \nL 35.585577 224.64 \nL 35.585577 224.64 \nL 31.293269 224.64 \nz\n\" style=\"fill:#1f77b4;\"/>\n   </g>\n   <g id=\"patch_5\">\n    <path clip-path=\"url(#p3c4b13789d)\" d=\"M 39.877885 224.64 \nL 44.170192 224.64 \nL 44.170192 224.64 \nL 39.877885 224.64 \nz\n\" style=\"fill:#1f77b4;\"/>\n   </g>\n   <g id=\"patch_6\">\n    <path clip-path=\"url(#p3c4b13789d)\" d=\"M 48.4625 224.64 \nL 52.754808 224.64 \nL 52.754808 172.868571 \nL 48.4625 172.868571 \nz\n\" style=\"fill:#1f77b4;\"/>\n   </g>\n   <g id=\"patch_7\">\n    <path clip-path=\"url(#p3c4b13789d)\" d=\"M 57.047115 224.64 \nL 61.339423 224.64 \nL 61.339423 172.868571 \nL 57.047115 172.868571 \nz\n\" style=\"fill:#1f77b4;\"/>\n   </g>\n   <g id=\"patch_8\">\n    <path clip-path=\"url(#p3c4b13789d)\" d=\"M 65.631731 224.64 \nL 69.924038 224.64 \nL 69.924038 224.64 \nL 65.631731 224.64 \nz\n\" style=\"fill:#1f77b4;\"/>\n   </g>\n   <g id=\"patch_9\">\n    <path clip-path=\"url(#p3c4b13789d)\" d=\"M 74.216346 224.64 \nL 78.508654 224.64 \nL 78.508654 198.754286 \nL 74.216346 198.754286 \nz\n\" style=\"fill:#1f77b4;\"/>\n   </g>\n   <g id=\"patch_10\">\n    <path clip-path=\"url(#p3c4b13789d)\" d=\"M 82.800962 224.64 \nL 87.093269 224.64 \nL 87.093269 224.64 \nL 82.800962 224.64 \nz\n\" style=\"fill:#1f77b4;\"/>\n   </g>\n   <g id=\"patch_11\">\n    <path clip-path=\"url(#p3c4b13789d)\" d=\"M 91.385577 224.64 \nL 95.677885 224.64 \nL 95.677885 224.64 \nL 91.385577 224.64 \nz\n\" style=\"fill:#1f77b4;\"/>\n   </g>\n   <g id=\"patch_12\">\n    <path clip-path=\"url(#p3c4b13789d)\" d=\"M 99.970192 224.64 \nL 104.2625 224.64 \nL 104.2625 172.868571 \nL 99.970192 172.868571 \nz\n\" style=\"fill:#1f77b4;\"/>\n   </g>\n   <g id=\"patch_13\">\n    <path clip-path=\"url(#p3c4b13789d)\" d=\"M 108.554808 224.64 \nL 112.847115 224.64 \nL 112.847115 224.64 \nL 108.554808 224.64 \nz\n\" style=\"fill:#1f77b4;\"/>\n   </g>\n   <g id=\"patch_14\">\n    <path clip-path=\"url(#p3c4b13789d)\" d=\"M 117.139423 224.64 \nL 121.431731 224.64 \nL 121.431731 224.64 \nL 117.139423 224.64 \nz\n\" style=\"fill:#1f77b4;\"/>\n   </g>\n   <g id=\"patch_15\">\n    <path clip-path=\"url(#p3c4b13789d)\" d=\"M 125.724038 224.64 \nL 130.016346 224.64 \nL 130.016346 172.868571 \nL 125.724038 172.868571 \nz\n\" style=\"fill:#1f77b4;\"/>\n   </g>\n   <g id=\"patch_16\">\n    <path clip-path=\"url(#p3c4b13789d)\" d=\"M 134.308654 224.64 \nL 138.600962 224.64 \nL 138.600962 172.868571 \nL 134.308654 172.868571 \nz\n\" style=\"fill:#1f77b4;\"/>\n   </g>\n   <g id=\"patch_17\">\n    <path clip-path=\"url(#p3c4b13789d)\" d=\"M 142.893269 224.64 \nL 147.185577 224.64 \nL 147.185577 224.64 \nL 142.893269 224.64 \nz\n\" style=\"fill:#1f77b4;\"/>\n   </g>\n   <g id=\"patch_18\">\n    <path clip-path=\"url(#p3c4b13789d)\" d=\"M 151.477885 224.64 \nL 155.770192 224.64 \nL 155.770192 172.868571 \nL 151.477885 172.868571 \nz\n\" style=\"fill:#1f77b4;\"/>\n   </g>\n   <g id=\"patch_19\">\n    <path clip-path=\"url(#p3c4b13789d)\" d=\"M 160.0625 224.64 \nL 164.354808 224.64 \nL 164.354808 224.64 \nL 160.0625 224.64 \nz\n\" style=\"fill:#1f77b4;\"/>\n   </g>\n   <g id=\"patch_20\">\n    <path clip-path=\"url(#p3c4b13789d)\" d=\"M 168.647115 224.64 \nL 172.939423 224.64 \nL 172.939423 172.868571 \nL 168.647115 172.868571 \nz\n\" style=\"fill:#1f77b4;\"/>\n   </g>\n   <g id=\"patch_21\">\n    <path clip-path=\"url(#p3c4b13789d)\" d=\"M 177.231731 224.64 \nL 181.524038 224.64 \nL 181.524038 121.097143 \nL 177.231731 121.097143 \nz\n\" style=\"fill:#1f77b4;\"/>\n   </g>\n   <g id=\"patch_22\">\n    <path clip-path=\"url(#p3c4b13789d)\" d=\"M 185.816346 224.64 \nL 190.108654 224.64 \nL 190.108654 224.64 \nL 185.816346 224.64 \nz\n\" style=\"fill:#1f77b4;\"/>\n   </g>\n   <g id=\"patch_23\">\n    <path clip-path=\"url(#p3c4b13789d)\" d=\"M 194.400962 224.64 \nL 198.693269 224.64 \nL 198.693269 172.868571 \nL 194.400962 172.868571 \nz\n\" style=\"fill:#1f77b4;\"/>\n   </g>\n   <g id=\"patch_24\">\n    <path clip-path=\"url(#p3c4b13789d)\" d=\"M 202.985577 224.64 \nL 207.277885 224.64 \nL 207.277885 172.868571 \nL 202.985577 172.868571 \nz\n\" style=\"fill:#1f77b4;\"/>\n   </g>\n   <g id=\"patch_25\">\n    <path clip-path=\"url(#p3c4b13789d)\" d=\"M 211.570192 224.64 \nL 215.8625 224.64 \nL 215.8625 17.554286 \nL 211.570192 17.554286 \nz\n\" style=\"fill:#1f77b4;\"/>\n   </g>\n   <g id=\"patch_26\">\n    <path clip-path=\"url(#p3c4b13789d)\" d=\"M 220.154808 224.64 \nL 224.447115 224.64 \nL 224.447115 224.64 \nL 220.154808 224.64 \nz\n\" style=\"fill:#1f77b4;\"/>\n   </g>\n   <g id=\"patch_27\">\n    <path clip-path=\"url(#p3c4b13789d)\" d=\"M 228.739423 224.64 \nL 233.031731 224.64 \nL 233.031731 224.64 \nL 228.739423 224.64 \nz\n\" style=\"fill:#1f77b4;\"/>\n   </g>\n   <g id=\"patch_28\">\n    <path clip-path=\"url(#p3c4b13789d)\" d=\"M 237.324038 224.64 \nL 241.616346 224.64 \nL 241.616346 224.64 \nL 237.324038 224.64 \nz\n\" style=\"fill:#1f77b4;\"/>\n   </g>\n   <g id=\"patch_29\">\n    <path clip-path=\"url(#p3c4b13789d)\" d=\"M 245.908654 224.64 \nL 250.200962 224.64 \nL 250.200962 224.64 \nL 245.908654 224.64 \nz\n\" style=\"fill:#1f77b4;\"/>\n   </g>\n   <g id=\"patch_30\">\n    <path clip-path=\"url(#p3c4b13789d)\" d=\"M 254.493269 224.64 \nL 258.785577 224.64 \nL 258.785577 172.868571 \nL 254.493269 172.868571 \nz\n\" style=\"fill:#1f77b4;\"/>\n   </g>\n   <g id=\"patch_31\">\n    <path clip-path=\"url(#p3c4b13789d)\" d=\"M 263.077885 224.64 \nL 267.370192 224.64 \nL 267.370192 198.754286 \nL 263.077885 198.754286 \nz\n\" style=\"fill:#1f77b4;\"/>\n   </g>\n   <g id=\"patch_32\">\n    <path clip-path=\"url(#p3c4b13789d)\" d=\"M 271.6625 224.64 \nL 275.954808 224.64 \nL 275.954808 146.982857 \nL 271.6625 146.982857 \nz\n\" style=\"fill:#1f77b4;\"/>\n   </g>\n   <g id=\"patch_33\">\n    <path clip-path=\"url(#p3c4b13789d)\" d=\"M 280.247115 224.64 \nL 284.539423 224.64 \nL 284.539423 172.868571 \nL 280.247115 172.868571 \nz\n\" style=\"fill:#1f77b4;\"/>\n   </g>\n   <g id=\"patch_34\">\n    <path clip-path=\"url(#p3c4b13789d)\" d=\"M 288.831731 224.64 \nL 293.124038 224.64 \nL 293.124038 224.64 \nL 288.831731 224.64 \nz\n\" style=\"fill:#1f77b4;\"/>\n   </g>\n   <g id=\"patch_35\">\n    <path clip-path=\"url(#p3c4b13789d)\" d=\"M 297.416346 224.64 \nL 301.708654 224.64 \nL 301.708654 121.097143 \nL 297.416346 121.097143 \nz\n\" style=\"fill:#1f77b4;\"/>\n   </g>\n   <g id=\"patch_36\">\n    <path clip-path=\"url(#p3c4b13789d)\" d=\"M 306.000962 224.64 \nL 310.293269 224.64 \nL 310.293269 172.868571 \nL 306.000962 172.868571 \nz\n\" style=\"fill:#1f77b4;\"/>\n   </g>\n   <g id=\"patch_37\">\n    <path clip-path=\"url(#p3c4b13789d)\" d=\"M 314.585577 224.64 \nL 318.877885 224.64 \nL 318.877885 224.64 \nL 314.585577 224.64 \nz\n\" style=\"fill:#1f77b4;\"/>\n   </g>\n   <g id=\"patch_38\">\n    <path clip-path=\"url(#p3c4b13789d)\" d=\"M 323.170192 224.64 \nL 327.4625 224.64 \nL 327.4625 224.64 \nL 323.170192 224.64 \nz\n\" style=\"fill:#1f77b4;\"/>\n   </g>\n   <g id=\"patch_39\">\n    <path clip-path=\"url(#p3c4b13789d)\" d=\"M 331.754808 224.64 \nL 336.047115 224.64 \nL 336.047115 224.64 \nL 331.754808 224.64 \nz\n\" style=\"fill:#1f77b4;\"/>\n   </g>\n   <g id=\"patch_40\">\n    <path clip-path=\"url(#p3c4b13789d)\" d=\"M 340.339423 224.64 \nL 344.631731 224.64 \nL 344.631731 224.64 \nL 340.339423 224.64 \nz\n\" style=\"fill:#1f77b4;\"/>\n   </g>\n   <g id=\"patch_41\">\n    <path clip-path=\"url(#p3c4b13789d)\" d=\"M 348.924038 224.64 \nL 353.216346 224.64 \nL 353.216346 224.64 \nL 348.924038 224.64 \nz\n\" style=\"fill:#1f77b4;\"/>\n   </g>\n   <g id=\"matplotlib.axis_1\">\n    <g id=\"xtick_1\">\n     <g id=\"line2d_1\">\n      <defs>\n       <path d=\"M 0 0 \nL 0 3.5 \n\" id=\"ma08fd82c5f\" style=\"stroke:#000000;stroke-width:0.8;\"/>\n      </defs>\n      <g>\n       <use style=\"stroke:#000000;stroke-width:0.8;\" x=\"24.854808\" xlink:href=\"#ma08fd82c5f\" y=\"224.64\"/>\n      </g>\n     </g>\n     <g id=\"text_1\">\n      <!-- 0 -->\n      <g transform=\"translate(21.673558 239.238437)scale(0.1 -0.1)\">\n       <defs>\n        <path d=\"M 31.78125 66.40625 \nQ 24.171875 66.40625 20.328125 58.90625 \nQ 16.5 51.421875 16.5 36.375 \nQ 16.5 21.390625 20.328125 13.890625 \nQ 24.171875 6.390625 31.78125 6.390625 \nQ 39.453125 6.390625 43.28125 13.890625 \nQ 47.125 21.390625 47.125 36.375 \nQ 47.125 51.421875 43.28125 58.90625 \nQ 39.453125 66.40625 31.78125 66.40625 \nz\nM 31.78125 74.21875 \nQ 44.046875 74.21875 50.515625 64.515625 \nQ 56.984375 54.828125 56.984375 36.375 \nQ 56.984375 17.96875 50.515625 8.265625 \nQ 44.046875 -1.421875 31.78125 -1.421875 \nQ 19.53125 -1.421875 13.0625 8.265625 \nQ 6.59375 17.96875 6.59375 36.375 \nQ 6.59375 54.828125 13.0625 64.515625 \nQ 19.53125 74.21875 31.78125 74.21875 \nz\n\" id=\"DejaVuSans-48\"/>\n       </defs>\n       <use xlink:href=\"#DejaVuSans-48\"/>\n      </g>\n     </g>\n    </g>\n    <g id=\"xtick_2\">\n     <g id=\"line2d_2\">\n      <g>\n       <use style=\"stroke:#000000;stroke-width:0.8;\" x=\"33.439423\" xlink:href=\"#ma08fd82c5f\" y=\"224.64\"/>\n      </g>\n     </g>\n     <g id=\"text_2\">\n      <!-- 4 -->\n      <g transform=\"translate(30.258173 239.238437)scale(0.1 -0.1)\">\n       <defs>\n        <path d=\"M 37.796875 64.3125 \nL 12.890625 25.390625 \nL 37.796875 25.390625 \nz\nM 35.203125 72.90625 \nL 47.609375 72.90625 \nL 47.609375 25.390625 \nL 58.015625 25.390625 \nL 58.015625 17.1875 \nL 47.609375 17.1875 \nL 47.609375 0 \nL 37.796875 0 \nL 37.796875 17.1875 \nL 4.890625 17.1875 \nL 4.890625 26.703125 \nz\n\" id=\"DejaVuSans-52\"/>\n       </defs>\n       <use xlink:href=\"#DejaVuSans-52\"/>\n      </g>\n     </g>\n    </g>\n    <g id=\"xtick_3\">\n     <g id=\"line2d_3\">\n      <g>\n       <use style=\"stroke:#000000;stroke-width:0.8;\" x=\"42.024038\" xlink:href=\"#ma08fd82c5f\" y=\"224.64\"/>\n      </g>\n     </g>\n     <g id=\"text_3\">\n      <!-- 8 -->\n      <g transform=\"translate(38.842788 239.238437)scale(0.1 -0.1)\">\n       <defs>\n        <path d=\"M 31.78125 34.625 \nQ 24.75 34.625 20.71875 30.859375 \nQ 16.703125 27.09375 16.703125 20.515625 \nQ 16.703125 13.921875 20.71875 10.15625 \nQ 24.75 6.390625 31.78125 6.390625 \nQ 38.8125 6.390625 42.859375 10.171875 \nQ 46.921875 13.96875 46.921875 20.515625 \nQ 46.921875 27.09375 42.890625 30.859375 \nQ 38.875 34.625 31.78125 34.625 \nz\nM 21.921875 38.8125 \nQ 15.578125 40.375 12.03125 44.71875 \nQ 8.5 49.078125 8.5 55.328125 \nQ 8.5 64.0625 14.71875 69.140625 \nQ 20.953125 74.21875 31.78125 74.21875 \nQ 42.671875 74.21875 48.875 69.140625 \nQ 55.078125 64.0625 55.078125 55.328125 \nQ 55.078125 49.078125 51.53125 44.71875 \nQ 48 40.375 41.703125 38.8125 \nQ 48.828125 37.15625 52.796875 32.3125 \nQ 56.78125 27.484375 56.78125 20.515625 \nQ 56.78125 9.90625 50.3125 4.234375 \nQ 43.84375 -1.421875 31.78125 -1.421875 \nQ 19.734375 -1.421875 13.25 4.234375 \nQ 6.78125 9.90625 6.78125 20.515625 \nQ 6.78125 27.484375 10.78125 32.3125 \nQ 14.796875 37.15625 21.921875 38.8125 \nz\nM 18.3125 54.390625 \nQ 18.3125 48.734375 21.84375 45.5625 \nQ 25.390625 42.390625 31.78125 42.390625 \nQ 38.140625 42.390625 41.71875 45.5625 \nQ 45.3125 48.734375 45.3125 54.390625 \nQ 45.3125 60.0625 41.71875 63.234375 \nQ 38.140625 66.40625 31.78125 66.40625 \nQ 25.390625 66.40625 21.84375 63.234375 \nQ 18.3125 60.0625 18.3125 54.390625 \nz\n\" id=\"DejaVuSans-56\"/>\n       </defs>\n       <use xlink:href=\"#DejaVuSans-56\"/>\n      </g>\n     </g>\n    </g>\n    <g id=\"xtick_4\">\n     <g id=\"line2d_4\">\n      <g>\n       <use style=\"stroke:#000000;stroke-width:0.8;\" x=\"50.608654\" xlink:href=\"#ma08fd82c5f\" y=\"224.64\"/>\n      </g>\n     </g>\n     <g id=\"text_4\">\n      <!-- 12 -->\n      <g transform=\"translate(44.246154 239.238437)scale(0.1 -0.1)\">\n       <defs>\n        <path d=\"M 12.40625 8.296875 \nL 28.515625 8.296875 \nL 28.515625 63.921875 \nL 10.984375 60.40625 \nL 10.984375 69.390625 \nL 28.421875 72.90625 \nL 38.28125 72.90625 \nL 38.28125 8.296875 \nL 54.390625 8.296875 \nL 54.390625 0 \nL 12.40625 0 \nz\n\" id=\"DejaVuSans-49\"/>\n        <path d=\"M 19.1875 8.296875 \nL 53.609375 8.296875 \nL 53.609375 0 \nL 7.328125 0 \nL 7.328125 8.296875 \nQ 12.9375 14.109375 22.625 23.890625 \nQ 32.328125 33.6875 34.8125 36.53125 \nQ 39.546875 41.84375 41.421875 45.53125 \nQ 43.3125 49.21875 43.3125 52.78125 \nQ 43.3125 58.59375 39.234375 62.25 \nQ 35.15625 65.921875 28.609375 65.921875 \nQ 23.96875 65.921875 18.8125 64.3125 \nQ 13.671875 62.703125 7.8125 59.421875 \nL 7.8125 69.390625 \nQ 13.765625 71.78125 18.9375 73 \nQ 24.125 74.21875 28.421875 74.21875 \nQ 39.75 74.21875 46.484375 68.546875 \nQ 53.21875 62.890625 53.21875 53.421875 \nQ 53.21875 48.921875 51.53125 44.890625 \nQ 49.859375 40.875 45.40625 35.40625 \nQ 44.1875 33.984375 37.640625 27.21875 \nQ 31.109375 20.453125 19.1875 8.296875 \nz\n\" id=\"DejaVuSans-50\"/>\n       </defs>\n       <use xlink:href=\"#DejaVuSans-49\"/>\n       <use x=\"63.623047\" xlink:href=\"#DejaVuSans-50\"/>\n      </g>\n     </g>\n    </g>\n    <g id=\"xtick_5\">\n     <g id=\"line2d_5\">\n      <g>\n       <use style=\"stroke:#000000;stroke-width:0.8;\" x=\"59.193269\" xlink:href=\"#ma08fd82c5f\" y=\"224.64\"/>\n      </g>\n     </g>\n     <g id=\"text_5\">\n      <!-- 16 -->\n      <g transform=\"translate(52.830769 239.238437)scale(0.1 -0.1)\">\n       <defs>\n        <path d=\"M 33.015625 40.375 \nQ 26.375 40.375 22.484375 35.828125 \nQ 18.609375 31.296875 18.609375 23.390625 \nQ 18.609375 15.53125 22.484375 10.953125 \nQ 26.375 6.390625 33.015625 6.390625 \nQ 39.65625 6.390625 43.53125 10.953125 \nQ 47.40625 15.53125 47.40625 23.390625 \nQ 47.40625 31.296875 43.53125 35.828125 \nQ 39.65625 40.375 33.015625 40.375 \nz\nM 52.59375 71.296875 \nL 52.59375 62.3125 \nQ 48.875 64.0625 45.09375 64.984375 \nQ 41.3125 65.921875 37.59375 65.921875 \nQ 27.828125 65.921875 22.671875 59.328125 \nQ 17.53125 52.734375 16.796875 39.40625 \nQ 19.671875 43.65625 24.015625 45.921875 \nQ 28.375 48.1875 33.59375 48.1875 \nQ 44.578125 48.1875 50.953125 41.515625 \nQ 57.328125 34.859375 57.328125 23.390625 \nQ 57.328125 12.15625 50.6875 5.359375 \nQ 44.046875 -1.421875 33.015625 -1.421875 \nQ 20.359375 -1.421875 13.671875 8.265625 \nQ 6.984375 17.96875 6.984375 36.375 \nQ 6.984375 53.65625 15.1875 63.9375 \nQ 23.390625 74.21875 37.203125 74.21875 \nQ 40.921875 74.21875 44.703125 73.484375 \nQ 48.484375 72.75 52.59375 71.296875 \nz\n\" id=\"DejaVuSans-54\"/>\n       </defs>\n       <use xlink:href=\"#DejaVuSans-49\"/>\n       <use x=\"63.623047\" xlink:href=\"#DejaVuSans-54\"/>\n      </g>\n     </g>\n    </g>\n    <g id=\"xtick_6\">\n     <g id=\"line2d_6\">\n      <g>\n       <use style=\"stroke:#000000;stroke-width:0.8;\" x=\"67.777885\" xlink:href=\"#ma08fd82c5f\" y=\"224.64\"/>\n      </g>\n     </g>\n     <g id=\"text_6\">\n      <!-- 20 -->\n      <g transform=\"translate(61.415385 239.238437)scale(0.1 -0.1)\">\n       <use xlink:href=\"#DejaVuSans-50\"/>\n       <use x=\"63.623047\" xlink:href=\"#DejaVuSans-48\"/>\n      </g>\n     </g>\n    </g>\n    <g id=\"xtick_7\">\n     <g id=\"line2d_7\">\n      <g>\n       <use style=\"stroke:#000000;stroke-width:0.8;\" x=\"76.3625\" xlink:href=\"#ma08fd82c5f\" y=\"224.64\"/>\n      </g>\n     </g>\n     <g id=\"text_7\">\n      <!-- 24 -->\n      <g transform=\"translate(70 239.238437)scale(0.1 -0.1)\">\n       <use xlink:href=\"#DejaVuSans-50\"/>\n       <use x=\"63.623047\" xlink:href=\"#DejaVuSans-52\"/>\n      </g>\n     </g>\n    </g>\n    <g id=\"xtick_8\">\n     <g id=\"line2d_8\">\n      <g>\n       <use style=\"stroke:#000000;stroke-width:0.8;\" x=\"84.947115\" xlink:href=\"#ma08fd82c5f\" y=\"224.64\"/>\n      </g>\n     </g>\n     <g id=\"text_8\">\n      <!-- 28 -->\n      <g transform=\"translate(78.584615 239.238437)scale(0.1 -0.1)\">\n       <use xlink:href=\"#DejaVuSans-50\"/>\n       <use x=\"63.623047\" xlink:href=\"#DejaVuSans-56\"/>\n      </g>\n     </g>\n    </g>\n    <g id=\"xtick_9\">\n     <g id=\"line2d_9\">\n      <g>\n       <use style=\"stroke:#000000;stroke-width:0.8;\" x=\"93.531731\" xlink:href=\"#ma08fd82c5f\" y=\"224.64\"/>\n      </g>\n     </g>\n     <g id=\"text_9\">\n      <!-- 32 -->\n      <g transform=\"translate(87.169231 239.238437)scale(0.1 -0.1)\">\n       <defs>\n        <path d=\"M 40.578125 39.3125 \nQ 47.65625 37.796875 51.625 33 \nQ 55.609375 28.21875 55.609375 21.1875 \nQ 55.609375 10.40625 48.1875 4.484375 \nQ 40.765625 -1.421875 27.09375 -1.421875 \nQ 22.515625 -1.421875 17.65625 -0.515625 \nQ 12.796875 0.390625 7.625 2.203125 \nL 7.625 11.71875 \nQ 11.71875 9.328125 16.59375 8.109375 \nQ 21.484375 6.890625 26.8125 6.890625 \nQ 36.078125 6.890625 40.9375 10.546875 \nQ 45.796875 14.203125 45.796875 21.1875 \nQ 45.796875 27.640625 41.28125 31.265625 \nQ 36.765625 34.90625 28.71875 34.90625 \nL 20.21875 34.90625 \nL 20.21875 43.015625 \nL 29.109375 43.015625 \nQ 36.375 43.015625 40.234375 45.921875 \nQ 44.09375 48.828125 44.09375 54.296875 \nQ 44.09375 59.90625 40.109375 62.90625 \nQ 36.140625 65.921875 28.71875 65.921875 \nQ 24.65625 65.921875 20.015625 65.03125 \nQ 15.375 64.15625 9.8125 62.3125 \nL 9.8125 71.09375 \nQ 15.4375 72.65625 20.34375 73.4375 \nQ 25.25 74.21875 29.59375 74.21875 \nQ 40.828125 74.21875 47.359375 69.109375 \nQ 53.90625 64.015625 53.90625 55.328125 \nQ 53.90625 49.265625 50.4375 45.09375 \nQ 46.96875 40.921875 40.578125 39.3125 \nz\n\" id=\"DejaVuSans-51\"/>\n       </defs>\n       <use xlink:href=\"#DejaVuSans-51\"/>\n       <use x=\"63.623047\" xlink:href=\"#DejaVuSans-50\"/>\n      </g>\n     </g>\n    </g>\n    <g id=\"xtick_10\">\n     <g id=\"line2d_10\">\n      <g>\n       <use style=\"stroke:#000000;stroke-width:0.8;\" x=\"102.116346\" xlink:href=\"#ma08fd82c5f\" y=\"224.64\"/>\n      </g>\n     </g>\n     <g id=\"text_10\">\n      <!-- 36 -->\n      <g transform=\"translate(95.753846 239.238437)scale(0.1 -0.1)\">\n       <use xlink:href=\"#DejaVuSans-51\"/>\n       <use x=\"63.623047\" xlink:href=\"#DejaVuSans-54\"/>\n      </g>\n     </g>\n    </g>\n    <g id=\"xtick_11\">\n     <g id=\"line2d_11\">\n      <g>\n       <use style=\"stroke:#000000;stroke-width:0.8;\" x=\"110.700962\" xlink:href=\"#ma08fd82c5f\" y=\"224.64\"/>\n      </g>\n     </g>\n     <g id=\"text_11\">\n      <!-- 40 -->\n      <g transform=\"translate(104.338462 239.238437)scale(0.1 -0.1)\">\n       <use xlink:href=\"#DejaVuSans-52\"/>\n       <use x=\"63.623047\" xlink:href=\"#DejaVuSans-48\"/>\n      </g>\n     </g>\n    </g>\n    <g id=\"xtick_12\">\n     <g id=\"line2d_12\">\n      <g>\n       <use style=\"stroke:#000000;stroke-width:0.8;\" x=\"119.285577\" xlink:href=\"#ma08fd82c5f\" y=\"224.64\"/>\n      </g>\n     </g>\n     <g id=\"text_12\">\n      <!-- 44 -->\n      <g transform=\"translate(112.923077 239.238437)scale(0.1 -0.1)\">\n       <use xlink:href=\"#DejaVuSans-52\"/>\n       <use x=\"63.623047\" xlink:href=\"#DejaVuSans-52\"/>\n      </g>\n     </g>\n    </g>\n    <g id=\"xtick_13\">\n     <g id=\"line2d_13\">\n      <g>\n       <use style=\"stroke:#000000;stroke-width:0.8;\" x=\"127.870192\" xlink:href=\"#ma08fd82c5f\" y=\"224.64\"/>\n      </g>\n     </g>\n     <g id=\"text_13\">\n      <!-- 48 -->\n      <g transform=\"translate(121.507692 239.238437)scale(0.1 -0.1)\">\n       <use xlink:href=\"#DejaVuSans-52\"/>\n       <use x=\"63.623047\" xlink:href=\"#DejaVuSans-56\"/>\n      </g>\n     </g>\n    </g>\n    <g id=\"xtick_14\">\n     <g id=\"line2d_14\">\n      <g>\n       <use style=\"stroke:#000000;stroke-width:0.8;\" x=\"136.454808\" xlink:href=\"#ma08fd82c5f\" y=\"224.64\"/>\n      </g>\n     </g>\n     <g id=\"text_14\">\n      <!-- 52 -->\n      <g transform=\"translate(130.092308 239.238437)scale(0.1 -0.1)\">\n       <defs>\n        <path d=\"M 10.796875 72.90625 \nL 49.515625 72.90625 \nL 49.515625 64.59375 \nL 19.828125 64.59375 \nL 19.828125 46.734375 \nQ 21.96875 47.46875 24.109375 47.828125 \nQ 26.265625 48.1875 28.421875 48.1875 \nQ 40.625 48.1875 47.75 41.5 \nQ 54.890625 34.8125 54.890625 23.390625 \nQ 54.890625 11.625 47.5625 5.09375 \nQ 40.234375 -1.421875 26.90625 -1.421875 \nQ 22.3125 -1.421875 17.546875 -0.640625 \nQ 12.796875 0.140625 7.71875 1.703125 \nL 7.71875 11.625 \nQ 12.109375 9.234375 16.796875 8.0625 \nQ 21.484375 6.890625 26.703125 6.890625 \nQ 35.15625 6.890625 40.078125 11.328125 \nQ 45.015625 15.765625 45.015625 23.390625 \nQ 45.015625 31 40.078125 35.4375 \nQ 35.15625 39.890625 26.703125 39.890625 \nQ 22.75 39.890625 18.8125 39.015625 \nQ 14.890625 38.140625 10.796875 36.28125 \nz\n\" id=\"DejaVuSans-53\"/>\n       </defs>\n       <use xlink:href=\"#DejaVuSans-53\"/>\n       <use x=\"63.623047\" xlink:href=\"#DejaVuSans-50\"/>\n      </g>\n     </g>\n    </g>\n    <g id=\"xtick_15\">\n     <g id=\"line2d_15\">\n      <g>\n       <use style=\"stroke:#000000;stroke-width:0.8;\" x=\"145.039423\" xlink:href=\"#ma08fd82c5f\" y=\"224.64\"/>\n      </g>\n     </g>\n     <g id=\"text_15\">\n      <!-- 56 -->\n      <g transform=\"translate(138.676923 239.238437)scale(0.1 -0.1)\">\n       <use xlink:href=\"#DejaVuSans-53\"/>\n       <use x=\"63.623047\" xlink:href=\"#DejaVuSans-54\"/>\n      </g>\n     </g>\n    </g>\n    <g id=\"xtick_16\">\n     <g id=\"line2d_16\">\n      <g>\n       <use style=\"stroke:#000000;stroke-width:0.8;\" x=\"153.624038\" xlink:href=\"#ma08fd82c5f\" y=\"224.64\"/>\n      </g>\n     </g>\n     <g id=\"text_16\">\n      <!-- 60 -->\n      <g transform=\"translate(147.261538 239.238437)scale(0.1 -0.1)\">\n       <use xlink:href=\"#DejaVuSans-54\"/>\n       <use x=\"63.623047\" xlink:href=\"#DejaVuSans-48\"/>\n      </g>\n     </g>\n    </g>\n    <g id=\"xtick_17\">\n     <g id=\"line2d_17\">\n      <g>\n       <use style=\"stroke:#000000;stroke-width:0.8;\" x=\"162.208654\" xlink:href=\"#ma08fd82c5f\" y=\"224.64\"/>\n      </g>\n     </g>\n     <g id=\"text_17\">\n      <!-- 64 -->\n      <g transform=\"translate(155.846154 239.238437)scale(0.1 -0.1)\">\n       <use xlink:href=\"#DejaVuSans-54\"/>\n       <use x=\"63.623047\" xlink:href=\"#DejaVuSans-52\"/>\n      </g>\n     </g>\n    </g>\n    <g id=\"xtick_18\">\n     <g id=\"line2d_18\">\n      <g>\n       <use style=\"stroke:#000000;stroke-width:0.8;\" x=\"170.793269\" xlink:href=\"#ma08fd82c5f\" y=\"224.64\"/>\n      </g>\n     </g>\n     <g id=\"text_18\">\n      <!-- 68 -->\n      <g transform=\"translate(164.430769 239.238437)scale(0.1 -0.1)\">\n       <use xlink:href=\"#DejaVuSans-54\"/>\n       <use x=\"63.623047\" xlink:href=\"#DejaVuSans-56\"/>\n      </g>\n     </g>\n    </g>\n    <g id=\"xtick_19\">\n     <g id=\"line2d_19\">\n      <g>\n       <use style=\"stroke:#000000;stroke-width:0.8;\" x=\"179.377885\" xlink:href=\"#ma08fd82c5f\" y=\"224.64\"/>\n      </g>\n     </g>\n     <g id=\"text_19\">\n      <!-- 72 -->\n      <g transform=\"translate(173.015385 239.238437)scale(0.1 -0.1)\">\n       <defs>\n        <path d=\"M 8.203125 72.90625 \nL 55.078125 72.90625 \nL 55.078125 68.703125 \nL 28.609375 0 \nL 18.3125 0 \nL 43.21875 64.59375 \nL 8.203125 64.59375 \nz\n\" id=\"DejaVuSans-55\"/>\n       </defs>\n       <use xlink:href=\"#DejaVuSans-55\"/>\n       <use x=\"63.623047\" xlink:href=\"#DejaVuSans-50\"/>\n      </g>\n     </g>\n    </g>\n    <g id=\"xtick_20\">\n     <g id=\"line2d_20\">\n      <g>\n       <use style=\"stroke:#000000;stroke-width:0.8;\" x=\"187.9625\" xlink:href=\"#ma08fd82c5f\" y=\"224.64\"/>\n      </g>\n     </g>\n     <g id=\"text_20\">\n      <!-- 76 -->\n      <g transform=\"translate(181.6 239.238437)scale(0.1 -0.1)\">\n       <use xlink:href=\"#DejaVuSans-55\"/>\n       <use x=\"63.623047\" xlink:href=\"#DejaVuSans-54\"/>\n      </g>\n     </g>\n    </g>\n    <g id=\"xtick_21\">\n     <g id=\"line2d_21\">\n      <g>\n       <use style=\"stroke:#000000;stroke-width:0.8;\" x=\"196.547115\" xlink:href=\"#ma08fd82c5f\" y=\"224.64\"/>\n      </g>\n     </g>\n     <g id=\"text_21\">\n      <!-- 80 -->\n      <g transform=\"translate(190.184615 239.238437)scale(0.1 -0.1)\">\n       <use xlink:href=\"#DejaVuSans-56\"/>\n       <use x=\"63.623047\" xlink:href=\"#DejaVuSans-48\"/>\n      </g>\n     </g>\n    </g>\n    <g id=\"xtick_22\">\n     <g id=\"line2d_22\">\n      <g>\n       <use style=\"stroke:#000000;stroke-width:0.8;\" x=\"205.131731\" xlink:href=\"#ma08fd82c5f\" y=\"224.64\"/>\n      </g>\n     </g>\n     <g id=\"text_22\">\n      <!-- 84 -->\n      <g transform=\"translate(198.769231 239.238437)scale(0.1 -0.1)\">\n       <use xlink:href=\"#DejaVuSans-56\"/>\n       <use x=\"63.623047\" xlink:href=\"#DejaVuSans-52\"/>\n      </g>\n     </g>\n    </g>\n    <g id=\"xtick_23\">\n     <g id=\"line2d_23\">\n      <g>\n       <use style=\"stroke:#000000;stroke-width:0.8;\" x=\"213.716346\" xlink:href=\"#ma08fd82c5f\" y=\"224.64\"/>\n      </g>\n     </g>\n     <g id=\"text_23\">\n      <!-- 88 -->\n      <g transform=\"translate(207.353846 239.238437)scale(0.1 -0.1)\">\n       <use xlink:href=\"#DejaVuSans-56\"/>\n       <use x=\"63.623047\" xlink:href=\"#DejaVuSans-56\"/>\n      </g>\n     </g>\n    </g>\n    <g id=\"xtick_24\">\n     <g id=\"line2d_24\">\n      <g>\n       <use style=\"stroke:#000000;stroke-width:0.8;\" x=\"222.300962\" xlink:href=\"#ma08fd82c5f\" y=\"224.64\"/>\n      </g>\n     </g>\n     <g id=\"text_24\">\n      <!-- 92 -->\n      <g transform=\"translate(215.938462 239.238437)scale(0.1 -0.1)\">\n       <defs>\n        <path d=\"M 10.984375 1.515625 \nL 10.984375 10.5 \nQ 14.703125 8.734375 18.5 7.8125 \nQ 22.3125 6.890625 25.984375 6.890625 \nQ 35.75 6.890625 40.890625 13.453125 \nQ 46.046875 20.015625 46.78125 33.40625 \nQ 43.953125 29.203125 39.59375 26.953125 \nQ 35.25 24.703125 29.984375 24.703125 \nQ 19.046875 24.703125 12.671875 31.3125 \nQ 6.296875 37.9375 6.296875 49.421875 \nQ 6.296875 60.640625 12.9375 67.421875 \nQ 19.578125 74.21875 30.609375 74.21875 \nQ 43.265625 74.21875 49.921875 64.515625 \nQ 56.59375 54.828125 56.59375 36.375 \nQ 56.59375 19.140625 48.40625 8.859375 \nQ 40.234375 -1.421875 26.421875 -1.421875 \nQ 22.703125 -1.421875 18.890625 -0.6875 \nQ 15.09375 0.046875 10.984375 1.515625 \nz\nM 30.609375 32.421875 \nQ 37.25 32.421875 41.125 36.953125 \nQ 45.015625 41.5 45.015625 49.421875 \nQ 45.015625 57.28125 41.125 61.84375 \nQ 37.25 66.40625 30.609375 66.40625 \nQ 23.96875 66.40625 20.09375 61.84375 \nQ 16.21875 57.28125 16.21875 49.421875 \nQ 16.21875 41.5 20.09375 36.953125 \nQ 23.96875 32.421875 30.609375 32.421875 \nz\n\" id=\"DejaVuSans-57\"/>\n       </defs>\n       <use xlink:href=\"#DejaVuSans-57\"/>\n       <use x=\"63.623047\" xlink:href=\"#DejaVuSans-50\"/>\n      </g>\n     </g>\n    </g>\n    <g id=\"xtick_25\">\n     <g id=\"line2d_25\">\n      <g>\n       <use style=\"stroke:#000000;stroke-width:0.8;\" x=\"230.885577\" xlink:href=\"#ma08fd82c5f\" y=\"224.64\"/>\n      </g>\n     </g>\n     <g id=\"text_25\">\n      <!-- 96 -->\n      <g transform=\"translate(224.523077 239.238437)scale(0.1 -0.1)\">\n       <use xlink:href=\"#DejaVuSans-57\"/>\n       <use x=\"63.623047\" xlink:href=\"#DejaVuSans-54\"/>\n      </g>\n     </g>\n    </g>\n    <g id=\"xtick_26\">\n     <g id=\"line2d_26\">\n      <g>\n       <use style=\"stroke:#000000;stroke-width:0.8;\" x=\"239.470192\" xlink:href=\"#ma08fd82c5f\" y=\"224.64\"/>\n      </g>\n     </g>\n     <g id=\"text_26\">\n      <!-- 100 -->\n      <g transform=\"translate(229.926442 239.238437)scale(0.1 -0.1)\">\n       <use xlink:href=\"#DejaVuSans-49\"/>\n       <use x=\"63.623047\" xlink:href=\"#DejaVuSans-48\"/>\n       <use x=\"127.246094\" xlink:href=\"#DejaVuSans-48\"/>\n      </g>\n     </g>\n    </g>\n    <g id=\"xtick_27\">\n     <g id=\"line2d_27\">\n      <g>\n       <use style=\"stroke:#000000;stroke-width:0.8;\" x=\"248.054808\" xlink:href=\"#ma08fd82c5f\" y=\"224.64\"/>\n      </g>\n     </g>\n     <g id=\"text_27\">\n      <!-- 104 -->\n      <g transform=\"translate(238.511058 239.238437)scale(0.1 -0.1)\">\n       <use xlink:href=\"#DejaVuSans-49\"/>\n       <use x=\"63.623047\" xlink:href=\"#DejaVuSans-48\"/>\n       <use x=\"127.246094\" xlink:href=\"#DejaVuSans-52\"/>\n      </g>\n     </g>\n    </g>\n    <g id=\"xtick_28\">\n     <g id=\"line2d_28\">\n      <g>\n       <use style=\"stroke:#000000;stroke-width:0.8;\" x=\"256.639423\" xlink:href=\"#ma08fd82c5f\" y=\"224.64\"/>\n      </g>\n     </g>\n     <g id=\"text_28\">\n      <!-- 108 -->\n      <g transform=\"translate(247.095673 239.238437)scale(0.1 -0.1)\">\n       <use xlink:href=\"#DejaVuSans-49\"/>\n       <use x=\"63.623047\" xlink:href=\"#DejaVuSans-48\"/>\n       <use x=\"127.246094\" xlink:href=\"#DejaVuSans-56\"/>\n      </g>\n     </g>\n    </g>\n    <g id=\"xtick_29\">\n     <g id=\"line2d_29\">\n      <g>\n       <use style=\"stroke:#000000;stroke-width:0.8;\" x=\"265.224038\" xlink:href=\"#ma08fd82c5f\" y=\"224.64\"/>\n      </g>\n     </g>\n     <g id=\"text_29\">\n      <!-- 112 -->\n      <g transform=\"translate(255.680288 239.238437)scale(0.1 -0.1)\">\n       <use xlink:href=\"#DejaVuSans-49\"/>\n       <use x=\"63.623047\" xlink:href=\"#DejaVuSans-49\"/>\n       <use x=\"127.246094\" xlink:href=\"#DejaVuSans-50\"/>\n      </g>\n     </g>\n    </g>\n    <g id=\"xtick_30\">\n     <g id=\"line2d_30\">\n      <g>\n       <use style=\"stroke:#000000;stroke-width:0.8;\" x=\"273.808654\" xlink:href=\"#ma08fd82c5f\" y=\"224.64\"/>\n      </g>\n     </g>\n     <g id=\"text_30\">\n      <!-- 116 -->\n      <g transform=\"translate(264.264904 239.238437)scale(0.1 -0.1)\">\n       <use xlink:href=\"#DejaVuSans-49\"/>\n       <use x=\"63.623047\" xlink:href=\"#DejaVuSans-49\"/>\n       <use x=\"127.246094\" xlink:href=\"#DejaVuSans-54\"/>\n      </g>\n     </g>\n    </g>\n    <g id=\"xtick_31\">\n     <g id=\"line2d_31\">\n      <g>\n       <use style=\"stroke:#000000;stroke-width:0.8;\" x=\"282.393269\" xlink:href=\"#ma08fd82c5f\" y=\"224.64\"/>\n      </g>\n     </g>\n     <g id=\"text_31\">\n      <!-- 120 -->\n      <g transform=\"translate(272.849519 239.238437)scale(0.1 -0.1)\">\n       <use xlink:href=\"#DejaVuSans-49\"/>\n       <use x=\"63.623047\" xlink:href=\"#DejaVuSans-50\"/>\n       <use x=\"127.246094\" xlink:href=\"#DejaVuSans-48\"/>\n      </g>\n     </g>\n    </g>\n    <g id=\"xtick_32\">\n     <g id=\"line2d_32\">\n      <g>\n       <use style=\"stroke:#000000;stroke-width:0.8;\" x=\"290.977885\" xlink:href=\"#ma08fd82c5f\" y=\"224.64\"/>\n      </g>\n     </g>\n     <g id=\"text_32\">\n      <!-- 124 -->\n      <g transform=\"translate(281.434135 239.238437)scale(0.1 -0.1)\">\n       <use xlink:href=\"#DejaVuSans-49\"/>\n       <use x=\"63.623047\" xlink:href=\"#DejaVuSans-50\"/>\n       <use x=\"127.246094\" xlink:href=\"#DejaVuSans-52\"/>\n      </g>\n     </g>\n    </g>\n    <g id=\"xtick_33\">\n     <g id=\"line2d_33\">\n      <g>\n       <use style=\"stroke:#000000;stroke-width:0.8;\" x=\"299.5625\" xlink:href=\"#ma08fd82c5f\" y=\"224.64\"/>\n      </g>\n     </g>\n     <g id=\"text_33\">\n      <!-- 128 -->\n      <g transform=\"translate(290.01875 239.238437)scale(0.1 -0.1)\">\n       <use xlink:href=\"#DejaVuSans-49\"/>\n       <use x=\"63.623047\" xlink:href=\"#DejaVuSans-50\"/>\n       <use x=\"127.246094\" xlink:href=\"#DejaVuSans-56\"/>\n      </g>\n     </g>\n    </g>\n    <g id=\"xtick_34\">\n     <g id=\"line2d_34\">\n      <g>\n       <use style=\"stroke:#000000;stroke-width:0.8;\" x=\"308.147115\" xlink:href=\"#ma08fd82c5f\" y=\"224.64\"/>\n      </g>\n     </g>\n     <g id=\"text_34\">\n      <!-- 132 -->\n      <g transform=\"translate(298.603365 239.238437)scale(0.1 -0.1)\">\n       <use xlink:href=\"#DejaVuSans-49\"/>\n       <use x=\"63.623047\" xlink:href=\"#DejaVuSans-51\"/>\n       <use x=\"127.246094\" xlink:href=\"#DejaVuSans-50\"/>\n      </g>\n     </g>\n    </g>\n    <g id=\"xtick_35\">\n     <g id=\"line2d_35\">\n      <g>\n       <use style=\"stroke:#000000;stroke-width:0.8;\" x=\"316.731731\" xlink:href=\"#ma08fd82c5f\" y=\"224.64\"/>\n      </g>\n     </g>\n     <g id=\"text_35\">\n      <!-- 136 -->\n      <g transform=\"translate(307.187981 239.238437)scale(0.1 -0.1)\">\n       <use xlink:href=\"#DejaVuSans-49\"/>\n       <use x=\"63.623047\" xlink:href=\"#DejaVuSans-51\"/>\n       <use x=\"127.246094\" xlink:href=\"#DejaVuSans-54\"/>\n      </g>\n     </g>\n    </g>\n    <g id=\"xtick_36\">\n     <g id=\"line2d_36\">\n      <g>\n       <use style=\"stroke:#000000;stroke-width:0.8;\" x=\"325.316346\" xlink:href=\"#ma08fd82c5f\" y=\"224.64\"/>\n      </g>\n     </g>\n     <g id=\"text_36\">\n      <!-- 140 -->\n      <g transform=\"translate(315.772596 239.238437)scale(0.1 -0.1)\">\n       <use xlink:href=\"#DejaVuSans-49\"/>\n       <use x=\"63.623047\" xlink:href=\"#DejaVuSans-52\"/>\n       <use x=\"127.246094\" xlink:href=\"#DejaVuSans-48\"/>\n      </g>\n     </g>\n    </g>\n    <g id=\"xtick_37\">\n     <g id=\"line2d_37\">\n      <g>\n       <use style=\"stroke:#000000;stroke-width:0.8;\" x=\"333.900962\" xlink:href=\"#ma08fd82c5f\" y=\"224.64\"/>\n      </g>\n     </g>\n     <g id=\"text_37\">\n      <!-- 144 -->\n      <g transform=\"translate(324.357212 239.238437)scale(0.1 -0.1)\">\n       <use xlink:href=\"#DejaVuSans-49\"/>\n       <use x=\"63.623047\" xlink:href=\"#DejaVuSans-52\"/>\n       <use x=\"127.246094\" xlink:href=\"#DejaVuSans-52\"/>\n      </g>\n     </g>\n    </g>\n    <g id=\"xtick_38\">\n     <g id=\"line2d_38\">\n      <g>\n       <use style=\"stroke:#000000;stroke-width:0.8;\" x=\"342.485577\" xlink:href=\"#ma08fd82c5f\" y=\"224.64\"/>\n      </g>\n     </g>\n     <g id=\"text_38\">\n      <!-- 148 -->\n      <g transform=\"translate(332.941827 239.238437)scale(0.1 -0.1)\">\n       <use xlink:href=\"#DejaVuSans-49\"/>\n       <use x=\"63.623047\" xlink:href=\"#DejaVuSans-52\"/>\n       <use x=\"127.246094\" xlink:href=\"#DejaVuSans-56\"/>\n      </g>\n     </g>\n    </g>\n    <g id=\"xtick_39\">\n     <g id=\"line2d_39\">\n      <g>\n       <use style=\"stroke:#000000;stroke-width:0.8;\" x=\"351.070192\" xlink:href=\"#ma08fd82c5f\" y=\"224.64\"/>\n      </g>\n     </g>\n     <g id=\"text_39\">\n      <!-- 152 -->\n      <g transform=\"translate(341.526442 239.238437)scale(0.1 -0.1)\">\n       <use xlink:href=\"#DejaVuSans-49\"/>\n       <use x=\"63.623047\" xlink:href=\"#DejaVuSans-53\"/>\n       <use x=\"127.246094\" xlink:href=\"#DejaVuSans-50\"/>\n      </g>\n     </g>\n    </g>\n   </g>\n   <g id=\"matplotlib.axis_2\">\n    <g id=\"ytick_1\">\n     <g id=\"line2d_40\">\n      <defs>\n       <path d=\"M 0 0 \nL -3.5 0 \n\" id=\"mc3f382f7a6\" style=\"stroke:#000000;stroke-width:0.8;\"/>\n      </defs>\n      <g>\n       <use style=\"stroke:#000000;stroke-width:0.8;\" x=\"20.5625\" xlink:href=\"#mc3f382f7a6\" y=\"224.64\"/>\n      </g>\n     </g>\n     <g id=\"text_40\">\n      <!-- 0 -->\n      <g transform=\"translate(7.2 228.439219)scale(0.1 -0.1)\">\n       <use xlink:href=\"#DejaVuSans-48\"/>\n      </g>\n     </g>\n    </g>\n    <g id=\"ytick_2\">\n     <g id=\"line2d_41\">\n      <g>\n       <use style=\"stroke:#000000;stroke-width:0.8;\" x=\"20.5625\" xlink:href=\"#mc3f382f7a6\" y=\"198.754286\"/>\n      </g>\n     </g>\n     <g id=\"text_41\">\n      <!-- 1 -->\n      <g transform=\"translate(7.2 202.553504)scale(0.1 -0.1)\">\n       <use xlink:href=\"#DejaVuSans-49\"/>\n      </g>\n     </g>\n    </g>\n    <g id=\"ytick_3\">\n     <g id=\"line2d_42\">\n      <g>\n       <use style=\"stroke:#000000;stroke-width:0.8;\" x=\"20.5625\" xlink:href=\"#mc3f382f7a6\" y=\"172.868571\"/>\n      </g>\n     </g>\n     <g id=\"text_42\">\n      <!-- 2 -->\n      <g transform=\"translate(7.2 176.66779)scale(0.1 -0.1)\">\n       <use xlink:href=\"#DejaVuSans-50\"/>\n      </g>\n     </g>\n    </g>\n    <g id=\"ytick_4\">\n     <g id=\"line2d_43\">\n      <g>\n       <use style=\"stroke:#000000;stroke-width:0.8;\" x=\"20.5625\" xlink:href=\"#mc3f382f7a6\" y=\"146.982857\"/>\n      </g>\n     </g>\n     <g id=\"text_43\">\n      <!-- 3 -->\n      <g transform=\"translate(7.2 150.782076)scale(0.1 -0.1)\">\n       <use xlink:href=\"#DejaVuSans-51\"/>\n      </g>\n     </g>\n    </g>\n    <g id=\"ytick_5\">\n     <g id=\"line2d_44\">\n      <g>\n       <use style=\"stroke:#000000;stroke-width:0.8;\" x=\"20.5625\" xlink:href=\"#mc3f382f7a6\" y=\"121.097143\"/>\n      </g>\n     </g>\n     <g id=\"text_44\">\n      <!-- 4 -->\n      <g transform=\"translate(7.2 124.896362)scale(0.1 -0.1)\">\n       <use xlink:href=\"#DejaVuSans-52\"/>\n      </g>\n     </g>\n    </g>\n    <g id=\"ytick_6\">\n     <g id=\"line2d_45\">\n      <g>\n       <use style=\"stroke:#000000;stroke-width:0.8;\" x=\"20.5625\" xlink:href=\"#mc3f382f7a6\" y=\"95.211429\"/>\n      </g>\n     </g>\n     <g id=\"text_45\">\n      <!-- 5 -->\n      <g transform=\"translate(7.2 99.010647)scale(0.1 -0.1)\">\n       <use xlink:href=\"#DejaVuSans-53\"/>\n      </g>\n     </g>\n    </g>\n    <g id=\"ytick_7\">\n     <g id=\"line2d_46\">\n      <g>\n       <use style=\"stroke:#000000;stroke-width:0.8;\" x=\"20.5625\" xlink:href=\"#mc3f382f7a6\" y=\"69.325714\"/>\n      </g>\n     </g>\n     <g id=\"text_46\">\n      <!-- 6 -->\n      <g transform=\"translate(7.2 73.124933)scale(0.1 -0.1)\">\n       <use xlink:href=\"#DejaVuSans-54\"/>\n      </g>\n     </g>\n    </g>\n    <g id=\"ytick_8\">\n     <g id=\"line2d_47\">\n      <g>\n       <use style=\"stroke:#000000;stroke-width:0.8;\" x=\"20.5625\" xlink:href=\"#mc3f382f7a6\" y=\"43.44\"/>\n      </g>\n     </g>\n     <g id=\"text_47\">\n      <!-- 7 -->\n      <g transform=\"translate(7.2 47.239219)scale(0.1 -0.1)\">\n       <use xlink:href=\"#DejaVuSans-55\"/>\n      </g>\n     </g>\n    </g>\n    <g id=\"ytick_9\">\n     <g id=\"line2d_48\">\n      <g>\n       <use style=\"stroke:#000000;stroke-width:0.8;\" x=\"20.5625\" xlink:href=\"#mc3f382f7a6\" y=\"17.554286\"/>\n      </g>\n     </g>\n     <g id=\"text_48\">\n      <!-- 8 -->\n      <g transform=\"translate(7.2 21.353504)scale(0.1 -0.1)\">\n       <use xlink:href=\"#DejaVuSans-56\"/>\n      </g>\n     </g>\n    </g>\n   </g>\n   <g id=\"patch_42\">\n    <path d=\"M 20.5625 224.64 \nL 20.5625 7.2 \n\" style=\"fill:none;stroke:#000000;stroke-linecap:square;stroke-linejoin:miter;stroke-width:0.8;\"/>\n   </g>\n   <g id=\"patch_43\">\n    <path d=\"M 355.3625 224.64 \nL 355.3625 7.2 \n\" style=\"fill:none;stroke:#000000;stroke-linecap:square;stroke-linejoin:miter;stroke-width:0.8;\"/>\n   </g>\n   <g id=\"patch_44\">\n    <path d=\"M 20.5625 224.64 \nL 355.3625 224.64 \n\" style=\"fill:none;stroke:#000000;stroke-linecap:square;stroke-linejoin:miter;stroke-width:0.8;\"/>\n   </g>\n   <g id=\"patch_45\">\n    <path d=\"M 20.5625 7.2 \nL 355.3625 7.2 \n\" style=\"fill:none;stroke:#000000;stroke-linecap:square;stroke-linejoin:miter;stroke-width:0.8;\"/>\n   </g>\n   <g id=\"legend_1\">\n    <g id=\"patch_46\">\n     <path d=\"M 273.90625 30.15625 \nL 348.3625 30.15625 \nQ 350.3625 30.15625 350.3625 28.15625 \nL 350.3625 14.2 \nQ 350.3625 12.2 348.3625 12.2 \nL 273.90625 12.2 \nQ 271.90625 12.2 271.90625 14.2 \nL 271.90625 28.15625 \nQ 271.90625 30.15625 273.90625 30.15625 \nz\n\" style=\"fill:#ffffff;opacity:0.8;stroke:#cccccc;stroke-linejoin:miter;\"/>\n    </g>\n    <g id=\"patch_47\">\n     <path d=\"M 275.90625 23.798437 \nL 295.90625 23.798437 \nL 295.90625 16.798437 \nL 275.90625 16.798437 \nz\n\" style=\"fill:#1f77b4;\"/>\n    </g>\n    <g id=\"text_49\">\n     <!-- edit_dist -->\n     <g transform=\"translate(303.90625 23.798437)scale(0.1 -0.1)\">\n      <defs>\n       <path d=\"M 56.203125 29.59375 \nL 56.203125 25.203125 \nL 14.890625 25.203125 \nQ 15.484375 15.921875 20.484375 11.0625 \nQ 25.484375 6.203125 34.421875 6.203125 \nQ 39.59375 6.203125 44.453125 7.46875 \nQ 49.3125 8.734375 54.109375 11.28125 \nL 54.109375 2.78125 \nQ 49.265625 0.734375 44.1875 -0.34375 \nQ 39.109375 -1.421875 33.890625 -1.421875 \nQ 20.796875 -1.421875 13.15625 6.1875 \nQ 5.515625 13.8125 5.515625 26.8125 \nQ 5.515625 40.234375 12.765625 48.109375 \nQ 20.015625 56 32.328125 56 \nQ 43.359375 56 49.78125 48.890625 \nQ 56.203125 41.796875 56.203125 29.59375 \nz\nM 47.21875 32.234375 \nQ 47.125 39.59375 43.09375 43.984375 \nQ 39.0625 48.390625 32.421875 48.390625 \nQ 24.90625 48.390625 20.390625 44.140625 \nQ 15.875 39.890625 15.1875 32.171875 \nz\n\" id=\"DejaVuSans-101\"/>\n       <path d=\"M 45.40625 46.390625 \nL 45.40625 75.984375 \nL 54.390625 75.984375 \nL 54.390625 0 \nL 45.40625 0 \nL 45.40625 8.203125 \nQ 42.578125 3.328125 38.25 0.953125 \nQ 33.9375 -1.421875 27.875 -1.421875 \nQ 17.96875 -1.421875 11.734375 6.484375 \nQ 5.515625 14.40625 5.515625 27.296875 \nQ 5.515625 40.1875 11.734375 48.09375 \nQ 17.96875 56 27.875 56 \nQ 33.9375 56 38.25 53.625 \nQ 42.578125 51.265625 45.40625 46.390625 \nz\nM 14.796875 27.296875 \nQ 14.796875 17.390625 18.875 11.75 \nQ 22.953125 6.109375 30.078125 6.109375 \nQ 37.203125 6.109375 41.296875 11.75 \nQ 45.40625 17.390625 45.40625 27.296875 \nQ 45.40625 37.203125 41.296875 42.84375 \nQ 37.203125 48.484375 30.078125 48.484375 \nQ 22.953125 48.484375 18.875 42.84375 \nQ 14.796875 37.203125 14.796875 27.296875 \nz\n\" id=\"DejaVuSans-100\"/>\n       <path d=\"M 9.421875 54.6875 \nL 18.40625 54.6875 \nL 18.40625 0 \nL 9.421875 0 \nz\nM 9.421875 75.984375 \nL 18.40625 75.984375 \nL 18.40625 64.59375 \nL 9.421875 64.59375 \nz\n\" id=\"DejaVuSans-105\"/>\n       <path d=\"M 18.3125 70.21875 \nL 18.3125 54.6875 \nL 36.8125 54.6875 \nL 36.8125 47.703125 \nL 18.3125 47.703125 \nL 18.3125 18.015625 \nQ 18.3125 11.328125 20.140625 9.421875 \nQ 21.96875 7.515625 27.59375 7.515625 \nL 36.8125 7.515625 \nL 36.8125 0 \nL 27.59375 0 \nQ 17.1875 0 13.234375 3.875 \nQ 9.28125 7.765625 9.28125 18.015625 \nL 9.28125 47.703125 \nL 2.6875 47.703125 \nL 2.6875 54.6875 \nL 9.28125 54.6875 \nL 9.28125 70.21875 \nz\n\" id=\"DejaVuSans-116\"/>\n       <path d=\"M 50.984375 -16.609375 \nL 50.984375 -23.578125 \nL -0.984375 -23.578125 \nL -0.984375 -16.609375 \nz\n\" id=\"DejaVuSans-95\"/>\n       <path d=\"M 44.28125 53.078125 \nL 44.28125 44.578125 \nQ 40.484375 46.53125 36.375 47.5 \nQ 32.28125 48.484375 27.875 48.484375 \nQ 21.1875 48.484375 17.84375 46.4375 \nQ 14.5 44.390625 14.5 40.28125 \nQ 14.5 37.15625 16.890625 35.375 \nQ 19.28125 33.59375 26.515625 31.984375 \nL 29.59375 31.296875 \nQ 39.15625 29.25 43.1875 25.515625 \nQ 47.21875 21.78125 47.21875 15.09375 \nQ 47.21875 7.46875 41.1875 3.015625 \nQ 35.15625 -1.421875 24.609375 -1.421875 \nQ 20.21875 -1.421875 15.453125 -0.5625 \nQ 10.6875 0.296875 5.421875 2 \nL 5.421875 11.28125 \nQ 10.40625 8.6875 15.234375 7.390625 \nQ 20.0625 6.109375 24.8125 6.109375 \nQ 31.15625 6.109375 34.5625 8.28125 \nQ 37.984375 10.453125 37.984375 14.40625 \nQ 37.984375 18.0625 35.515625 20.015625 \nQ 33.0625 21.96875 24.703125 23.78125 \nL 21.578125 24.515625 \nQ 13.234375 26.265625 9.515625 29.90625 \nQ 5.8125 33.546875 5.8125 39.890625 \nQ 5.8125 47.609375 11.28125 51.796875 \nQ 16.75 56 26.8125 56 \nQ 31.78125 56 36.171875 55.265625 \nQ 40.578125 54.546875 44.28125 53.078125 \nz\n\" id=\"DejaVuSans-115\"/>\n      </defs>\n      <use xlink:href=\"#DejaVuSans-101\"/>\n      <use x=\"61.523438\" xlink:href=\"#DejaVuSans-100\"/>\n      <use x=\"125\" xlink:href=\"#DejaVuSans-105\"/>\n      <use x=\"152.783203\" xlink:href=\"#DejaVuSans-116\"/>\n      <use x=\"191.992188\" xlink:href=\"#DejaVuSans-95\"/>\n      <use x=\"241.992188\" xlink:href=\"#DejaVuSans-100\"/>\n      <use x=\"305.46875\" xlink:href=\"#DejaVuSans-105\"/>\n      <use x=\"333.251953\" xlink:href=\"#DejaVuSans-115\"/>\n      <use x=\"385.351562\" xlink:href=\"#DejaVuSans-116\"/>\n     </g>\n    </g>\n   </g>\n  </g>\n </g>\n <defs>\n  <clipPath id=\"p3c4b13789d\">\n   <rect height=\"217.44\" width=\"334.8\" x=\"20.5625\" y=\"7.2\"/>\n  </clipPath>\n </defs>\n</svg>\n",
      "image/png": "[encoded data removed]"
     },
     "metadata": {
      "needs_background": "light"
     }
    }
   ],
   "source": [
    "df.index.to_frame(index=False).query('pos == 1').plot.bar(y='edit_dist', rot=0)"
   ]
  },
  {
   "source": [
    "## compare the \"Models\" for sample texts\n",
    "\n",
    "Idea determen avg edit distance over sample texts for different p"
   ],
   "cell_type": "markdown",
   "metadata": {}
  },
  {
   "cell_type": "code",
   "execution_count": 25,
   "metadata": {},
   "outputs": [],
   "source": [
    "amount = [0.05 ,0.1, 0.15, 0.2]\n",
    "M = 10# diferent texts"
   ]
  },
  {
   "source": [
    "#### choose some sample texts"
   ],
   "cell_type": "markdown",
   "metadata": {}
  },
  {
   "cell_type": "code",
   "execution_count": 26,
   "metadata": {},
   "outputs": [
    {
     "output_type": "stream",
     "name": "stdout",
     "text": [
      "Every paragraph fits into the modle\n"
     ]
    }
   ],
   "source": [
    "path = \"./../data/wikipedia/ogUTF-8\"\n",
    "files = np.random.choice([os.path.join(path ,f) for f in os.listdir(path) if os.path.isfile(os.path.join(path, f))], M, replace=False)\n",
    "\n",
    "for f_path in files:\n",
    "    with open(f_path, 'r', encoding='utf-8') as file:\n",
    "        text = file.read()\n",
    "    tokens = tokenizer(\n",
    "        text,\n",
    "        max_length=tokenizer.model_max_length,\n",
    "        truncation=True,\n",
    "    )\n",
    "    if len(tokens['input_ids']) == 512:\n",
    "        print('One paragraph might be to long!!!')\n",
    "        break\n",
    "print('Every paragraph fits into the modle')"
   ]
  },
  {
   "source": [
    "#### run the models"
   ],
   "cell_type": "markdown",
   "metadata": {}
  },
  {
   "cell_type": "code",
   "execution_count": 27,
   "metadata": {},
   "outputs": [
    {
     "output_type": "stream",
     "name": "stderr",
     "text": [
      "100%|██████████| 79/79 [03:42<00:00,  2.82s/it]\n",
      "100%|██████████| 207/207 [22:44<00:00,  6.59s/it]\n",
      "100%|██████████| 144/144 [20:22<00:00,  8.49s/it]\n",
      "100%|██████████| 178/178 [23:40<00:00,  7.98s/it]\n",
      "100%|██████████| 111/111 [06:34<00:00,  3.55s/it]\n",
      "100%|██████████| 134/134 [13:16<00:00,  5.94s/it]\n",
      "100%|██████████| 93/93 [06:07<00:00,  3.96s/it]\n",
      "100%|██████████| 132/132 [13:57<00:00,  6.34s/it]\n",
      "100%|██████████| 120/120 [09:57<00:00,  4.98s/it]\n",
      "100%|██████████| 100/100 [07:10<00:00,  4.30s/it]\n"
     ]
    }
   ],
   "source": [
    "count_edit_distances = dict()\n",
    "for p in amount:\n",
    "    count_edit_distances[p] = (2*k+1)*[0]\n",
    "for f_path in files:\n",
    "    with open(f_path, 'r', encoding='utf-8') as file:\n",
    "        text = file.read()\n",
    "    # tokenize the text\n",
    "    doc = nlp(text)\n",
    "    # determent all tokens that can be replaced\n",
    "    indices = np.array([i for i in range(len(doc))])\n",
    "    for ent in doc.ents:\n",
    "        indices[ent.start:ent.end] = -1\n",
    "    indices = np.array([i for i in indices if i >= 0 and check_token(doc[i].text)])\n",
    "\n",
    "    for t_idx in tqdm(indices):\n",
    "        # for the mask pipeline\n",
    "        pipe_in = insert_mask(doc[t_idx].idx, len(doc[t_idx]), text, tokenizer.mask_token)\n",
    "        pipe_out = masked_pipe(pipe_in, top_k=k)\n",
    "        pipe_token = np.array([t['token'] for t in pipe_out])\n",
    "        new_pipe = [tokenizer.convert_ids_to_tokens(int(t)) for t in pipe_token]\n",
    "\n",
    "        for j, p in enumerate(amount):\n",
    "            # for the normal model\n",
    "            # dertement which token should be replaced in addtion\n",
    "            N = max(int(len([1 for t in doc if check_token(t.text)]) * p) - 1, 0)\n",
    "            mask_idc = np.random.choice([i for i in indices if i != t_idx], N, replace=False)\n",
    "            mask_idc = np.sort(np.append(mask_idc, t_idx))\n",
    "            t_pos = np.searchsorted(mask_idc, t_idx)\n",
    "            # insert the mask tokens\n",
    "            model_in = text\n",
    "            for i in mask_idc[::-1]:\n",
    "                model_in = insert_mask(doc[i].idx, len(doc[i]), model_in, tokenizer.mask_token)\n",
    "            # run the mask model\n",
    "            inputs = tokenizer(\n",
    "                model_in,\n",
    "                max_length=tokenizer.model_max_length,\n",
    "                truncation=True,\n",
    "                return_tensors='pt'\n",
    "            )\n",
    "            preds = masked_model(**inputs)\n",
    "            activated_preds = torch.softmax(preds[0], dim=2)\n",
    "            masked_token_indices = (inputs['input_ids'] == tokenizer.mask_token_id)\n",
    "            masked_preds = activated_preds[masked_token_indices]\n",
    "            topk = torch.topk(masked_preds, k, dim=1)\n",
    "            model_token = topk.indices[t_pos].numpy()\n",
    "            new_model = [tokenizer.convert_ids_to_tokens(int(t)) for t in model_token]\n",
    "\n",
    "            # incres the counter for the edit distance\n",
    "            count_edit_distances[p][nltk.edit_distance(new_pipe, new_model, substitution_cost=2, transpositions=True)] += 1\n",
    "\n",
    "# store the edit distances in a DataFrame\n",
    "df_edit_dist = pd.DataFrame(count_edit_distances)"
   ]
  },
  {
   "cell_type": "code",
   "execution_count": 28,
   "metadata": {},
   "outputs": [
    {
     "output_type": "execute_result",
     "data": {
      "text/plain": [
       "   0.05  0.10  0.15  0.20\n",
       "0   618   451   340   255\n",
       "1   182   171   147   131\n",
       "2   308   357   336   353\n",
       "3    63    78   103   102\n",
       "4    84   156   211   248\n",
       "5     8    13    15    23\n",
       "6    29    49   106   133\n",
       "7     0     0     0     0\n",
       "8     6    23    40    53"
      ],
      "text/html": "<div>\n<style scoped>\n    .dataframe tbody tr th:only-of-type {\n        vertical-align: middle;\n    }\n\n    .dataframe tbody tr th {\n        vertical-align: top;\n    }\n\n    .dataframe thead th {\n        text-align: right;\n    }\n</style>\n<table border=\"1\" class=\"dataframe\">\n  <thead>\n    <tr style=\"text-align: right;\">\n      <th></th>\n      <th>0.05</th>\n      <th>0.10</th>\n      <th>0.15</th>\n      <th>0.20</th>\n    </tr>\n  </thead>\n  <tbody>\n    <tr>\n      <th>0</th>\n      <td>618</td>\n      <td>451</td>\n      <td>340</td>\n      <td>255</td>\n    </tr>\n    <tr>\n      <th>1</th>\n      <td>182</td>\n      <td>171</td>\n      <td>147</td>\n      <td>131</td>\n    </tr>\n    <tr>\n      <th>2</th>\n      <td>308</td>\n      <td>357</td>\n      <td>336</td>\n      <td>353</td>\n    </tr>\n    <tr>\n      <th>3</th>\n      <td>63</td>\n      <td>78</td>\n      <td>103</td>\n      <td>102</td>\n    </tr>\n    <tr>\n      <th>4</th>\n      <td>84</td>\n      <td>156</td>\n      <td>211</td>\n      <td>248</td>\n    </tr>\n    <tr>\n      <th>5</th>\n      <td>8</td>\n      <td>13</td>\n      <td>15</td>\n      <td>23</td>\n    </tr>\n    <tr>\n      <th>6</th>\n      <td>29</td>\n      <td>49</td>\n      <td>106</td>\n      <td>133</td>\n    </tr>\n    <tr>\n      <th>7</th>\n      <td>0</td>\n      <td>0</td>\n      <td>0</td>\n      <td>0</td>\n    </tr>\n    <tr>\n      <th>8</th>\n      <td>6</td>\n      <td>23</td>\n      <td>40</td>\n      <td>53</td>\n    </tr>\n  </tbody>\n</table>\n</div>"
     },
     "metadata": {},
     "execution_count": 28
    }
   ],
   "source": [
    "df_edit_dist"
   ]
  },
  {
   "cell_type": "code",
   "execution_count": 29,
   "metadata": {},
   "outputs": [
    {
     "output_type": "execute_result",
     "data": {
      "text/plain": [
       "<AxesSubplot:>"
      ]
     },
     "metadata": {},
     "execution_count": 29
    },
    {
     "output_type": "display_data",
     "data": {
      "text/plain": "<Figure size 432x288 with 1 Axes>",
      "image/svg+xml": "<?xml version=\"1.0\" encoding=\"utf-8\" standalone=\"no\"?>\n<!DOCTYPE svg PUBLIC \"-//W3C//DTD SVG 1.1//EN\"\n  \"http://www.w3.org/Graphics/SVG/1.1/DTD/svg11.dtd\">\n<!-- Created with matplotlib (https://matplotlib.org/) -->\n<svg height=\"245.2025pt\" version=\"1.1\" viewBox=\"0 0 375.2875 245.2025\" width=\"375.2875pt\" xmlns=\"http://www.w3.org/2000/svg\" xmlns:xlink=\"http://www.w3.org/1999/xlink\">\n <metadata>\n  <rdf:RDF xmlns:cc=\"http://creativecommons.org/ns#\" xmlns:dc=\"http://purl.org/dc/elements/1.1/\" xmlns:rdf=\"http://www.w3.org/1999/02/22-rdf-syntax-ns#\">\n   <cc:Work>\n    <dc:type rdf:resource=\"http://purl.org/dc/dcmitype/StillImage\"/>\n    <dc:date>2021-02-16T18:07:15.392696</dc:date>\n    <dc:format>image/svg+xml</dc:format>\n    <dc:creator>\n     <cc:Agent>\n      <dc:title>Matplotlib v3.3.2, https://matplotlib.org/</dc:title>\n     </cc:Agent>\n    </dc:creator>\n   </cc:Work>\n  </rdf:RDF>\n </metadata>\n <defs>\n  <style type=\"text/css\">*{stroke-linecap:butt;stroke-linejoin:round;}</style>\n </defs>\n <g id=\"figure_1\">\n  <g id=\"patch_1\">\n   <path d=\"M 0 245.2025 \nL 375.2875 245.2025 \nL 375.2875 0 \nL 0 0 \nz\n\" style=\"fill:none;\"/>\n  </g>\n  <g id=\"axes_1\">\n   <g id=\"patch_2\">\n    <path d=\"M 33.2875 224.64 \nL 368.0875 224.64 \nL 368.0875 7.2 \nL 33.2875 7.2 \nz\n\" style=\"fill:#ffffff;\"/>\n   </g>\n   <g id=\"patch_3\">\n    <path clip-path=\"url(#p4276f4c833)\" d=\"M 42.5875 224.64 \nL 47.2375 224.64 \nL 47.2375 17.554286 \nL 42.5875 17.554286 \nz\n\" style=\"fill:#1f77b4;\"/>\n   </g>\n   <g id=\"patch_4\">\n    <path clip-path=\"url(#p4276f4c833)\" d=\"M 79.7875 224.64 \nL 84.4375 224.64 \nL 84.4375 163.653592 \nL 79.7875 163.653592 \nz\n\" style=\"fill:#1f77b4;\"/>\n   </g>\n   <g id=\"patch_5\">\n    <path clip-path=\"url(#p4276f4c833)\" d=\"M 116.9875 224.64 \nL 121.6375 224.64 \nL 121.6375 121.432233 \nL 116.9875 121.432233 \nz\n\" style=\"fill:#1f77b4;\"/>\n   </g>\n   <g id=\"patch_6\">\n    <path clip-path=\"url(#p4276f4c833)\" d=\"M 154.1875 224.64 \nL 158.8375 224.64 \nL 158.8375 203.52932 \nL 154.1875 203.52932 \nz\n\" style=\"fill:#1f77b4;\"/>\n   </g>\n   <g id=\"patch_7\">\n    <path clip-path=\"url(#p4276f4c833)\" d=\"M 191.3875 224.64 \nL 196.0375 224.64 \nL 196.0375 196.492427 \nL 191.3875 196.492427 \nz\n\" style=\"fill:#1f77b4;\"/>\n   </g>\n   <g id=\"patch_8\">\n    <path clip-path=\"url(#p4276f4c833)\" d=\"M 228.5875 224.64 \nL 233.2375 224.64 \nL 233.2375 221.959279 \nL 228.5875 221.959279 \nz\n\" style=\"fill:#1f77b4;\"/>\n   </g>\n   <g id=\"patch_9\">\n    <path clip-path=\"url(#p4276f4c833)\" d=\"M 265.7875 224.64 \nL 270.4375 224.64 \nL 270.4375 214.922386 \nL 265.7875 214.922386 \nz\n\" style=\"fill:#1f77b4;\"/>\n   </g>\n   <g id=\"patch_10\">\n    <path clip-path=\"url(#p4276f4c833)\" d=\"M 302.9875 224.64 \nL 307.6375 224.64 \nL 307.6375 224.64 \nL 302.9875 224.64 \nz\n\" style=\"fill:#1f77b4;\"/>\n   </g>\n   <g id=\"patch_11\">\n    <path clip-path=\"url(#p4276f4c833)\" d=\"M 340.1875 224.64 \nL 344.8375 224.64 \nL 344.8375 222.629459 \nL 340.1875 222.629459 \nz\n\" style=\"fill:#1f77b4;\"/>\n   </g>\n   <g id=\"patch_12\">\n    <path clip-path=\"url(#p4276f4c833)\" d=\"M 47.2375 224.64 \nL 51.8875 224.64 \nL 51.8875 73.514341 \nL 47.2375 73.514341 \nz\n\" style=\"fill:#ff7f0e;\"/>\n   </g>\n   <g id=\"patch_13\">\n    <path clip-path=\"url(#p4276f4c833)\" d=\"M 84.4375 224.64 \nL 89.0875 224.64 \nL 89.0875 167.339584 \nL 84.4375 167.339584 \nz\n\" style=\"fill:#ff7f0e;\"/>\n   </g>\n   <g id=\"patch_14\">\n    <path clip-path=\"url(#p4276f4c833)\" d=\"M 121.6375 224.64 \nL 126.2875 224.64 \nL 126.2875 105.012816 \nL 121.6375 105.012816 \nz\n\" style=\"fill:#ff7f0e;\"/>\n   </g>\n   <g id=\"patch_15\">\n    <path clip-path=\"url(#p4276f4c833)\" d=\"M 158.8375 224.64 \nL 163.4875 224.64 \nL 163.4875 198.502968 \nL 158.8375 198.502968 \nz\n\" style=\"fill:#ff7f0e;\"/>\n   </g>\n   <g id=\"patch_16\">\n    <path clip-path=\"url(#p4276f4c833)\" d=\"M 196.0375 224.64 \nL 200.6875 224.64 \nL 200.6875 172.365936 \nL 196.0375 172.365936 \nz\n\" style=\"fill:#ff7f0e;\"/>\n   </g>\n   <g id=\"patch_17\">\n    <path clip-path=\"url(#p4276f4c833)\" d=\"M 233.2375 224.64 \nL 237.8875 224.64 \nL 237.8875 220.283828 \nL 233.2375 220.283828 \nz\n\" style=\"fill:#ff7f0e;\"/>\n   </g>\n   <g id=\"patch_18\">\n    <path clip-path=\"url(#p4276f4c833)\" d=\"M 270.4375 224.64 \nL 275.0875 224.64 \nL 275.0875 208.220583 \nL 270.4375 208.220583 \nz\n\" style=\"fill:#ff7f0e;\"/>\n   </g>\n   <g id=\"patch_19\">\n    <path clip-path=\"url(#p4276f4c833)\" d=\"M 307.6375 224.64 \nL 312.2875 224.64 \nL 312.2875 224.64 \nL 307.6375 224.64 \nz\n\" style=\"fill:#ff7f0e;\"/>\n   </g>\n   <g id=\"patch_20\">\n    <path clip-path=\"url(#p4276f4c833)\" d=\"M 344.8375 224.64 \nL 349.4875 224.64 \nL 349.4875 216.932926 \nL 344.8375 216.932926 \nz\n\" style=\"fill:#ff7f0e;\"/>\n   </g>\n   <g id=\"patch_21\">\n    <path clip-path=\"url(#p4276f4c833)\" d=\"M 51.8875 224.64 \nL 56.5375 224.64 \nL 56.5375 110.709348 \nL 51.8875 110.709348 \nz\n\" style=\"fill:#2ca02c;\"/>\n   </g>\n   <g id=\"patch_22\">\n    <path clip-path=\"url(#p4276f4c833)\" d=\"M 89.0875 224.64 \nL 93.7375 224.64 \nL 93.7375 175.381748 \nL 89.0875 175.381748 \nz\n\" style=\"fill:#2ca02c;\"/>\n   </g>\n   <g id=\"patch_23\">\n    <path clip-path=\"url(#p4276f4c833)\" d=\"M 126.2875 224.64 \nL 130.9375 224.64 \nL 130.9375 112.049709 \nL 126.2875 112.049709 \nz\n\" style=\"fill:#2ca02c;\"/>\n   </g>\n   <g id=\"patch_24\">\n    <path clip-path=\"url(#p4276f4c833)\" d=\"M 163.4875 224.64 \nL 168.1375 224.64 \nL 168.1375 190.125714 \nL 163.4875 190.125714 \nz\n\" style=\"fill:#2ca02c;\"/>\n   </g>\n   <g id=\"patch_25\">\n    <path clip-path=\"url(#p4276f4c833)\" d=\"M 200.6875 224.64 \nL 205.3375 224.64 \nL 205.3375 153.935978 \nL 200.6875 153.935978 \nz\n\" style=\"fill:#2ca02c;\"/>\n   </g>\n   <g id=\"patch_26\">\n    <path clip-path=\"url(#p4276f4c833)\" d=\"M 237.8875 224.64 \nL 242.5375 224.64 \nL 242.5375 219.613648 \nL 237.8875 219.613648 \nz\n\" style=\"fill:#2ca02c;\"/>\n   </g>\n   <g id=\"patch_27\">\n    <path clip-path=\"url(#p4276f4c833)\" d=\"M 275.0875 224.64 \nL 279.7375 224.64 \nL 279.7375 189.120444 \nL 275.0875 189.120444 \nz\n\" style=\"fill:#2ca02c;\"/>\n   </g>\n   <g id=\"patch_28\">\n    <path clip-path=\"url(#p4276f4c833)\" d=\"M 312.2875 224.64 \nL 316.9375 224.64 \nL 316.9375 224.64 \nL 312.2875 224.64 \nz\n\" style=\"fill:#2ca02c;\"/>\n   </g>\n   <g id=\"patch_29\">\n    <path clip-path=\"url(#p4276f4c833)\" d=\"M 349.4875 224.64 \nL 354.1375 224.64 \nL 354.1375 211.236394 \nL 349.4875 211.236394 \nz\n\" style=\"fill:#2ca02c;\"/>\n   </g>\n   <g id=\"patch_30\">\n    <path clip-path=\"url(#p4276f4c833)\" d=\"M 56.5375 224.64 \nL 61.1875 224.64 \nL 61.1875 139.192011 \nL 56.5375 139.192011 \nz\n\" style=\"fill:#d62728;\"/>\n   </g>\n   <g id=\"patch_31\">\n    <path clip-path=\"url(#p4276f4c833)\" d=\"M 93.7375 224.64 \nL 98.3875 224.64 \nL 98.3875 180.74319 \nL 93.7375 180.74319 \nz\n\" style=\"fill:#d62728;\"/>\n   </g>\n   <g id=\"patch_32\">\n    <path clip-path=\"url(#p4276f4c833)\" d=\"M 130.9375 224.64 \nL 135.5875 224.64 \nL 135.5875 106.353176 \nL 130.9375 106.353176 \nz\n\" style=\"fill:#d62728;\"/>\n   </g>\n   <g id=\"patch_33\">\n    <path clip-path=\"url(#p4276f4c833)\" d=\"M 168.1375 224.64 \nL 172.7875 224.64 \nL 172.7875 190.460804 \nL 168.1375 190.460804 \nz\n\" style=\"fill:#d62728;\"/>\n   </g>\n   <g id=\"patch_34\">\n    <path clip-path=\"url(#p4276f4c833)\" d=\"M 205.3375 224.64 \nL 209.9875 224.64 \nL 209.9875 141.537642 \nL 205.3375 141.537642 \nz\n\" style=\"fill:#d62728;\"/>\n   </g>\n   <g id=\"patch_35\">\n    <path clip-path=\"url(#p4276f4c833)\" d=\"M 242.5375 224.64 \nL 247.1875 224.64 \nL 247.1875 216.932926 \nL 242.5375 216.932926 \nz\n\" style=\"fill:#d62728;\"/>\n   </g>\n   <g id=\"patch_36\">\n    <path clip-path=\"url(#p4276f4c833)\" d=\"M 279.7375 224.64 \nL 284.3875 224.64 \nL 284.3875 180.07301 \nL 279.7375 180.07301 \nz\n\" style=\"fill:#d62728;\"/>\n   </g>\n   <g id=\"patch_37\">\n    <path clip-path=\"url(#p4276f4c833)\" d=\"M 316.9375 224.64 \nL 321.5875 224.64 \nL 321.5875 224.64 \nL 316.9375 224.64 \nz\n\" style=\"fill:#d62728;\"/>\n   </g>\n   <g id=\"patch_38\">\n    <path clip-path=\"url(#p4276f4c833)\" d=\"M 354.1375 224.64 \nL 358.7875 224.64 \nL 358.7875 206.880222 \nL 354.1375 206.880222 \nz\n\" style=\"fill:#d62728;\"/>\n   </g>\n   <g id=\"matplotlib.axis_1\">\n    <g id=\"xtick_1\">\n     <g id=\"line2d_1\">\n      <defs>\n       <path d=\"M 0 0 \nL 0 3.5 \n\" id=\"m59de5950e2\" style=\"stroke:#000000;stroke-width:0.8;\"/>\n      </defs>\n      <g>\n       <use style=\"stroke:#000000;stroke-width:0.8;\" x=\"51.8875\" xlink:href=\"#m59de5950e2\" y=\"224.64\"/>\n      </g>\n     </g>\n     <g id=\"text_1\">\n      <!-- 0 -->\n      <g transform=\"translate(54.646875 238.0025)rotate(-90)scale(0.1 -0.1)\">\n       <defs>\n        <path d=\"M 31.78125 66.40625 \nQ 24.171875 66.40625 20.328125 58.90625 \nQ 16.5 51.421875 16.5 36.375 \nQ 16.5 21.390625 20.328125 13.890625 \nQ 24.171875 6.390625 31.78125 6.390625 \nQ 39.453125 6.390625 43.28125 13.890625 \nQ 47.125 21.390625 47.125 36.375 \nQ 47.125 51.421875 43.28125 58.90625 \nQ 39.453125 66.40625 31.78125 66.40625 \nz\nM 31.78125 74.21875 \nQ 44.046875 74.21875 50.515625 64.515625 \nQ 56.984375 54.828125 56.984375 36.375 \nQ 56.984375 17.96875 50.515625 8.265625 \nQ 44.046875 -1.421875 31.78125 -1.421875 \nQ 19.53125 -1.421875 13.0625 8.265625 \nQ 6.59375 17.96875 6.59375 36.375 \nQ 6.59375 54.828125 13.0625 64.515625 \nQ 19.53125 74.21875 31.78125 74.21875 \nz\n\" id=\"DejaVuSans-48\"/>\n       </defs>\n       <use xlink:href=\"#DejaVuSans-48\"/>\n      </g>\n     </g>\n    </g>\n    <g id=\"xtick_2\">\n     <g id=\"line2d_2\">\n      <g>\n       <use style=\"stroke:#000000;stroke-width:0.8;\" x=\"89.0875\" xlink:href=\"#m59de5950e2\" y=\"224.64\"/>\n      </g>\n     </g>\n     <g id=\"text_2\">\n      <!-- 1 -->\n      <g transform=\"translate(91.846875 238.0025)rotate(-90)scale(0.1 -0.1)\">\n       <defs>\n        <path d=\"M 12.40625 8.296875 \nL 28.515625 8.296875 \nL 28.515625 63.921875 \nL 10.984375 60.40625 \nL 10.984375 69.390625 \nL 28.421875 72.90625 \nL 38.28125 72.90625 \nL 38.28125 8.296875 \nL 54.390625 8.296875 \nL 54.390625 0 \nL 12.40625 0 \nz\n\" id=\"DejaVuSans-49\"/>\n       </defs>\n       <use xlink:href=\"#DejaVuSans-49\"/>\n      </g>\n     </g>\n    </g>\n    <g id=\"xtick_3\">\n     <g id=\"line2d_3\">\n      <g>\n       <use style=\"stroke:#000000;stroke-width:0.8;\" x=\"126.2875\" xlink:href=\"#m59de5950e2\" y=\"224.64\"/>\n      </g>\n     </g>\n     <g id=\"text_3\">\n      <!-- 2 -->\n      <g transform=\"translate(129.046875 238.0025)rotate(-90)scale(0.1 -0.1)\">\n       <defs>\n        <path d=\"M 19.1875 8.296875 \nL 53.609375 8.296875 \nL 53.609375 0 \nL 7.328125 0 \nL 7.328125 8.296875 \nQ 12.9375 14.109375 22.625 23.890625 \nQ 32.328125 33.6875 34.8125 36.53125 \nQ 39.546875 41.84375 41.421875 45.53125 \nQ 43.3125 49.21875 43.3125 52.78125 \nQ 43.3125 58.59375 39.234375 62.25 \nQ 35.15625 65.921875 28.609375 65.921875 \nQ 23.96875 65.921875 18.8125 64.3125 \nQ 13.671875 62.703125 7.8125 59.421875 \nL 7.8125 69.390625 \nQ 13.765625 71.78125 18.9375 73 \nQ 24.125 74.21875 28.421875 74.21875 \nQ 39.75 74.21875 46.484375 68.546875 \nQ 53.21875 62.890625 53.21875 53.421875 \nQ 53.21875 48.921875 51.53125 44.890625 \nQ 49.859375 40.875 45.40625 35.40625 \nQ 44.1875 33.984375 37.640625 27.21875 \nQ 31.109375 20.453125 19.1875 8.296875 \nz\n\" id=\"DejaVuSans-50\"/>\n       </defs>\n       <use xlink:href=\"#DejaVuSans-50\"/>\n      </g>\n     </g>\n    </g>\n    <g id=\"xtick_4\">\n     <g id=\"line2d_4\">\n      <g>\n       <use style=\"stroke:#000000;stroke-width:0.8;\" x=\"163.4875\" xlink:href=\"#m59de5950e2\" y=\"224.64\"/>\n      </g>\n     </g>\n     <g id=\"text_4\">\n      <!-- 3 -->\n      <g transform=\"translate(166.246875 238.0025)rotate(-90)scale(0.1 -0.1)\">\n       <defs>\n        <path d=\"M 40.578125 39.3125 \nQ 47.65625 37.796875 51.625 33 \nQ 55.609375 28.21875 55.609375 21.1875 \nQ 55.609375 10.40625 48.1875 4.484375 \nQ 40.765625 -1.421875 27.09375 -1.421875 \nQ 22.515625 -1.421875 17.65625 -0.515625 \nQ 12.796875 0.390625 7.625 2.203125 \nL 7.625 11.71875 \nQ 11.71875 9.328125 16.59375 8.109375 \nQ 21.484375 6.890625 26.8125 6.890625 \nQ 36.078125 6.890625 40.9375 10.546875 \nQ 45.796875 14.203125 45.796875 21.1875 \nQ 45.796875 27.640625 41.28125 31.265625 \nQ 36.765625 34.90625 28.71875 34.90625 \nL 20.21875 34.90625 \nL 20.21875 43.015625 \nL 29.109375 43.015625 \nQ 36.375 43.015625 40.234375 45.921875 \nQ 44.09375 48.828125 44.09375 54.296875 \nQ 44.09375 59.90625 40.109375 62.90625 \nQ 36.140625 65.921875 28.71875 65.921875 \nQ 24.65625 65.921875 20.015625 65.03125 \nQ 15.375 64.15625 9.8125 62.3125 \nL 9.8125 71.09375 \nQ 15.4375 72.65625 20.34375 73.4375 \nQ 25.25 74.21875 29.59375 74.21875 \nQ 40.828125 74.21875 47.359375 69.109375 \nQ 53.90625 64.015625 53.90625 55.328125 \nQ 53.90625 49.265625 50.4375 45.09375 \nQ 46.96875 40.921875 40.578125 39.3125 \nz\n\" id=\"DejaVuSans-51\"/>\n       </defs>\n       <use xlink:href=\"#DejaVuSans-51\"/>\n      </g>\n     </g>\n    </g>\n    <g id=\"xtick_5\">\n     <g id=\"line2d_5\">\n      <g>\n       <use style=\"stroke:#000000;stroke-width:0.8;\" x=\"200.6875\" xlink:href=\"#m59de5950e2\" y=\"224.64\"/>\n      </g>\n     </g>\n     <g id=\"text_5\">\n      <!-- 4 -->\n      <g transform=\"translate(203.446875 238.0025)rotate(-90)scale(0.1 -0.1)\">\n       <defs>\n        <path d=\"M 37.796875 64.3125 \nL 12.890625 25.390625 \nL 37.796875 25.390625 \nz\nM 35.203125 72.90625 \nL 47.609375 72.90625 \nL 47.609375 25.390625 \nL 58.015625 25.390625 \nL 58.015625 17.1875 \nL 47.609375 17.1875 \nL 47.609375 0 \nL 37.796875 0 \nL 37.796875 17.1875 \nL 4.890625 17.1875 \nL 4.890625 26.703125 \nz\n\" id=\"DejaVuSans-52\"/>\n       </defs>\n       <use xlink:href=\"#DejaVuSans-52\"/>\n      </g>\n     </g>\n    </g>\n    <g id=\"xtick_6\">\n     <g id=\"line2d_6\">\n      <g>\n       <use style=\"stroke:#000000;stroke-width:0.8;\" x=\"237.8875\" xlink:href=\"#m59de5950e2\" y=\"224.64\"/>\n      </g>\n     </g>\n     <g id=\"text_6\">\n      <!-- 5 -->\n      <g transform=\"translate(240.646875 238.0025)rotate(-90)scale(0.1 -0.1)\">\n       <defs>\n        <path d=\"M 10.796875 72.90625 \nL 49.515625 72.90625 \nL 49.515625 64.59375 \nL 19.828125 64.59375 \nL 19.828125 46.734375 \nQ 21.96875 47.46875 24.109375 47.828125 \nQ 26.265625 48.1875 28.421875 48.1875 \nQ 40.625 48.1875 47.75 41.5 \nQ 54.890625 34.8125 54.890625 23.390625 \nQ 54.890625 11.625 47.5625 5.09375 \nQ 40.234375 -1.421875 26.90625 -1.421875 \nQ 22.3125 -1.421875 17.546875 -0.640625 \nQ 12.796875 0.140625 7.71875 1.703125 \nL 7.71875 11.625 \nQ 12.109375 9.234375 16.796875 8.0625 \nQ 21.484375 6.890625 26.703125 6.890625 \nQ 35.15625 6.890625 40.078125 11.328125 \nQ 45.015625 15.765625 45.015625 23.390625 \nQ 45.015625 31 40.078125 35.4375 \nQ 35.15625 39.890625 26.703125 39.890625 \nQ 22.75 39.890625 18.8125 39.015625 \nQ 14.890625 38.140625 10.796875 36.28125 \nz\n\" id=\"DejaVuSans-53\"/>\n       </defs>\n       <use xlink:href=\"#DejaVuSans-53\"/>\n      </g>\n     </g>\n    </g>\n    <g id=\"xtick_7\">\n     <g id=\"line2d_7\">\n      <g>\n       <use style=\"stroke:#000000;stroke-width:0.8;\" x=\"275.0875\" xlink:href=\"#m59de5950e2\" y=\"224.64\"/>\n      </g>\n     </g>\n     <g id=\"text_7\">\n      <!-- 6 -->\n      <g transform=\"translate(277.846875 238.0025)rotate(-90)scale(0.1 -0.1)\">\n       <defs>\n        <path d=\"M 33.015625 40.375 \nQ 26.375 40.375 22.484375 35.828125 \nQ 18.609375 31.296875 18.609375 23.390625 \nQ 18.609375 15.53125 22.484375 10.953125 \nQ 26.375 6.390625 33.015625 6.390625 \nQ 39.65625 6.390625 43.53125 10.953125 \nQ 47.40625 15.53125 47.40625 23.390625 \nQ 47.40625 31.296875 43.53125 35.828125 \nQ 39.65625 40.375 33.015625 40.375 \nz\nM 52.59375 71.296875 \nL 52.59375 62.3125 \nQ 48.875 64.0625 45.09375 64.984375 \nQ 41.3125 65.921875 37.59375 65.921875 \nQ 27.828125 65.921875 22.671875 59.328125 \nQ 17.53125 52.734375 16.796875 39.40625 \nQ 19.671875 43.65625 24.015625 45.921875 \nQ 28.375 48.1875 33.59375 48.1875 \nQ 44.578125 48.1875 50.953125 41.515625 \nQ 57.328125 34.859375 57.328125 23.390625 \nQ 57.328125 12.15625 50.6875 5.359375 \nQ 44.046875 -1.421875 33.015625 -1.421875 \nQ 20.359375 -1.421875 13.671875 8.265625 \nQ 6.984375 17.96875 6.984375 36.375 \nQ 6.984375 53.65625 15.1875 63.9375 \nQ 23.390625 74.21875 37.203125 74.21875 \nQ 40.921875 74.21875 44.703125 73.484375 \nQ 48.484375 72.75 52.59375 71.296875 \nz\n\" id=\"DejaVuSans-54\"/>\n       </defs>\n       <use xlink:href=\"#DejaVuSans-54\"/>\n      </g>\n     </g>\n    </g>\n    <g id=\"xtick_8\">\n     <g id=\"line2d_8\">\n      <g>\n       <use style=\"stroke:#000000;stroke-width:0.8;\" x=\"312.2875\" xlink:href=\"#m59de5950e2\" y=\"224.64\"/>\n      </g>\n     </g>\n     <g id=\"text_8\">\n      <!-- 7 -->\n      <g transform=\"translate(315.046875 238.0025)rotate(-90)scale(0.1 -0.1)\">\n       <defs>\n        <path d=\"M 8.203125 72.90625 \nL 55.078125 72.90625 \nL 55.078125 68.703125 \nL 28.609375 0 \nL 18.3125 0 \nL 43.21875 64.59375 \nL 8.203125 64.59375 \nz\n\" id=\"DejaVuSans-55\"/>\n       </defs>\n       <use xlink:href=\"#DejaVuSans-55\"/>\n      </g>\n     </g>\n    </g>\n    <g id=\"xtick_9\">\n     <g id=\"line2d_9\">\n      <g>\n       <use style=\"stroke:#000000;stroke-width:0.8;\" x=\"349.4875\" xlink:href=\"#m59de5950e2\" y=\"224.64\"/>\n      </g>\n     </g>\n     <g id=\"text_9\">\n      <!-- 8 -->\n      <g transform=\"translate(352.246875 238.0025)rotate(-90)scale(0.1 -0.1)\">\n       <defs>\n        <path d=\"M 31.78125 34.625 \nQ 24.75 34.625 20.71875 30.859375 \nQ 16.703125 27.09375 16.703125 20.515625 \nQ 16.703125 13.921875 20.71875 10.15625 \nQ 24.75 6.390625 31.78125 6.390625 \nQ 38.8125 6.390625 42.859375 10.171875 \nQ 46.921875 13.96875 46.921875 20.515625 \nQ 46.921875 27.09375 42.890625 30.859375 \nQ 38.875 34.625 31.78125 34.625 \nz\nM 21.921875 38.8125 \nQ 15.578125 40.375 12.03125 44.71875 \nQ 8.5 49.078125 8.5 55.328125 \nQ 8.5 64.0625 14.71875 69.140625 \nQ 20.953125 74.21875 31.78125 74.21875 \nQ 42.671875 74.21875 48.875 69.140625 \nQ 55.078125 64.0625 55.078125 55.328125 \nQ 55.078125 49.078125 51.53125 44.71875 \nQ 48 40.375 41.703125 38.8125 \nQ 48.828125 37.15625 52.796875 32.3125 \nQ 56.78125 27.484375 56.78125 20.515625 \nQ 56.78125 9.90625 50.3125 4.234375 \nQ 43.84375 -1.421875 31.78125 -1.421875 \nQ 19.734375 -1.421875 13.25 4.234375 \nQ 6.78125 9.90625 6.78125 20.515625 \nQ 6.78125 27.484375 10.78125 32.3125 \nQ 14.796875 37.15625 21.921875 38.8125 \nz\nM 18.3125 54.390625 \nQ 18.3125 48.734375 21.84375 45.5625 \nQ 25.390625 42.390625 31.78125 42.390625 \nQ 38.140625 42.390625 41.71875 45.5625 \nQ 45.3125 48.734375 45.3125 54.390625 \nQ 45.3125 60.0625 41.71875 63.234375 \nQ 38.140625 66.40625 31.78125 66.40625 \nQ 25.390625 66.40625 21.84375 63.234375 \nQ 18.3125 60.0625 18.3125 54.390625 \nz\n\" id=\"DejaVuSans-56\"/>\n       </defs>\n       <use xlink:href=\"#DejaVuSans-56\"/>\n      </g>\n     </g>\n    </g>\n   </g>\n   <g id=\"matplotlib.axis_2\">\n    <g id=\"ytick_1\">\n     <g id=\"line2d_10\">\n      <defs>\n       <path d=\"M 0 0 \nL -3.5 0 \n\" id=\"m07e4d2ab9c\" style=\"stroke:#000000;stroke-width:0.8;\"/>\n      </defs>\n      <g>\n       <use style=\"stroke:#000000;stroke-width:0.8;\" x=\"33.2875\" xlink:href=\"#m07e4d2ab9c\" y=\"224.64\"/>\n      </g>\n     </g>\n     <g id=\"text_10\">\n      <!-- 0 -->\n      <g transform=\"translate(19.925 228.439219)scale(0.1 -0.1)\">\n       <use xlink:href=\"#DejaVuSans-48\"/>\n      </g>\n     </g>\n    </g>\n    <g id=\"ytick_2\">\n     <g id=\"line2d_11\">\n      <g>\n       <use style=\"stroke:#000000;stroke-width:0.8;\" x=\"33.2875\" xlink:href=\"#m07e4d2ab9c\" y=\"191.130985\"/>\n      </g>\n     </g>\n     <g id=\"text_11\">\n      <!-- 100 -->\n      <g transform=\"translate(7.2 194.930203)scale(0.1 -0.1)\">\n       <use xlink:href=\"#DejaVuSans-49\"/>\n       <use x=\"63.623047\" xlink:href=\"#DejaVuSans-48\"/>\n       <use x=\"127.246094\" xlink:href=\"#DejaVuSans-48\"/>\n      </g>\n     </g>\n    </g>\n    <g id=\"ytick_3\">\n     <g id=\"line2d_12\">\n      <g>\n       <use style=\"stroke:#000000;stroke-width:0.8;\" x=\"33.2875\" xlink:href=\"#m07e4d2ab9c\" y=\"157.621969\"/>\n      </g>\n     </g>\n     <g id=\"text_12\">\n      <!-- 200 -->\n      <g transform=\"translate(7.2 161.421188)scale(0.1 -0.1)\">\n       <use xlink:href=\"#DejaVuSans-50\"/>\n       <use x=\"63.623047\" xlink:href=\"#DejaVuSans-48\"/>\n       <use x=\"127.246094\" xlink:href=\"#DejaVuSans-48\"/>\n      </g>\n     </g>\n    </g>\n    <g id=\"ytick_4\">\n     <g id=\"line2d_13\">\n      <g>\n       <use style=\"stroke:#000000;stroke-width:0.8;\" x=\"33.2875\" xlink:href=\"#m07e4d2ab9c\" y=\"124.112954\"/>\n      </g>\n     </g>\n     <g id=\"text_13\">\n      <!-- 300 -->\n      <g transform=\"translate(7.2 127.912173)scale(0.1 -0.1)\">\n       <use xlink:href=\"#DejaVuSans-51\"/>\n       <use x=\"63.623047\" xlink:href=\"#DejaVuSans-48\"/>\n       <use x=\"127.246094\" xlink:href=\"#DejaVuSans-48\"/>\n      </g>\n     </g>\n    </g>\n    <g id=\"ytick_5\">\n     <g id=\"line2d_14\">\n      <g>\n       <use style=\"stroke:#000000;stroke-width:0.8;\" x=\"33.2875\" xlink:href=\"#m07e4d2ab9c\" y=\"90.603939\"/>\n      </g>\n     </g>\n     <g id=\"text_14\">\n      <!-- 400 -->\n      <g transform=\"translate(7.2 94.403158)scale(0.1 -0.1)\">\n       <use xlink:href=\"#DejaVuSans-52\"/>\n       <use x=\"63.623047\" xlink:href=\"#DejaVuSans-48\"/>\n       <use x=\"127.246094\" xlink:href=\"#DejaVuSans-48\"/>\n      </g>\n     </g>\n    </g>\n    <g id=\"ytick_6\">\n     <g id=\"line2d_15\">\n      <g>\n       <use style=\"stroke:#000000;stroke-width:0.8;\" x=\"33.2875\" xlink:href=\"#m07e4d2ab9c\" y=\"57.094924\"/>\n      </g>\n     </g>\n     <g id=\"text_15\">\n      <!-- 500 -->\n      <g transform=\"translate(7.2 60.894142)scale(0.1 -0.1)\">\n       <use xlink:href=\"#DejaVuSans-53\"/>\n       <use x=\"63.623047\" xlink:href=\"#DejaVuSans-48\"/>\n       <use x=\"127.246094\" xlink:href=\"#DejaVuSans-48\"/>\n      </g>\n     </g>\n    </g>\n    <g id=\"ytick_7\">\n     <g id=\"line2d_16\">\n      <g>\n       <use style=\"stroke:#000000;stroke-width:0.8;\" x=\"33.2875\" xlink:href=\"#m07e4d2ab9c\" y=\"23.585908\"/>\n      </g>\n     </g>\n     <g id=\"text_16\">\n      <!-- 600 -->\n      <g transform=\"translate(7.2 27.385127)scale(0.1 -0.1)\">\n       <use xlink:href=\"#DejaVuSans-54\"/>\n       <use x=\"63.623047\" xlink:href=\"#DejaVuSans-48\"/>\n       <use x=\"127.246094\" xlink:href=\"#DejaVuSans-48\"/>\n      </g>\n     </g>\n    </g>\n   </g>\n   <g id=\"patch_39\">\n    <path d=\"M 33.2875 224.64 \nL 33.2875 7.2 \n\" style=\"fill:none;stroke:#000000;stroke-linecap:square;stroke-linejoin:miter;stroke-width:0.8;\"/>\n   </g>\n   <g id=\"patch_40\">\n    <path d=\"M 368.0875 224.64 \nL 368.0875 7.2 \n\" style=\"fill:none;stroke:#000000;stroke-linecap:square;stroke-linejoin:miter;stroke-width:0.8;\"/>\n   </g>\n   <g id=\"patch_41\">\n    <path d=\"M 33.2875 224.64 \nL 368.0875 224.64 \n\" style=\"fill:none;stroke:#000000;stroke-linecap:square;stroke-linejoin:miter;stroke-width:0.8;\"/>\n   </g>\n   <g id=\"patch_42\">\n    <path d=\"M 33.2875 7.2 \nL 368.0875 7.2 \n\" style=\"fill:none;stroke:#000000;stroke-linecap:square;stroke-linejoin:miter;stroke-width:0.8;\"/>\n   </g>\n   <g id=\"legend_1\">\n    <g id=\"patch_43\">\n     <path d=\"M 306.821875 73.9125 \nL 361.0875 73.9125 \nQ 363.0875 73.9125 363.0875 71.9125 \nL 363.0875 14.2 \nQ 363.0875 12.2 361.0875 12.2 \nL 306.821875 12.2 \nQ 304.821875 12.2 304.821875 14.2 \nL 304.821875 71.9125 \nQ 304.821875 73.9125 306.821875 73.9125 \nz\n\" style=\"fill:#ffffff;opacity:0.8;stroke:#cccccc;stroke-linejoin:miter;\"/>\n    </g>\n    <g id=\"patch_44\">\n     <path d=\"M 308.821875 23.798437 \nL 328.821875 23.798437 \nL 328.821875 16.798437 \nL 308.821875 16.798437 \nz\n\" style=\"fill:#1f77b4;\"/>\n    </g>\n    <g id=\"text_17\">\n     <!-- 0.05 -->\n     <g transform=\"translate(336.821875 23.798437)scale(0.1 -0.1)\">\n      <defs>\n       <path d=\"M 10.6875 12.40625 \nL 21 12.40625 \nL 21 0 \nL 10.6875 0 \nz\n\" id=\"DejaVuSans-46\"/>\n      </defs>\n      <use xlink:href=\"#DejaVuSans-48\"/>\n      <use x=\"63.623047\" xlink:href=\"#DejaVuSans-46\"/>\n      <use x=\"95.410156\" xlink:href=\"#DejaVuSans-48\"/>\n      <use x=\"159.033203\" xlink:href=\"#DejaVuSans-53\"/>\n     </g>\n    </g>\n    <g id=\"patch_45\">\n     <path d=\"M 308.821875 38.476562 \nL 328.821875 38.476562 \nL 328.821875 31.476562 \nL 308.821875 31.476562 \nz\n\" style=\"fill:#ff7f0e;\"/>\n    </g>\n    <g id=\"text_18\">\n     <!-- 0.1 -->\n     <g transform=\"translate(336.821875 38.476562)scale(0.1 -0.1)\">\n      <use xlink:href=\"#DejaVuSans-48\"/>\n      <use x=\"63.623047\" xlink:href=\"#DejaVuSans-46\"/>\n      <use x=\"95.410156\" xlink:href=\"#DejaVuSans-49\"/>\n     </g>\n    </g>\n    <g id=\"patch_46\">\n     <path d=\"M 308.821875 53.154687 \nL 328.821875 53.154687 \nL 328.821875 46.154687 \nL 308.821875 46.154687 \nz\n\" style=\"fill:#2ca02c;\"/>\n    </g>\n    <g id=\"text_19\">\n     <!-- 0.15 -->\n     <g transform=\"translate(336.821875 53.154687)scale(0.1 -0.1)\">\n      <use xlink:href=\"#DejaVuSans-48\"/>\n      <use x=\"63.623047\" xlink:href=\"#DejaVuSans-46\"/>\n      <use x=\"95.410156\" xlink:href=\"#DejaVuSans-49\"/>\n      <use x=\"159.033203\" xlink:href=\"#DejaVuSans-53\"/>\n     </g>\n    </g>\n    <g id=\"patch_47\">\n     <path d=\"M 308.821875 67.832812 \nL 328.821875 67.832812 \nL 328.821875 60.832812 \nL 308.821875 60.832812 \nz\n\" style=\"fill:#d62728;\"/>\n    </g>\n    <g id=\"text_20\">\n     <!-- 0.2 -->\n     <g transform=\"translate(336.821875 67.832812)scale(0.1 -0.1)\">\n      <use xlink:href=\"#DejaVuSans-48\"/>\n      <use x=\"63.623047\" xlink:href=\"#DejaVuSans-46\"/>\n      <use x=\"95.410156\" xlink:href=\"#DejaVuSans-50\"/>\n     </g>\n    </g>\n   </g>\n  </g>\n </g>\n <defs>\n  <clipPath id=\"p4276f4c833\">\n   <rect height=\"217.44\" width=\"334.8\" x=\"33.2875\" y=\"7.2\"/>\n  </clipPath>\n </defs>\n</svg>\n",
      "image/png": "[encoded data removed]"
     },
     "metadata": {
      "needs_background": "light"
     }
    }
   ],
   "source": [
    "df_edit_dist.plot.bar()"
   ]
  },
  {
   "cell_type": "code",
   "execution_count": 24,
   "metadata": {},
   "outputs": [
    {
     "output_type": "execute_result",
     "data": {
      "text/plain": [
       "   0.1  0.2  0.3\n",
       "0   45   26   20\n",
       "1   12   11    9\n",
       "2   33   32   31\n",
       "3    4    4    6\n",
       "4    6   15   19\n",
       "5    0    1    0\n",
       "6    3    9   15\n",
       "7    0    0    0\n",
       "8    0    5    3"
      ],
      "text/html": "<div>\n<style scoped>\n    .dataframe tbody tr th:only-of-type {\n        vertical-align: middle;\n    }\n\n    .dataframe tbody tr th {\n        vertical-align: top;\n    }\n\n    .dataframe thead th {\n        text-align: right;\n    }\n</style>\n<table border=\"1\" class=\"dataframe\">\n  <thead>\n    <tr style=\"text-align: right;\">\n      <th></th>\n      <th>0.1</th>\n      <th>0.2</th>\n      <th>0.3</th>\n    </tr>\n  </thead>\n  <tbody>\n    <tr>\n      <th>0</th>\n      <td>45</td>\n      <td>26</td>\n      <td>20</td>\n    </tr>\n    <tr>\n      <th>1</th>\n      <td>12</td>\n      <td>11</td>\n      <td>9</td>\n    </tr>\n    <tr>\n      <th>2</th>\n      <td>33</td>\n      <td>32</td>\n      <td>31</td>\n    </tr>\n    <tr>\n      <th>3</th>\n      <td>4</td>\n      <td>4</td>\n      <td>6</td>\n    </tr>\n    <tr>\n      <th>4</th>\n      <td>6</td>\n      <td>15</td>\n      <td>19</td>\n    </tr>\n    <tr>\n      <th>5</th>\n      <td>0</td>\n      <td>1</td>\n      <td>0</td>\n    </tr>\n    <tr>\n      <th>6</th>\n      <td>3</td>\n      <td>9</td>\n      <td>15</td>\n    </tr>\n    <tr>\n      <th>7</th>\n      <td>0</td>\n      <td>0</td>\n      <td>0</td>\n    </tr>\n    <tr>\n      <th>8</th>\n      <td>0</td>\n      <td>5</td>\n      <td>3</td>\n    </tr>\n  </tbody>\n</table>\n</div>"
     },
     "metadata": {},
     "execution_count": 24
    }
   ],
   "source": [
    "df_edit_dist"
   ]
  },
  {
   "cell_type": "code",
   "execution_count": 23,
   "metadata": {},
   "outputs": [
    {
     "output_type": "execute_result",
     "data": {
      "text/plain": [
       "<AxesSubplot:>"
      ]
     },
     "metadata": {},
     "execution_count": 23
    },
    {
     "output_type": "display_data",
     "data": {
      "text/plain": "<Figure size 432x288 with 1 Axes>",
      "image/svg+xml": "<?xml version=\"1.0\" encoding=\"utf-8\" standalone=\"no\"?>\n<!DOCTYPE svg PUBLIC \"-//W3C//DTD SVG 1.1//EN\"\n  \"http://www.w3.org/Graphics/SVG/1.1/DTD/svg11.dtd\">\n<!-- Created with matplotlib (https://matplotlib.org/) -->\n<svg height=\"245.2025pt\" version=\"1.1\" viewBox=\"0 0 368.925 245.2025\" width=\"368.925pt\" xmlns=\"http://www.w3.org/2000/svg\" xmlns:xlink=\"http://www.w3.org/1999/xlink\">\n <metadata>\n  <rdf:RDF xmlns:cc=\"http://creativecommons.org/ns#\" xmlns:dc=\"http://purl.org/dc/elements/1.1/\" xmlns:rdf=\"http://www.w3.org/1999/02/22-rdf-syntax-ns#\">\n   <cc:Work>\n    <dc:type rdf:resource=\"http://purl.org/dc/dcmitype/StillImage\"/>\n    <dc:date>2021-02-16T15:55:21.028780</dc:date>\n    <dc:format>image/svg+xml</dc:format>\n    <dc:creator>\n     <cc:Agent>\n      <dc:title>Matplotlib v3.3.2, https://matplotlib.org/</dc:title>\n     </cc:Agent>\n    </dc:creator>\n   </cc:Work>\n  </rdf:RDF>\n </metadata>\n <defs>\n  <style type=\"text/css\">*{stroke-linecap:butt;stroke-linejoin:round;}</style>\n </defs>\n <g id=\"figure_1\">\n  <g id=\"patch_1\">\n   <path d=\"M -0 245.2025 \nL 368.925 245.2025 \nL 368.925 0 \nL -0 0 \nz\n\" style=\"fill:none;\"/>\n  </g>\n  <g id=\"axes_1\">\n   <g id=\"patch_2\">\n    <path d=\"M 26.925 224.64 \nL 361.725 224.64 \nL 361.725 7.2 \nL 26.925 7.2 \nz\n\" style=\"fill:#ffffff;\"/>\n   </g>\n   <g id=\"patch_3\">\n    <path clip-path=\"url(#p190be87040)\" d=\"M 36.225 224.64 \nL 42.425 224.64 \nL 42.425 17.554286 \nL 36.225 17.554286 \nz\n\" style=\"fill:#1f77b4;\"/>\n   </g>\n   <g id=\"patch_4\">\n    <path clip-path=\"url(#p190be87040)\" d=\"M 73.425 224.64 \nL 79.625 224.64 \nL 79.625 169.417143 \nL 73.425 169.417143 \nz\n\" style=\"fill:#1f77b4;\"/>\n   </g>\n   <g id=\"patch_5\">\n    <path clip-path=\"url(#p190be87040)\" d=\"M 110.625 224.64 \nL 116.825 224.64 \nL 116.825 72.777143 \nL 110.625 72.777143 \nz\n\" style=\"fill:#1f77b4;\"/>\n   </g>\n   <g id=\"patch_6\">\n    <path clip-path=\"url(#p190be87040)\" d=\"M 147.825 224.64 \nL 154.025 224.64 \nL 154.025 206.232381 \nL 147.825 206.232381 \nz\n\" style=\"fill:#1f77b4;\"/>\n   </g>\n   <g id=\"patch_7\">\n    <path clip-path=\"url(#p190be87040)\" d=\"M 185.025 224.64 \nL 191.225 224.64 \nL 191.225 197.028571 \nL 185.025 197.028571 \nz\n\" style=\"fill:#1f77b4;\"/>\n   </g>\n   <g id=\"patch_8\">\n    <path clip-path=\"url(#p190be87040)\" d=\"M 222.225 224.64 \nL 228.425 224.64 \nL 228.425 224.64 \nL 222.225 224.64 \nz\n\" style=\"fill:#1f77b4;\"/>\n   </g>\n   <g id=\"patch_9\">\n    <path clip-path=\"url(#p190be87040)\" d=\"M 259.425 224.64 \nL 265.625 224.64 \nL 265.625 210.834286 \nL 259.425 210.834286 \nz\n\" style=\"fill:#1f77b4;\"/>\n   </g>\n   <g id=\"patch_10\">\n    <path clip-path=\"url(#p190be87040)\" d=\"M 296.625 224.64 \nL 302.825 224.64 \nL 302.825 224.64 \nL 296.625 224.64 \nz\n\" style=\"fill:#1f77b4;\"/>\n   </g>\n   <g id=\"patch_11\">\n    <path clip-path=\"url(#p190be87040)\" d=\"M 333.825 224.64 \nL 340.025 224.64 \nL 340.025 224.64 \nL 333.825 224.64 \nz\n\" style=\"fill:#1f77b4;\"/>\n   </g>\n   <g id=\"patch_12\">\n    <path clip-path=\"url(#p190be87040)\" d=\"M 42.425 224.64 \nL 48.625 224.64 \nL 48.625 104.990476 \nL 42.425 104.990476 \nz\n\" style=\"fill:#ff7f0e;\"/>\n   </g>\n   <g id=\"patch_13\">\n    <path clip-path=\"url(#p190be87040)\" d=\"M 79.625 224.64 \nL 85.825 224.64 \nL 85.825 174.019048 \nL 79.625 174.019048 \nz\n\" style=\"fill:#ff7f0e;\"/>\n   </g>\n   <g id=\"patch_14\">\n    <path clip-path=\"url(#p190be87040)\" d=\"M 116.825 224.64 \nL 123.025 224.64 \nL 123.025 77.379048 \nL 116.825 77.379048 \nz\n\" style=\"fill:#ff7f0e;\"/>\n   </g>\n   <g id=\"patch_15\">\n    <path clip-path=\"url(#p190be87040)\" d=\"M 154.025 224.64 \nL 160.225 224.64 \nL 160.225 206.232381 \nL 154.025 206.232381 \nz\n\" style=\"fill:#ff7f0e;\"/>\n   </g>\n   <g id=\"patch_16\">\n    <path clip-path=\"url(#p190be87040)\" d=\"M 191.225 224.64 \nL 197.425 224.64 \nL 197.425 155.611429 \nL 191.225 155.611429 \nz\n\" style=\"fill:#ff7f0e;\"/>\n   </g>\n   <g id=\"patch_17\">\n    <path clip-path=\"url(#p190be87040)\" d=\"M 228.425 224.64 \nL 234.625 224.64 \nL 234.625 220.038095 \nL 228.425 220.038095 \nz\n\" style=\"fill:#ff7f0e;\"/>\n   </g>\n   <g id=\"patch_18\">\n    <path clip-path=\"url(#p190be87040)\" d=\"M 265.625 224.64 \nL 271.825 224.64 \nL 271.825 183.222857 \nL 265.625 183.222857 \nz\n\" style=\"fill:#ff7f0e;\"/>\n   </g>\n   <g id=\"patch_19\">\n    <path clip-path=\"url(#p190be87040)\" d=\"M 302.825 224.64 \nL 309.025 224.64 \nL 309.025 224.64 \nL 302.825 224.64 \nz\n\" style=\"fill:#ff7f0e;\"/>\n   </g>\n   <g id=\"patch_20\">\n    <path clip-path=\"url(#p190be87040)\" d=\"M 340.025 224.64 \nL 346.225 224.64 \nL 346.225 201.630476 \nL 340.025 201.630476 \nz\n\" style=\"fill:#ff7f0e;\"/>\n   </g>\n   <g id=\"patch_21\">\n    <path clip-path=\"url(#p190be87040)\" d=\"M 48.625 224.64 \nL 54.825 224.64 \nL 54.825 132.601905 \nL 48.625 132.601905 \nz\n\" style=\"fill:#2ca02c;\"/>\n   </g>\n   <g id=\"patch_22\">\n    <path clip-path=\"url(#p190be87040)\" d=\"M 85.825 224.64 \nL 92.025 224.64 \nL 92.025 183.222857 \nL 85.825 183.222857 \nz\n\" style=\"fill:#2ca02c;\"/>\n   </g>\n   <g id=\"patch_23\">\n    <path clip-path=\"url(#p190be87040)\" d=\"M 123.025 224.64 \nL 129.225 224.64 \nL 129.225 81.980952 \nL 123.025 81.980952 \nz\n\" style=\"fill:#2ca02c;\"/>\n   </g>\n   <g id=\"patch_24\">\n    <path clip-path=\"url(#p190be87040)\" d=\"M 160.225 224.64 \nL 166.425 224.64 \nL 166.425 197.028571 \nL 160.225 197.028571 \nz\n\" style=\"fill:#2ca02c;\"/>\n   </g>\n   <g id=\"patch_25\">\n    <path clip-path=\"url(#p190be87040)\" d=\"M 197.425 224.64 \nL 203.625 224.64 \nL 203.625 137.20381 \nL 197.425 137.20381 \nz\n\" style=\"fill:#2ca02c;\"/>\n   </g>\n   <g id=\"patch_26\">\n    <path clip-path=\"url(#p190be87040)\" d=\"M 234.625 224.64 \nL 240.825 224.64 \nL 240.825 224.64 \nL 234.625 224.64 \nz\n\" style=\"fill:#2ca02c;\"/>\n   </g>\n   <g id=\"patch_27\">\n    <path clip-path=\"url(#p190be87040)\" d=\"M 271.825 224.64 \nL 278.025 224.64 \nL 278.025 155.611429 \nL 271.825 155.611429 \nz\n\" style=\"fill:#2ca02c;\"/>\n   </g>\n   <g id=\"patch_28\">\n    <path clip-path=\"url(#p190be87040)\" d=\"M 309.025 224.64 \nL 315.225 224.64 \nL 315.225 224.64 \nL 309.025 224.64 \nz\n\" style=\"fill:#2ca02c;\"/>\n   </g>\n   <g id=\"patch_29\">\n    <path clip-path=\"url(#p190be87040)\" d=\"M 346.225 224.64 \nL 352.425 224.64 \nL 352.425 210.834286 \nL 346.225 210.834286 \nz\n\" style=\"fill:#2ca02c;\"/>\n   </g>\n   <g id=\"matplotlib.axis_1\">\n    <g id=\"xtick_1\">\n     <g id=\"line2d_1\">\n      <defs>\n       <path d=\"M 0 0 \nL 0 3.5 \n\" id=\"m1062bf8f2a\" style=\"stroke:#000000;stroke-width:0.8;\"/>\n      </defs>\n      <g>\n       <use style=\"stroke:#000000;stroke-width:0.8;\" x=\"45.525\" xlink:href=\"#m1062bf8f2a\" y=\"224.64\"/>\n      </g>\n     </g>\n     <g id=\"text_1\">\n      <!-- 0 -->\n      <g transform=\"translate(48.284375 238.0025)rotate(-90)scale(0.1 -0.1)\">\n       <defs>\n        <path d=\"M 31.78125 66.40625 \nQ 24.171875 66.40625 20.328125 58.90625 \nQ 16.5 51.421875 16.5 36.375 \nQ 16.5 21.390625 20.328125 13.890625 \nQ 24.171875 6.390625 31.78125 6.390625 \nQ 39.453125 6.390625 43.28125 13.890625 \nQ 47.125 21.390625 47.125 36.375 \nQ 47.125 51.421875 43.28125 58.90625 \nQ 39.453125 66.40625 31.78125 66.40625 \nz\nM 31.78125 74.21875 \nQ 44.046875 74.21875 50.515625 64.515625 \nQ 56.984375 54.828125 56.984375 36.375 \nQ 56.984375 17.96875 50.515625 8.265625 \nQ 44.046875 -1.421875 31.78125 -1.421875 \nQ 19.53125 -1.421875 13.0625 8.265625 \nQ 6.59375 17.96875 6.59375 36.375 \nQ 6.59375 54.828125 13.0625 64.515625 \nQ 19.53125 74.21875 31.78125 74.21875 \nz\n\" id=\"DejaVuSans-48\"/>\n       </defs>\n       <use xlink:href=\"#DejaVuSans-48\"/>\n      </g>\n     </g>\n    </g>\n    <g id=\"xtick_2\">\n     <g id=\"line2d_2\">\n      <g>\n       <use style=\"stroke:#000000;stroke-width:0.8;\" x=\"82.725\" xlink:href=\"#m1062bf8f2a\" y=\"224.64\"/>\n      </g>\n     </g>\n     <g id=\"text_2\">\n      <!-- 1 -->\n      <g transform=\"translate(85.484375 238.0025)rotate(-90)scale(0.1 -0.1)\">\n       <defs>\n        <path d=\"M 12.40625 8.296875 \nL 28.515625 8.296875 \nL 28.515625 63.921875 \nL 10.984375 60.40625 \nL 10.984375 69.390625 \nL 28.421875 72.90625 \nL 38.28125 72.90625 \nL 38.28125 8.296875 \nL 54.390625 8.296875 \nL 54.390625 0 \nL 12.40625 0 \nz\n\" id=\"DejaVuSans-49\"/>\n       </defs>\n       <use xlink:href=\"#DejaVuSans-49\"/>\n      </g>\n     </g>\n    </g>\n    <g id=\"xtick_3\">\n     <g id=\"line2d_3\">\n      <g>\n       <use style=\"stroke:#000000;stroke-width:0.8;\" x=\"119.925\" xlink:href=\"#m1062bf8f2a\" y=\"224.64\"/>\n      </g>\n     </g>\n     <g id=\"text_3\">\n      <!-- 2 -->\n      <g transform=\"translate(122.684375 238.0025)rotate(-90)scale(0.1 -0.1)\">\n       <defs>\n        <path d=\"M 19.1875 8.296875 \nL 53.609375 8.296875 \nL 53.609375 0 \nL 7.328125 0 \nL 7.328125 8.296875 \nQ 12.9375 14.109375 22.625 23.890625 \nQ 32.328125 33.6875 34.8125 36.53125 \nQ 39.546875 41.84375 41.421875 45.53125 \nQ 43.3125 49.21875 43.3125 52.78125 \nQ 43.3125 58.59375 39.234375 62.25 \nQ 35.15625 65.921875 28.609375 65.921875 \nQ 23.96875 65.921875 18.8125 64.3125 \nQ 13.671875 62.703125 7.8125 59.421875 \nL 7.8125 69.390625 \nQ 13.765625 71.78125 18.9375 73 \nQ 24.125 74.21875 28.421875 74.21875 \nQ 39.75 74.21875 46.484375 68.546875 \nQ 53.21875 62.890625 53.21875 53.421875 \nQ 53.21875 48.921875 51.53125 44.890625 \nQ 49.859375 40.875 45.40625 35.40625 \nQ 44.1875 33.984375 37.640625 27.21875 \nQ 31.109375 20.453125 19.1875 8.296875 \nz\n\" id=\"DejaVuSans-50\"/>\n       </defs>\n       <use xlink:href=\"#DejaVuSans-50\"/>\n      </g>\n     </g>\n    </g>\n    <g id=\"xtick_4\">\n     <g id=\"line2d_4\">\n      <g>\n       <use style=\"stroke:#000000;stroke-width:0.8;\" x=\"157.125\" xlink:href=\"#m1062bf8f2a\" y=\"224.64\"/>\n      </g>\n     </g>\n     <g id=\"text_4\">\n      <!-- 3 -->\n      <g transform=\"translate(159.884375 238.0025)rotate(-90)scale(0.1 -0.1)\">\n       <defs>\n        <path d=\"M 40.578125 39.3125 \nQ 47.65625 37.796875 51.625 33 \nQ 55.609375 28.21875 55.609375 21.1875 \nQ 55.609375 10.40625 48.1875 4.484375 \nQ 40.765625 -1.421875 27.09375 -1.421875 \nQ 22.515625 -1.421875 17.65625 -0.515625 \nQ 12.796875 0.390625 7.625 2.203125 \nL 7.625 11.71875 \nQ 11.71875 9.328125 16.59375 8.109375 \nQ 21.484375 6.890625 26.8125 6.890625 \nQ 36.078125 6.890625 40.9375 10.546875 \nQ 45.796875 14.203125 45.796875 21.1875 \nQ 45.796875 27.640625 41.28125 31.265625 \nQ 36.765625 34.90625 28.71875 34.90625 \nL 20.21875 34.90625 \nL 20.21875 43.015625 \nL 29.109375 43.015625 \nQ 36.375 43.015625 40.234375 45.921875 \nQ 44.09375 48.828125 44.09375 54.296875 \nQ 44.09375 59.90625 40.109375 62.90625 \nQ 36.140625 65.921875 28.71875 65.921875 \nQ 24.65625 65.921875 20.015625 65.03125 \nQ 15.375 64.15625 9.8125 62.3125 \nL 9.8125 71.09375 \nQ 15.4375 72.65625 20.34375 73.4375 \nQ 25.25 74.21875 29.59375 74.21875 \nQ 40.828125 74.21875 47.359375 69.109375 \nQ 53.90625 64.015625 53.90625 55.328125 \nQ 53.90625 49.265625 50.4375 45.09375 \nQ 46.96875 40.921875 40.578125 39.3125 \nz\n\" id=\"DejaVuSans-51\"/>\n       </defs>\n       <use xlink:href=\"#DejaVuSans-51\"/>\n      </g>\n     </g>\n    </g>\n    <g id=\"xtick_5\">\n     <g id=\"line2d_5\">\n      <g>\n       <use style=\"stroke:#000000;stroke-width:0.8;\" x=\"194.325\" xlink:href=\"#m1062bf8f2a\" y=\"224.64\"/>\n      </g>\n     </g>\n     <g id=\"text_5\">\n      <!-- 4 -->\n      <g transform=\"translate(197.084375 238.0025)rotate(-90)scale(0.1 -0.1)\">\n       <defs>\n        <path d=\"M 37.796875 64.3125 \nL 12.890625 25.390625 \nL 37.796875 25.390625 \nz\nM 35.203125 72.90625 \nL 47.609375 72.90625 \nL 47.609375 25.390625 \nL 58.015625 25.390625 \nL 58.015625 17.1875 \nL 47.609375 17.1875 \nL 47.609375 0 \nL 37.796875 0 \nL 37.796875 17.1875 \nL 4.890625 17.1875 \nL 4.890625 26.703125 \nz\n\" id=\"DejaVuSans-52\"/>\n       </defs>\n       <use xlink:href=\"#DejaVuSans-52\"/>\n      </g>\n     </g>\n    </g>\n    <g id=\"xtick_6\">\n     <g id=\"line2d_6\">\n      <g>\n       <use style=\"stroke:#000000;stroke-width:0.8;\" x=\"231.525\" xlink:href=\"#m1062bf8f2a\" y=\"224.64\"/>\n      </g>\n     </g>\n     <g id=\"text_6\">\n      <!-- 5 -->\n      <g transform=\"translate(234.284375 238.0025)rotate(-90)scale(0.1 -0.1)\">\n       <defs>\n        <path d=\"M 10.796875 72.90625 \nL 49.515625 72.90625 \nL 49.515625 64.59375 \nL 19.828125 64.59375 \nL 19.828125 46.734375 \nQ 21.96875 47.46875 24.109375 47.828125 \nQ 26.265625 48.1875 28.421875 48.1875 \nQ 40.625 48.1875 47.75 41.5 \nQ 54.890625 34.8125 54.890625 23.390625 \nQ 54.890625 11.625 47.5625 5.09375 \nQ 40.234375 -1.421875 26.90625 -1.421875 \nQ 22.3125 -1.421875 17.546875 -0.640625 \nQ 12.796875 0.140625 7.71875 1.703125 \nL 7.71875 11.625 \nQ 12.109375 9.234375 16.796875 8.0625 \nQ 21.484375 6.890625 26.703125 6.890625 \nQ 35.15625 6.890625 40.078125 11.328125 \nQ 45.015625 15.765625 45.015625 23.390625 \nQ 45.015625 31 40.078125 35.4375 \nQ 35.15625 39.890625 26.703125 39.890625 \nQ 22.75 39.890625 18.8125 39.015625 \nQ 14.890625 38.140625 10.796875 36.28125 \nz\n\" id=\"DejaVuSans-53\"/>\n       </defs>\n       <use xlink:href=\"#DejaVuSans-53\"/>\n      </g>\n     </g>\n    </g>\n    <g id=\"xtick_7\">\n     <g id=\"line2d_7\">\n      <g>\n       <use style=\"stroke:#000000;stroke-width:0.8;\" x=\"268.725\" xlink:href=\"#m1062bf8f2a\" y=\"224.64\"/>\n      </g>\n     </g>\n     <g id=\"text_7\">\n      <!-- 6 -->\n      <g transform=\"translate(271.484375 238.0025)rotate(-90)scale(0.1 -0.1)\">\n       <defs>\n        <path d=\"M 33.015625 40.375 \nQ 26.375 40.375 22.484375 35.828125 \nQ 18.609375 31.296875 18.609375 23.390625 \nQ 18.609375 15.53125 22.484375 10.953125 \nQ 26.375 6.390625 33.015625 6.390625 \nQ 39.65625 6.390625 43.53125 10.953125 \nQ 47.40625 15.53125 47.40625 23.390625 \nQ 47.40625 31.296875 43.53125 35.828125 \nQ 39.65625 40.375 33.015625 40.375 \nz\nM 52.59375 71.296875 \nL 52.59375 62.3125 \nQ 48.875 64.0625 45.09375 64.984375 \nQ 41.3125 65.921875 37.59375 65.921875 \nQ 27.828125 65.921875 22.671875 59.328125 \nQ 17.53125 52.734375 16.796875 39.40625 \nQ 19.671875 43.65625 24.015625 45.921875 \nQ 28.375 48.1875 33.59375 48.1875 \nQ 44.578125 48.1875 50.953125 41.515625 \nQ 57.328125 34.859375 57.328125 23.390625 \nQ 57.328125 12.15625 50.6875 5.359375 \nQ 44.046875 -1.421875 33.015625 -1.421875 \nQ 20.359375 -1.421875 13.671875 8.265625 \nQ 6.984375 17.96875 6.984375 36.375 \nQ 6.984375 53.65625 15.1875 63.9375 \nQ 23.390625 74.21875 37.203125 74.21875 \nQ 40.921875 74.21875 44.703125 73.484375 \nQ 48.484375 72.75 52.59375 71.296875 \nz\n\" id=\"DejaVuSans-54\"/>\n       </defs>\n       <use xlink:href=\"#DejaVuSans-54\"/>\n      </g>\n     </g>\n    </g>\n    <g id=\"xtick_8\">\n     <g id=\"line2d_8\">\n      <g>\n       <use style=\"stroke:#000000;stroke-width:0.8;\" x=\"305.925\" xlink:href=\"#m1062bf8f2a\" y=\"224.64\"/>\n      </g>\n     </g>\n     <g id=\"text_8\">\n      <!-- 7 -->\n      <g transform=\"translate(308.684375 238.0025)rotate(-90)scale(0.1 -0.1)\">\n       <defs>\n        <path d=\"M 8.203125 72.90625 \nL 55.078125 72.90625 \nL 55.078125 68.703125 \nL 28.609375 0 \nL 18.3125 0 \nL 43.21875 64.59375 \nL 8.203125 64.59375 \nz\n\" id=\"DejaVuSans-55\"/>\n       </defs>\n       <use xlink:href=\"#DejaVuSans-55\"/>\n      </g>\n     </g>\n    </g>\n    <g id=\"xtick_9\">\n     <g id=\"line2d_9\">\n      <g>\n       <use style=\"stroke:#000000;stroke-width:0.8;\" x=\"343.125\" xlink:href=\"#m1062bf8f2a\" y=\"224.64\"/>\n      </g>\n     </g>\n     <g id=\"text_9\">\n      <!-- 8 -->\n      <g transform=\"translate(345.884375 238.0025)rotate(-90)scale(0.1 -0.1)\">\n       <defs>\n        <path d=\"M 31.78125 34.625 \nQ 24.75 34.625 20.71875 30.859375 \nQ 16.703125 27.09375 16.703125 20.515625 \nQ 16.703125 13.921875 20.71875 10.15625 \nQ 24.75 6.390625 31.78125 6.390625 \nQ 38.8125 6.390625 42.859375 10.171875 \nQ 46.921875 13.96875 46.921875 20.515625 \nQ 46.921875 27.09375 42.890625 30.859375 \nQ 38.875 34.625 31.78125 34.625 \nz\nM 21.921875 38.8125 \nQ 15.578125 40.375 12.03125 44.71875 \nQ 8.5 49.078125 8.5 55.328125 \nQ 8.5 64.0625 14.71875 69.140625 \nQ 20.953125 74.21875 31.78125 74.21875 \nQ 42.671875 74.21875 48.875 69.140625 \nQ 55.078125 64.0625 55.078125 55.328125 \nQ 55.078125 49.078125 51.53125 44.71875 \nQ 48 40.375 41.703125 38.8125 \nQ 48.828125 37.15625 52.796875 32.3125 \nQ 56.78125 27.484375 56.78125 20.515625 \nQ 56.78125 9.90625 50.3125 4.234375 \nQ 43.84375 -1.421875 31.78125 -1.421875 \nQ 19.734375 -1.421875 13.25 4.234375 \nQ 6.78125 9.90625 6.78125 20.515625 \nQ 6.78125 27.484375 10.78125 32.3125 \nQ 14.796875 37.15625 21.921875 38.8125 \nz\nM 18.3125 54.390625 \nQ 18.3125 48.734375 21.84375 45.5625 \nQ 25.390625 42.390625 31.78125 42.390625 \nQ 38.140625 42.390625 41.71875 45.5625 \nQ 45.3125 48.734375 45.3125 54.390625 \nQ 45.3125 60.0625 41.71875 63.234375 \nQ 38.140625 66.40625 31.78125 66.40625 \nQ 25.390625 66.40625 21.84375 63.234375 \nQ 18.3125 60.0625 18.3125 54.390625 \nz\n\" id=\"DejaVuSans-56\"/>\n       </defs>\n       <use xlink:href=\"#DejaVuSans-56\"/>\n      </g>\n     </g>\n    </g>\n   </g>\n   <g id=\"matplotlib.axis_2\">\n    <g id=\"ytick_1\">\n     <g id=\"line2d_10\">\n      <defs>\n       <path d=\"M 0 0 \nL -3.5 0 \n\" id=\"m0272998bf6\" style=\"stroke:#000000;stroke-width:0.8;\"/>\n      </defs>\n      <g>\n       <use style=\"stroke:#000000;stroke-width:0.8;\" x=\"26.925\" xlink:href=\"#m0272998bf6\" y=\"224.64\"/>\n      </g>\n     </g>\n     <g id=\"text_10\">\n      <!-- 0 -->\n      <g transform=\"translate(13.5625 228.439219)scale(0.1 -0.1)\">\n       <use xlink:href=\"#DejaVuSans-48\"/>\n      </g>\n     </g>\n    </g>\n    <g id=\"ytick_2\">\n     <g id=\"line2d_11\">\n      <g>\n       <use style=\"stroke:#000000;stroke-width:0.8;\" x=\"26.925\" xlink:href=\"#m0272998bf6\" y=\"178.620952\"/>\n      </g>\n     </g>\n     <g id=\"text_11\">\n      <!-- 10 -->\n      <g transform=\"translate(7.2 182.420171)scale(0.1 -0.1)\">\n       <use xlink:href=\"#DejaVuSans-49\"/>\n       <use x=\"63.623047\" xlink:href=\"#DejaVuSans-48\"/>\n      </g>\n     </g>\n    </g>\n    <g id=\"ytick_3\">\n     <g id=\"line2d_12\">\n      <g>\n       <use style=\"stroke:#000000;stroke-width:0.8;\" x=\"26.925\" xlink:href=\"#m0272998bf6\" y=\"132.601905\"/>\n      </g>\n     </g>\n     <g id=\"text_12\">\n      <!-- 20 -->\n      <g transform=\"translate(7.2 136.401124)scale(0.1 -0.1)\">\n       <use xlink:href=\"#DejaVuSans-50\"/>\n       <use x=\"63.623047\" xlink:href=\"#DejaVuSans-48\"/>\n      </g>\n     </g>\n    </g>\n    <g id=\"ytick_4\">\n     <g id=\"line2d_13\">\n      <g>\n       <use style=\"stroke:#000000;stroke-width:0.8;\" x=\"26.925\" xlink:href=\"#m0272998bf6\" y=\"86.582857\"/>\n      </g>\n     </g>\n     <g id=\"text_13\">\n      <!-- 30 -->\n      <g transform=\"translate(7.2 90.382076)scale(0.1 -0.1)\">\n       <use xlink:href=\"#DejaVuSans-51\"/>\n       <use x=\"63.623047\" xlink:href=\"#DejaVuSans-48\"/>\n      </g>\n     </g>\n    </g>\n    <g id=\"ytick_5\">\n     <g id=\"line2d_14\">\n      <g>\n       <use style=\"stroke:#000000;stroke-width:0.8;\" x=\"26.925\" xlink:href=\"#m0272998bf6\" y=\"40.56381\"/>\n      </g>\n     </g>\n     <g id=\"text_14\">\n      <!-- 40 -->\n      <g transform=\"translate(7.2 44.363028)scale(0.1 -0.1)\">\n       <use xlink:href=\"#DejaVuSans-52\"/>\n       <use x=\"63.623047\" xlink:href=\"#DejaVuSans-48\"/>\n      </g>\n     </g>\n    </g>\n   </g>\n   <g id=\"patch_30\">\n    <path d=\"M 26.925 224.64 \nL 26.925 7.2 \n\" style=\"fill:none;stroke:#000000;stroke-linecap:square;stroke-linejoin:miter;stroke-width:0.8;\"/>\n   </g>\n   <g id=\"patch_31\">\n    <path d=\"M 361.725 224.64 \nL 361.725 7.2 \n\" style=\"fill:none;stroke:#000000;stroke-linecap:square;stroke-linejoin:miter;stroke-width:0.8;\"/>\n   </g>\n   <g id=\"patch_32\">\n    <path d=\"M 26.925 224.64 \nL 361.725 224.64 \n\" style=\"fill:none;stroke:#000000;stroke-linecap:square;stroke-linejoin:miter;stroke-width:0.8;\"/>\n   </g>\n   <g id=\"patch_33\">\n    <path d=\"M 26.925 7.2 \nL 361.725 7.2 \n\" style=\"fill:none;stroke:#000000;stroke-linecap:square;stroke-linejoin:miter;stroke-width:0.8;\"/>\n   </g>\n   <g id=\"legend_1\">\n    <g id=\"patch_34\">\n     <path d=\"M 306.821875 59.234375 \nL 354.725 59.234375 \nQ 356.725 59.234375 356.725 57.234375 \nL 356.725 14.2 \nQ 356.725 12.2 354.725 12.2 \nL 306.821875 12.2 \nQ 304.821875 12.2 304.821875 14.2 \nL 304.821875 57.234375 \nQ 304.821875 59.234375 306.821875 59.234375 \nz\n\" style=\"fill:#ffffff;opacity:0.8;stroke:#cccccc;stroke-linejoin:miter;\"/>\n    </g>\n    <g id=\"patch_35\">\n     <path d=\"M 308.821875 23.798437 \nL 328.821875 23.798437 \nL 328.821875 16.798437 \nL 308.821875 16.798437 \nz\n\" style=\"fill:#1f77b4;\"/>\n    </g>\n    <g id=\"text_15\">\n     <!-- 0.1 -->\n     <g transform=\"translate(336.821875 23.798437)scale(0.1 -0.1)\">\n      <defs>\n       <path d=\"M 10.6875 12.40625 \nL 21 12.40625 \nL 21 0 \nL 10.6875 0 \nz\n\" id=\"DejaVuSans-46\"/>\n      </defs>\n      <use xlink:href=\"#DejaVuSans-48\"/>\n      <use x=\"63.623047\" xlink:href=\"#DejaVuSans-46\"/>\n      <use x=\"95.410156\" xlink:href=\"#DejaVuSans-49\"/>\n     </g>\n    </g>\n    <g id=\"patch_36\">\n     <path d=\"M 308.821875 38.476562 \nL 328.821875 38.476562 \nL 328.821875 31.476562 \nL 308.821875 31.476562 \nz\n\" style=\"fill:#ff7f0e;\"/>\n    </g>\n    <g id=\"text_16\">\n     <!-- 0.2 -->\n     <g transform=\"translate(336.821875 38.476562)scale(0.1 -0.1)\">\n      <use xlink:href=\"#DejaVuSans-48\"/>\n      <use x=\"63.623047\" xlink:href=\"#DejaVuSans-46\"/>\n      <use x=\"95.410156\" xlink:href=\"#DejaVuSans-50\"/>\n     </g>\n    </g>\n    <g id=\"patch_37\">\n     <path d=\"M 308.821875 53.154687 \nL 328.821875 53.154687 \nL 328.821875 46.154687 \nL 308.821875 46.154687 \nz\n\" style=\"fill:#2ca02c;\"/>\n    </g>\n    <g id=\"text_17\">\n     <!-- 0.3 -->\n     <g transform=\"translate(336.821875 53.154687)scale(0.1 -0.1)\">\n      <use xlink:href=\"#DejaVuSans-48\"/>\n      <use x=\"63.623047\" xlink:href=\"#DejaVuSans-46\"/>\n      <use x=\"95.410156\" xlink:href=\"#DejaVuSans-51\"/>\n     </g>\n    </g>\n   </g>\n  </g>\n </g>\n <defs>\n  <clipPath id=\"p190be87040\">\n   <rect height=\"217.44\" width=\"334.8\" x=\"26.925\" y=\"7.2\"/>\n  </clipPath>\n </defs>\n</svg>\n",
      "image/png": "[encoded data removed]"
     },
     "metadata": {
      "needs_background": "light"
     }
    }
   ],
   "source": [
    "df_edit_dist.plot.bar()"
   ]
  },
  {
   "source": [
    "### limit the replacements for one model calls"
   ],
   "cell_type": "markdown",
   "metadata": {}
  },
  {
   "cell_type": "code",
   "execution_count": null,
   "metadata": {},
   "outputs": [],
   "source": [
    "toy_sentence\n",
    "doc\n",
    "indices"
   ]
  },
  {
   "cell_type": "code",
   "execution_count": 165,
   "metadata": {},
   "outputs": [
    {
     "output_type": "stream",
     "name": "stdout",
     "text": [
      "len_tokens: 60\nN: 39\nmax_N: 6\n"
     ]
    }
   ],
   "source": [
    "# amount of tokens to replace\n",
    "p = 1\n",
    "# maximal amount of tokens that can be replaced at once\n",
    "max_p = 0.1\n",
    "# 100% of the tokens (tokens that sitisfie the regular expression)\n",
    "len_tokens = len([1 for t in doc if check_token(t.text)])\n",
    "print(f'len_tokens: {len_tokens}')\n",
    "# the number of tokens to replace is grater than zero and smaler than the number of thokens that can be replaced\n",
    "N = min(max(int(len_tokens * p), 0), len(indices))\n",
    "print(f'N: {N}')\n",
    "\n",
    "max_N = int(len_tokens * max_p)\n",
    "print(f'max_N: {max_N}')\n",
    "\n",
    "# steps = N // max_N + (0 if N % max_N == 0 else 1)\n",
    "# print(f'steps: {steps}')"
   ]
  },
  {
   "cell_type": "code",
   "execution_count": 166,
   "metadata": {},
   "outputs": [
    {
     "output_type": "execute_result",
     "data": {
      "text/plain": [
       "array([[ 8, 26, 37, 39, 73, 76],\n",
       "       [ 2, 20, 40, 49, 50, 60],\n",
       "       [19, 38, 43, 48, 59, 74],\n",
       "       [16, 17, 30, 47, 55, 71],\n",
       "       [ 1, 21, 31, 41, 58, 62],\n",
       "       [12, 29, 32, 42, 46, 72],\n",
       "       [-1, -1, -1,  3, 52, 63]])"
      ]
     },
     "metadata": {},
     "execution_count": 166
    }
   ],
   "source": [
    "rng = np.random.default_rng()\n",
    "mask_idc = rng.choice(indices, size=(max(N//max_N, 1),min(max_N, N)), replace=False)\n",
    "if N > max_N and N % max_N != 0:\n",
    "    rest_idc = np.setdiff1d(indices, mask_idc)\n",
    "    if N < len(indices):\n",
    "        rest_idc = rng.choice(rest_idc, size=N%max_N, replace=False)\n",
    "    mask_idc = np.append(mask_idc, np.append(rest_idc, (max_N-N%max_N)*[-1]).reshape(1,-1), axis=0)\n",
    "mask_idc = np.sort(mask_idc)\n",
    "mask_idc"
   ]
  },
  {
   "cell_type": "code",
   "execution_count": 180,
   "metadata": {},
   "outputs": [
    {
     "output_type": "stream",
     "name": "stdout",
     "text": [
      "------------------\n",
      "[['Ġon' 'Ġin' 'on' 'Ġdated']\n",
      " ['ĠSmith' 'ĠWilliams' 'ĠBrown' 'ĠWilson']\n",
      " ['Ġbefore' 'Ġlater' 'Ġafter' 'Ġsubsequently']\n",
      " ['Ġemployment' 'Ġwork' 'Ġexperience' 'Ġland']\n",
      " ['Ġson' 'Ġdaughter' 'Ġchild' 'Ġboy']\n",
      " ['Ġdaughters' 'Ġsons' 'Ġchildren' 'Ġgirls']]\n",
      "------------------\n",
      "[['Ġborn' 'ĠBorn' 'born' 'Ġbaptized']\n",
      " ['Ġhis' 'Ġfirst' 'Ġsecond' 'Ġthird']\n",
      " ['Ġas' 'Ġwith' 'Ġfor' 'Ġat']\n",
      " ['Ġas' 'Ġof' 'Ġat' 'Ġwas']\n",
      " ['Ġtwenty' 'Ġthirty' 'Ġforty' 'Ġfifty']\n",
      " ['Ġa' 'Ġan' 'Ġthe' 'Ġtheir']]\n",
      "------------------\n",
      "[['Ġand' 'and' 'Ġwith' 'Ġ&']\n",
      " ['Ġfinding' 'Ġgaining' 'Ġtaking' 'Ġseeking']\n",
      " ['Ġin' 'Ġat' 'Ġnear' 'Ġon']\n",
      " ['Ġage' 'Ġbirthday' 'Ġages' 'Ġyears']\n",
      " ['Ġin' 'Ġat' 'Ġduring' 'Ġwith']\n",
      " ['Ġand' ',' 'Ġwith' 'Ġplus']]\n",
      "------------------\n",
      "[['Ġa' 'Ġan' 'Ġlabou' 'Ġcoal']\n",
      " ['Ġfarmer' 'Ġbutcher' 'Ġgrocer' 'Ġminer']\n",
      " ['Ġwas' 'Ġbecame' 'Ġis' 'was']\n",
      " ['Ġhis' 'Ġher' 'Ġtheir' 'Ġthe']\n",
      " ['Ġmarried' 'Ġwed' 'ĠMarried' 'Ġmet']\n",
      " ['Ġhad' 'Ġadopted' 'Ġproduced' 'Ġraised']]\n",
      "------------------\n",
      "[['Ġwas' 'was' 'Ġis' 'Ġwere']\n",
      " ['Ġwife' 'Ġpartner' 'Ġgirlfriend' 'Ġcompanion']\n",
      " ['Ġeducated' 'Ġtaught' 'Ġtrained' 'Ġenrolled']\n",
      " ['Ġa' 'Ġan' 'Ġapprentice' 'Ġdairy']\n",
      " ['field' 'nard' 'ĠJones' 'ne']\n",
      " ['Ġchurch' 'Ġceremony' 'ĠChurch' 'Ġchapel']]\n",
      "------------------\n",
      "[['Ġto' 'Ġof' ',' 'Ġfor']\n",
      " ['ĠHe' 'ĠEdward' 'Ġhe' 'ĠJohn']\n",
      " ['Ġat' 'Ġin' 'Ġby' 'Ġfrom']\n",
      " ['Ġminer' 'Ġfarmer' 'Ġclerk' 'Ġbutcher']\n",
      " ['ĠGiving' 'ĠReporting' 'ĠRecording' 'ĠAccounting']\n",
      " ['Ġa' 'Ġone' 'Ġanother' 'Ġ1']]\n",
      "------------------\n",
      "[['Ġin' 'Ġat' 'Ġnear' 'Ġon']\n",
      " ['one' 'three' 'two' 'four']\n",
      " ['Ġon' 'Ġdated' 'Ġof' 'Ġin']]\n"
     ]
    }
   ],
   "source": [
    "for idc in mask_idc:\n",
    "    model_in = toy_sentence\n",
    "    for i in idc[::-1]:\n",
    "        if i >= 0:\n",
    "            model_in = insert_mask(doc[i].idx, len(doc[i]), model_in, tokenizer.mask_token)\n",
    "\n",
    "    inputs = tokenizer(\n",
    "        model_in,\n",
    "        max_length=tokenizer.model_max_length,\n",
    "        truncation=True,\n",
    "        return_tensors='pt'\n",
    "    )\n",
    "    preds = masked_model(**inputs)\n",
    "    activated_preds = torch.softmax(preds[0], dim=2)\n",
    "    masked_token_indices = (inputs['input_ids'] == tokenizer.mask_token_id)\n",
    "    masked_preds = activated_preds[masked_token_indices]\n",
    "    topk = torch.topk(masked_preds, k, dim=1)\n",
    "    \n",
    "    model_token = topk.indices.numpy()\n",
    "    new_model = []\n",
    "    for pos in model_token:\n",
    "        new_model.append([tokenizer.convert_ids_to_tokens(int(t)) for t in pos])\n",
    "    \n",
    "    print('------------------')\n",
    "    new_model = np.array(new_model)\n",
    "    print(new_model)"
   ]
  },
  {
   "source": [
    "### to long paragraphs"
   ],
   "cell_type": "markdown",
   "metadata": {}
  },
  {
   "cell_type": "code",
   "execution_count": 17,
   "metadata": {},
   "outputs": [
    {
     "output_type": "stream",
     "name": "stdout",
     "text": [
      "./../data/wikipedia/ogUTF-8/2423186-ORIG-11.txt\nOne paragraph might be to long!!!\n"
     ]
    }
   ],
   "source": [
    "number_files = 200\n",
    "path = \"./../data/wikipedia/ogUTF-8\"\n",
    "files = np.random.choice([os.path.join(path ,f) for f in os.listdir(path) if os.path.isfile(os.path.join(path, f))], number_files, replace=False)\n",
    "\n",
    "for f_path in files:\n",
    "    with open(f_path, 'r', encoding='utf-8') as file:\n",
    "        text = file.read()\n",
    "    tokens = tokenizer(\n",
    "        text,\n",
    "        max_length=tokenizer.model_max_length,\n",
    "        truncation=True,\n",
    "    )\n",
    "    if len(tokens['input_ids']) == 512:\n",
    "        print(f_path)\n",
    "        print('One paragraph might be to long!!!')\n",
    "        break\n",
    "# print('Every paragraph fits into the modle')"
   ]
  },
  {
   "cell_type": "code",
   "execution_count": 9,
   "metadata": {},
   "outputs": [],
   "source": [
    "# 39871658-ORIG-10.txt\n",
    "# 2423186-ORIG-11.txt\n",
    "with open('./../data/wikipedia/ogUTF-8/39871658-ORIG-10.txt', 'r', encoding='utf-8') as file:\n",
    "    text = file.read()"
   ]
  },
  {
   "cell_type": "code",
   "execution_count": 38,
   "metadata": {},
   "outputs": [
    {
     "output_type": "stream",
     "name": "stderr",
     "text": [
      "100%|██████████| 10000/10000 [00:16<00:00, 599.66it/s]\n"
     ]
    }
   ],
   "source": [
    "for _ in tqdm(range(10000)):\n",
    "    tokens = tokenizer(\n",
    "        text,\n",
    "        max_length=tokenizer.model_max_length,\n",
    "        truncation=True,\n",
    "    )\n",
    "    decode_text = tokenizer.decode(tokens['input_ids'])[3:-4]"
   ]
  },
  {
   "cell_type": "code",
   "execution_count": 39,
   "metadata": {},
   "outputs": [
    {
     "output_type": "stream",
     "name": "stderr",
     "text": [
      "100%|██████████| 10000/10000 [00:11<00:00, 852.07it/s]\n"
     ]
    }
   ],
   "source": [
    "for _ in tqdm(range(10000)):\n",
    "    tokens = tokenizer(\n",
    "        text,\n",
    "        max_length=tokenizer.model_max_length,\n",
    "        truncation=True,\n",
    "    )\n",
    "    # decode_text = tokenizer.decode(tokens['input_ids'])[3:-4]"
   ]
  },
  {
   "cell_type": "code",
   "execution_count": 40,
   "metadata": {},
   "outputs": [
    {
     "output_type": "stream",
     "name": "stderr",
     "text": [
      "100%|██████████| 10000/10000 [00:04<00:00, 2172.86it/s]\n"
     ]
    }
   ],
   "source": [
    "for _ in tqdm(range(10000)):\n",
    "    # tokens = tokenizer(\n",
    "    #     text,\n",
    "    #     max_length=tokenizer.model_max_length,\n",
    "    #     truncation=True,\n",
    "    # )\n",
    "    decode_text = tokenizer.decode(tokens['input_ids'])[3:-4]"
   ]
  },
  {
   "cell_type": "code",
   "execution_count": 10,
   "metadata": {},
   "outputs": [],
   "source": [
    "nlp_sentencizer = spacy.load(\"en_core_web_sm\", disable=[\"parser\", \"tagger\", \"ner\"])\n",
    "nlp_sentencizer.add_pipe(spacy.lang.en.English().create_pipe(\"sentencizer\"))\n",
    "\n",
    "sents = list(nlp_sentencizer(text).sents)"
   ]
  },
  {
   "cell_type": "code",
   "execution_count": 11,
   "metadata": {},
   "outputs": [
    {
     "output_type": "execute_result",
     "data": {
      "text/plain": [
       "[On February 3, 2013, IWGP Junior Heavyweight Champion Prince Devitt pinned IWGP Heavyweight Champion Hiroshi Tanahashi in a tag team match, where he and Karl Anderson faced Tanahashi and Devitt's longtime Apollo 55 tag team partner Ryusuke Taguchi.,\n",
       " This led to a match between Devitt and Tanahashi on March 3 at NJPW's 41st anniversary event.,\n",
       " Though neither man's title was on the line in the match, Tanahashi vowed to relinquish the IWGP Heavyweight Championship in case Devitt was victorious.,\n",
       " After defeating Devitt, Tanahashi went to help his opponent up, but was pushed away by the disappointed Junior Heavyweight Champion.,\n",
       " The following weeks, Devitt began portraying a more cocky and villainous persona, regularly disrespecting both partners and opponents, with the exception of Ryusuke Taguchi, whom he tried to get to go along with his new attitude.,\n",
       " However, this changed on April 7 at the Invasion Attack pay-per-view, when Devitt turned on Taguchi, after the two had failed to recapture the IWGP Junior Heavyweight Tag Team Championship from the Time Splitters (Alex Shelley and Kushida).,\n",
       " During the attack, Devitt was helped by the returning King Fale, who attacked not only Taguchi, but also Shelley, Kushida and Captain New Japan, whom Devitt then proceeded to unmask.,\n",
       " Following the attack, Devitt took a microphone, introduced Fale as his new \"bouncer\", giving him the new name \"The Underboss\" Bad Luck Fale and dubbed himself the \"Real Rock 'n' Rolla\".,\n",
       " At the following pay-per-view, Wrestling Dontaku 2013 on May 3, Devitt and Fale teamed up for the first time to defeat Taguchi and Captain New Japan in a tag team match.,\n",
       " Later in the event, Devitt and Fale entered the ring to attack the now former IWGP Heavyweight Champion Hiroshi Tanahashi, after he had defeated Karl Anderson in a singles match.,\n",
       " Anderson first went to stop Devitt and Fale, but then turned on Tanahashi, hitting him with the \"Gun Stun\".,\n",
       " As the three men continued their attack on Tanahashi, they were also joined by Tama Tonga, with whom Anderson had formed a partnership during the past two weeks.,\n",
       " In a post-match interview, the four men announced the formation of an all-\"gaijin\" stable named \"Bullet Club\".,\n",
       " \n",
       " The four members of Bullet Club wrestled their first match together on May 22, when they defeated Captain New Japan, Hiroshi Tanahashi, Manabu Nakanishi and Ryusuke Taguchi in an eight-man tag team match.,\n",
       " Two days later, Devitt entered the 2013 Best of the Super Juniors tournament, where he won his block with a clean record of eight wins and zero losses, advancing to the knockout stage on June 9, where he first defeated Kenny Omega in the semifinals and then Alex Shelley in the finals to win the tournament, after which he proceeded to challenge Hiroshi Tanahashi.,\n",
       " Devitt's old tag team partner Ryusuke Taguchi had originally earned a spot in the semifinals of the tournament, but a legitimate hip injury forced him to pull out.,\n",
       " During the following day's press conference, Devitt also mentioned a move to the heavyweight division, aiming to become the first wrestler to hold the IWGP Junior Heavyweight and IWGP Heavyweight Championships simultaneously.,\n",
       " On June 22 at Dominion 6.22, Devitt defeated Tanahashi, again following interference from the rest of the Bullet Club, to earn his first-ever shot at the IWGP Heavyweight Championship.,\n",
       " The reigning champion, Kazuchika Okada, accepted Devitt's challenge for the title later in the event on the condition that he first defend the IWGP Junior Heavyweight Championship against his Chaos stablemate Gedo.,\n",
       " Bullet Club's feud with Tanahashi continued at the July 5 Kizuna Road 2013 pay-per-view, where Tama Tonga and visiting Mexican wrestler Terrible lost the Consejo Mundial de Lucha Libre (CMLL) World Tag Team Championship to Tanahashi and Jyushin Thunder Liger.,\n",
       " Terrible worked also the rest of his two-week NJPW tour as a member of Bullet Club.,\n",
       " After successfully defending his IWGP Junior Heavyweight Championship against Gedo, Devitt received his match for the IWGP Heavyweight Championship on July 20, but was defeated by Okada, despite interference from the rest of Bullet Club.,\n",
       " From August 1 to 11, both Devitt and Anderson took part in the 2013 G1 Climax, wrestling in separate round-robin blocks.,\n",
       " During the tournament, Devitt picked up big wins, albeit through outside interference, over reigning IWGP Heavyweight Champion Kazuchika Okada and former champions Hiroshi Tanahashi, Satoshi Kojima and Togi Makabe, but failed to advance from his block.,\n",
       " Meanwhile, Anderson entered the final day with a chance to reach the finals, but a loss against Tetsuya Naito eliminated him from the tournament.,\n",
       " On September 5, Rey Bucanero, another CMLL wrestler, started a NJPW tour working as a member of Bullet Club.,\n",
       " On September 14, the rest of Bullet Club helped Bucanero and Tama Tonga defeat Hiroshi Tanahashi and Jyushin Thunder Liger for the CMLL World Tag Team Championship.,\n",
       " The rivalry between Devitt and Tanahashi culminated in a Lumberjack Deathmatch on September 29 at Destruction, where Tanahashi was victorious.,\n",
       " \n",
       " On October 11, Tonga and Bucanero returned to CMLL, where they formed \"Bullet Club Latinoamerica\" with CMLL World Heavyweight Champion Terrible and female wrestler and manager La Comandante.,\n",
       " However, a week later, Tonga and Bucanero were stripped of the CMLL World Tag Team Championship, when they were unable to defend the title against La Máscara and Rush due to Bucanero being sidelined with an injury.,\n",
       " On October 25, American tag team The Young Bucks (Matt Jackson and Nick Jackson) made their NJPW debut as the newest members of Bullet Club by entering the 2013 Super Jr. Tag Tournament.,\n",
       " In early November, The Young Bucks first defeated the Forever Hooligans (Alex Koslov and Rocky Romero) in the finals to win the tournament, and then Suzuki-gun (Taichi and Taka Michinoku) to become the new IWGP Junior Heavyweight Tag Team Champions.,\n",
       " On November 11, NJPW announced the participating teams in the 2013 World Tag League.,\n",
       " In the tournament, Bullet Club would be represented by two teams in separate blocks;,\n",
       " Devitt and Fale in block A and Anderson and the debuting American Doc Gallows in block B. On December 7, both teams entered the final day of the round-robin portion of the tournament with a chance to advance to the semifinals.,\n",
       " Anderson and Gallows won their block with a record of four wins and two losses by defeating NWA World Tag Team Champions The IronGodz (Jax Dane and Rob Conway), while Devitt and Fale were eliminated with a record of three wins and three losses, after losing to Captain New Japan and Hiroshi Tanahashi, who had lost all their other matches in the tournament.,\n",
       " The following day, Anderson and Gallows first defeated Togi Makabe and Tomoaki Honma in the semifinals and then Hiroyoshi Tenzan and Satoshi Kojima in the finals to win the tournament.,\n",
       " This led to a match on January 4, 2014, at Wrestle Kingdom 8, where they defeated K.E.S. (Davey Boy Smith Jr. and Lance Archer) to win the IWGP Tag Team Championship.,\n",
       " During the same event, Devitt lost the IWGP Junior Heavyweight Championship to Kota Ibushi, ending his fourteen-month reign.,\n",
       " \n",
       " February's The New Beginning tour featured Bullet Club defending both of their tag team championships and the re-ignition of a rivalry between Devitt and his former partner Ryusuke Taguchi, who returned from an eight-month injury break.,\n",
       " Devitt dominated his encounters with Taguchi for most of the tour, including pinning him in his return eight-man tag team match on February 2, but at the tour ending event, The New Beginning in Osaka, Taguchi pinned his former partner in a tag team match, where he teamed with Togi Makabe and Devitt with Fale.,\n",
       " In March, Bad Luck Fale made it to the finals of the 2014 New Japan Cup, but was defeated there by Shinsuke Nakamura.,\n",
       " As the one-year anniversary of the break-up of Apollo 55 approached, the rivalry between Devitt and Taguchi escalated, leading to Taguchi challenging his rival to a Loser Leaves Town match.,\n",
       " The stipulation, however, was never made official for their April 6 Invasion Attack 2014 match.,\n",
       " During the match, Devitt got into an argument with The Young Bucks, after the two repeatedly interfered in the match despite his orders not to do so.,\n",
       " This led to The Young Bucks turning on Devitt, who responded by diving onto his Bullet Club stablemates.,\n",
       " After Taguchi defeated Devitt, the two men shook hands, ending their rivalry with each other and Devitt's association with Bullet Club.,\n",
       " Devitt's resignation from NJPW was announced the following day.]"
      ]
     },
     "metadata": {},
     "execution_count": 11
    }
   ],
   "source": [
    "sents"
   ]
  },
  {
   "cell_type": "code",
   "execution_count": 13,
   "metadata": {},
   "outputs": [
    {
     "output_type": "stream",
     "name": "stdout",
     "text": [
      "------------------\nOn February 3, 2013, IWGP Junior Heavyweight Champion Prince Devitt pinned IWGP Heavyweight Champion Hiroshi Tanahashi in a tag team match, where he and Karl Anderson faced Tanahashi and Devitt's longtime Apollo 55 tag team partner Ryusuke Taguchi. This led to a match between Devitt and Tanahashi on March 3 at NJPW's 41st anniversary event. Though neither man's title was on the line in the match, Tanahashi vowed to relinquish the IWGP Heavyweight Championship in case Devitt was victorious. After defeating Devitt, Tanahashi went to help his opponent up, but was pushed away by the disappointed Junior Heavyweight Champion. The following weeks, Devitt began portraying a more cocky and villainous persona, regularly disrespecting both partners and opponents, with the exception of Ryusuke Taguchi, whom he tried to get to go along with his new attitude. However, this changed on April 7 at the Invasion Attack pay-per-view, when Devitt turned on Taguchi, after the two had failed to recapture the IWGP Junior Heavyweight Tag Team Championship from the Time Splitters (Alex Shelley and Kushida). During the attack, Devitt was helped by the returning King Fale, who attacked not only Taguchi, but also Shelley, Kushida and Captain New Japan, whom Devitt then proceeded to unmask. Following the attack, Devitt took a microphone, introduced Fale as his new \"bouncer\", giving him the new name \"The Underboss\" Bad Luck Fale and dubbed himself the \"Real Rock 'n' Rolla\". At the following pay-per-view, Wrestling Dontaku 2013 on May 3, Devitt and Fale teamed up for the first time to defeat Taguchi and Captain New Japan in a tag team match. Later in the event, Devitt and Fale entered the ring to attack the now former IWGP Heavyweight Champion Hiroshi Tanahashi, after he had defeated Karl Anderson in a singles match. Anderson first went to stop Devitt and Fale, but then turned on Tanahashi, hitting him with the \"Gun Stun\". As the three men continued their attack on Tanahashi, they were also joined by Tama Tonga, with whom Anderson had formed a partnership during the past two weeks. \n------------------\nIn a post-match interview, the four men announced the formation of an all-\"gaijin\" stable named \"Bullet Club\".\nThe four members of Bullet Club wrestled their first match together on May 22, when they defeated Captain New Japan, Hiroshi Tanahashi, Manabu Nakanishi and Ryusuke Taguchi in an eight-man tag team match. Two days later, Devitt entered the 2013 Best of the Super Juniors tournament, where he won his block with a clean record of eight wins and zero losses, advancing to the knockout stage on June 9, where he first defeated Kenny Omega in the semifinals and then Alex Shelley in the finals to win the tournament, after which he proceeded to challenge Hiroshi Tanahashi. Devitt's old tag team partner Ryusuke Taguchi had originally earned a spot in the semifinals of the tournament, but a legitimate hip injury forced him to pull out. During the following day's press conference, Devitt also mentioned a move to the heavyweight division, aiming to become the first wrestler to hold the IWGP Junior Heavyweight and IWGP Heavyweight Championships simultaneously. On June 22 at Dominion 6.22, Devitt defeated Tanahashi, again following interference from the rest of the Bullet Club, to earn his first-ever shot at the IWGP Heavyweight Championship. The reigning champion, Kazuchika Okada, accepted Devitt's challenge for the title later in the event on the condition that he first defend the IWGP Junior Heavyweight Championship against his Chaos stablemate Gedo. Bullet Club's feud with Tanahashi continued at the July 5 Kizuna Road 2013 pay-per-view, where Tama Tonga and visiting Mexican wrestler Terrible lost the Consejo Mundial de Lucha Libre (CMLL) World Tag Team Championship to Tanahashi and Jyushin Thunder Liger. Terrible worked also the rest of his two-week NJPW tour as a member of Bullet Club. After successfully defending his IWGP Junior Heavyweight Championship against Gedo, Devitt received his match for the IWGP Heavyweight Championship on July 20, but was defeated by Okada, despite interference from the rest of Bullet Club. From August 1 to 11, both Devitt and Anderson took part in the 2013 G1 Climax, wrestling in separate round-robin blocks. \n------------------\nDuring the tournament, Devitt picked up big wins, albeit through outside interference, over reigning IWGP Heavyweight Champion Kazuchika Okada and former champions Hiroshi Tanahashi, Satoshi Kojima and Togi Makabe, but failed to advance from his block. Meanwhile, Anderson entered the final day with a chance to reach the finals, but a loss against Tetsuya Naito eliminated him from the tournament. On September 5, Rey Bucanero, another CMLL wrestler, started a NJPW tour working as a member of Bullet Club. On September 14, the rest of Bullet Club helped Bucanero and Tama Tonga defeat Hiroshi Tanahashi and Jyushin Thunder Liger for the CMLL World Tag Team Championship. The rivalry between Devitt and Tanahashi culminated in a Lumberjack Deathmatch on September 29 at Destruction, where Tanahashi was victorious.\nOn October 11, Tonga and Bucanero returned to CMLL, where they formed \"Bullet Club Latinoamerica\" with CMLL World Heavyweight Champion Terrible and female wrestler and manager La Comandante. However, a week later, Tonga and Bucanero were stripped of the CMLL World Tag Team Championship, when they were unable to defend the title against La Máscara and Rush due to Bucanero being sidelined with an injury. On October 25, American tag team The Young Bucks (Matt Jackson and Nick Jackson) made their NJPW debut as the newest members of Bullet Club by entering the 2013 Super Jr. Tag Tournament. In early November, The Young Bucks first defeated the Forever Hooligans (Alex Koslov and Rocky Romero) in the finals to win the tournament, and then Suzuki-gun (Taichi and Taka Michinoku) to become the new IWGP Junior Heavyweight Tag Team Champions. On November 11, NJPW announced the participating teams in the 2013 World Tag League. In the tournament, Bullet Club would be represented by two teams in separate blocks; Devitt and Fale in block A and Anderson and the debuting American Doc Gallows in block B. On December 7, both teams entered the final day of the round-robin portion of the tournament with a chance to advance to the semifinals. \n"
     ]
    }
   ],
   "source": [
    "work_text = text\n",
    "parparaphs = []\n",
    "while work_text != '':\n",
    "    tokens = tokenizer(\n",
    "        work_text,\n",
    "        max_length=512,\n",
    "        truncation=True,\n",
    "        return_tensors='pt'\n",
    "    )\n",
    "    text_docode = tokenizer.decode(tokens['input_ids'][0])[3:-4]\n",
    "\n",
    "    if text_docode == work_text:\n",
    "        parpgraphs.append(work_text)\n",
    "        work_text = ''\n",
    "    else:\n",
    "        tmp_doc = nlp_sentencizer(text_docode)\n",
    "        tmp_sents = list(tmp_doc.sents)\n",
    "        parparaphs.append(work_text[:tmp_sents[-1].start_char])\n",
    "        work_text = work_text[tmp_sents[-1].start_char:]\n",
    "\n",
    "for para in parparaphs:\n",
    "    print('------------------')\n",
    "    print(para)"
   ]
  },
  {
   "source": [
    "### One word to one mask VS One word to mask for each sub token"
   ],
   "cell_type": "markdown",
   "metadata": {}
  },
  {
   "cell_type": "code",
   "execution_count": 9,
   "metadata": {},
   "outputs": [],
   "source": [
    "def tokenization_mapping(model_tok : list, doc) -> list:\n",
    "    # getting the indices of all named entities\n",
    "    ne_list = []\n",
    "    for ent in doc.ents:\n",
    "        ne_list.extend([i for i in range(ent.start, ent.end)])\n",
    "\n",
    "    mapping = []\n",
    "    j = 0# doc index\n",
    "    start = 0# start index for next token in model_tok\n",
    "    token = ''\n",
    "    for i, t in enumerate(model_tok):\n",
    "        t = t.replace(' ', '')# remove leading spaces from t\n",
    "\n",
    "        # while next doc token can be ingnorred (is name entity or has wrong form)\n",
    "        while j in ne_list or not check_token(doc[j].text):\n",
    "            j += 1\n",
    "            if j >= len(doc):\n",
    "                return mapping\n",
    "\n",
    "        # if t is next part of doc[j].text\n",
    "        if doc[j].text.startswith(t, len(token), len(token)+len(t)):\n",
    "            # if t is the first part of doc[j].text (then len(token)=0 => token='')\n",
    "            if token == '':\n",
    "                start = i\n",
    "                token = t\n",
    "            else:\n",
    "                token += t\n",
    "        else:\n",
    "            # if not set token againg to the empty string\n",
    "            token = ''\n",
    "\n",
    "        # if all parts of doc[j].text were found\n",
    "        if token == doc[j].text:\n",
    "            mapping.append([j, start, i+1])\n",
    "            j += 1\n",
    "            if j >= len(doc):\n",
    "                break\n",
    "            token = ''\n",
    "\n",
    "    return mapping"
   ]
  },
  {
   "source": [
    "#### Find texts with many words that get dividet into sub word tokens"
   ],
   "cell_type": "markdown",
   "metadata": {}
  },
  {
   "cell_type": "code",
   "execution_count": 26,
   "metadata": {},
   "outputs": [
    {
     "output_type": "stream",
     "name": "stdout",
     "text": [
      "33\n./../data/wikipedia/ogUTF-8/365342-ORIG-5.txt\n"
     ]
    }
   ],
   "source": [
    "number_files = 200\n",
    "path = \"./../data/wikipedia/ogUTF-8\"\n",
    "files = np.random.choice([os.path.join(path ,f) for f in os.listdir(path) if os.path.isfile(os.path.join(path, f))], number_files, replace=False)\n",
    "\n",
    "number_relevant_tokens = []\n",
    "relevant_paths = []\n",
    "for f_path in files:\n",
    "    with open(f_path, 'r', encoding='utf-8') as file:\n",
    "        text = file.read()\n",
    "    tokens = tokenizer(\n",
    "        text,\n",
    "        max_length=tokenizer.model_max_length,\n",
    "        truncation=True,\n",
    "    )\n",
    "    model_tok = [tokenizer.decode(t) for t in tokens['input_ids']]\n",
    "\n",
    "    doc = nlp(text)\n",
    "\n",
    "    mapping = tokenization_mapping(model_tok, doc)\n",
    "\n",
    "    count = 0\n",
    "    for _, a, b in mapping:\n",
    "        count += 1 if b - a > 1 else 0\n",
    "    number_relevant_tokens.append(count)\n",
    "    relevant_paths.append(f_path)\n",
    "\n",
    "relevant_I = np.argmax(number_relevant_tokens)\n",
    "print(number_relevant_tokens[relevant_I])\n",
    "print(relevant_paths[relevant_I])"
   ]
  },
  {
   "cell_type": "code",
   "execution_count": 27,
   "metadata": {},
   "outputs": [
    {
     "output_type": "stream",
     "name": "stdout",
     "text": [
      "33\n./../data/wikipedia/ogUTF-8/365342-ORIG-5.txt\n32\n./../data/wikipedia/ogUTF-8/34568634-ORIG-7.txt\n23\n./../data/wikipedia/ogUTF-8/26611936-ORIG-30.txt\n23\n./../data/wikipedia/ogUTF-8/8171787-ORIG-9.txt\n22\n./../data/wikipedia/ogUTF-8/28543061-ORIG-8.txt\n"
     ]
    }
   ],
   "source": [
    "argsort = np.argsort(number_relevant_tokens)[::-1]\n",
    "for i in argsort[:5]:\n",
    "    print(number_relevant_tokens[i])\n",
    "    print(relevant_paths[i])"
   ]
  },
  {
   "source": [
    "#### some investigation on the texts"
   ],
   "cell_type": "markdown",
   "metadata": {}
  },
  {
   "cell_type": "code",
   "execution_count": 57,
   "metadata": {},
   "outputs": [
    {
     "output_type": "execute_result",
     "data": {
      "text/plain": [
       "'Red-tailed hawk plumage can be variable, depending on the subspecies and the region. These color variations are morphs, and are not related to molting. The western North American population, \"B. j. calurus\", is the most variable subspecies and has three main color morphs: light, dark, and intermediate or rufous. The dark and intermediate morphs constitute 10–20% of the population in the western United States but seem to constitute only 1–2% of \"B. j. calurus\" in western Canada. A whitish underbelly with a dark brown band across the belly, formed by horizontal streaks in feather patterning, is present in most color variations. This feature is variable in eastern hawks and generally absent in some light subspecies (i.e. \"B. j. fuertesi\"). Most adult red-tails have a dark brown nape and upper head which gives them a somewhat hooded appearance, while the throat can variably present a lighter brown “necklace”. Especially in younger birds, the underside may be otherwise covered with dark brown spotting and some adults may too manifest this stippling. The back is usually a slightly darker brown than elsewhere with paler scapular feathers, ranging from tawny to white, forming a variable imperfect “V” on the back. The tail of most adults, which of course gives this species its name, is rufous brick-red above with a variably sized black subterminal band and generally appears light buff-orange from below. In comparison, the typical pale immatures (i.e. less than two years old) typically have a mildly paler headed and tend to show a darker back than adults with more apparent pale wing feather edges above (for descriptions of dark morph juveniles from \"B. j. calurus\", which is also generally apt for description of rare dark morphs of other races, see under that subspecies description). In immature red-tailed hawks of all hues, the tail is a light brown above with numerous small dark brown bars of roughly equal width, but these tend to be much broader on dark morph birds. Even in young red-tails, the tail may be a somewhat rufous tinge of brown. The bill is relatively short and dark, in the hooked shape characteristic of raptors, and the head can sometimes appear small in size against the thick body frame. The cere, the legs, and the feet of the red-tailed hawk are all yellow, as is the hue of bare parts in many accipitrids of different lineages. Immature birds can be readily identified at close range by their yellowish irises. As the bird attains full maturity over the course of 3–4 years, the iris slowly darkens into a reddish-brown hue, which is the adult eye-color in all races. Seen in flight, adults usually have dark brown along the lower edge of the wings, against a mostly pale wing, which bares light brownish barring. Individually, the underwing coverts can range from all dark to off-whitish (most often more heavily streaked with brown) which contrasts with a distinctive black patagium marking. The wing coloring of adults and immatures is similar but for typical pale morph immatures having somewhat heavier brownish markings.'"
      ]
     },
     "metadata": {},
     "execution_count": 57
    }
   ],
   "source": [
    "file_path = './../data/wikipedia/ogUTF-8/365342-ORIG-5.txt'\n",
    "# file_path = './../data/wikipedia/ogUTF-8/34568634-ORIG-7.txt'\n",
    "# file_path = './../data/wikipedia/ogUTF-8/26611936-ORIG-30.txt'\n",
    "# file_path = './../data/wikipedia/ogUTF-8/8171787-ORIG-9.txt'\n",
    "# file_path = './../data/wikipedia/ogUTF-8/28543061-ORIG-8.txt'\n",
    "\n",
    "with open(file_path, 'r', encoding='utf-8') as file:\n",
    "    text = file.read()\n",
    "text"
   ]
  },
  {
   "cell_type": "code",
   "execution_count": 58,
   "metadata": {},
   "outputs": [
    {
     "output_type": "stream",
     "name": "stdout",
     "text": [
      "plumage -> [' plum', 'age']\nsubspecies -> [' sub', 'species']\nmorphs -> [' morph', 's']\nmolting -> [' mol', 'ting']\nsubspecies -> [' sub', 'species']\nmorphs -> [' morph', 's']\nrufous -> [' r', 'uf', 'ous']\nmorphs -> [' morph', 's']\nwhitish -> [' whit', 'ish']\nunderbelly -> [' under', 'b', 'elly']\npatterning -> [' pattern', 'ing']\nsubspecies -> [' sub', 'species']\nfuertesi -> [' fu', 'ert', 'esi']\nnape -> [' n', 'ape']\nhooded -> [' hood', 'ed']\nvariably -> [' vari', 'ably']\nnecklace -> ['neck', 'lace']\nstippling -> [' st', 'ipp', 'ling']\npaler -> [' pal', 'er']\nscapular -> [' sc', 'ap', 'ular']\ntawny -> [' t', 'awn', 'y']\nrufous -> [' r', 'uf', 'ous']\nvariably -> [' vari', 'ably']\nsubterminal -> [' sub', 'termin', 'al']\nimmatures -> [' imm', 'atures']\npaler -> [' pal', 'er']\nmorphs -> [' morph', 's']\nsubspecies -> [' sub', 'species']\nhawks -> [' haw', 'ks']\nhues -> [' h', 'ues']\nrufous -> [' r', 'uf', 'ous']\ntinge -> [' t', 'inge']\nraptors -> [' rapt', 'ors']\n"
     ]
    }
   ],
   "source": [
    "tokens = tokenizer(\n",
    "    text,\n",
    "    max_length=tokenizer.model_max_length,\n",
    "    truncation=True,\n",
    ")\n",
    "model_tok = [tokenizer.decode(t) for t in tokens['input_ids']]\n",
    "\n",
    "doc = nlp(text)\n",
    "\n",
    "mapping = tokenization_mapping(model_tok, doc)\n",
    "\n",
    "for i, a, b in mapping:\n",
    "    if b - a > 1:\n",
    "        print(f'{doc[i]} -> {model_tok[a:b]}')"
   ]
  },
  {
   "source": [
    "#### compare the different approches"
   ],
   "cell_type": "markdown",
   "metadata": {}
  },
  {
   "cell_type": "code",
   "execution_count": 59,
   "metadata": {},
   "outputs": [
    {
     "output_type": "execute_result",
     "data": {
      "text/plain": [
       "33"
      ]
     },
     "metadata": {},
     "execution_count": 59
    }
   ],
   "source": [
    "reduced_mapping = []\n",
    "for m in mapping:\n",
    "    if m[2] - m[1] > 1:\n",
    "        reduced_mapping.append(m)\n",
    "len(reduced_mapping)"
   ]
  },
  {
   "source": [
    "with sub tokens"
   ],
   "cell_type": "markdown",
   "metadata": {}
  },
  {
   "cell_type": "code",
   "execution_count": 63,
   "metadata": {},
   "outputs": [
    {
     "output_type": "stream",
     "name": "stdout",
     "text": [
      "og_tokens: [' plum', 'age'] \n",
      "   [['Ġplum', 'Ġcarc', 'Ġcamoufl', 'Ġlum'], ['age', 'aging', 'ge', 'aged']]\n",
      "og_tokens: [' sub', 'species'] \n",
      "   [['Ġsub', 'Ġunsub', 'Ġsuper', 'ĠSub'], ['species', 'population', 'specific', 'series']]\n",
      "og_tokens: [' morph', 's'] \n",
      "   [['Ġmorph', 'Ġglyph', 'Ġpolymorph', 'ĠMorph'], ['s', 'ing', 'Ġs', 'S']]\n",
      "og_tokens: [' mol', 'ting'] \n",
      "   [['Ġmol', 'Ġbol', 'Ġmal', 'Ġmat'], ['ting', 'ts', 'ted', 'TING']]\n",
      "og_tokens: [' sub', 'species'] \n",
      "   [['Ġsub', 'Ġunsub', 'ĠSub', 'Ġsuper'], ['species', 'population', 'series', 'Ġspecies']]\n",
      "og_tokens: [' morph', 's'] \n",
      "   [['Ġmorph', 'Ġglyph', 'ĠMorph', 'Ġpolymorph'], ['s', 'Ġs', 'S', 'ings']]\n",
      "og_tokens: [' r', 'uf', 'ous'] \n",
      "   [['Ġr', 'ĠR', 'r', 'Ġl'], ['uf', 'uss', 'auc', 'uff'], ['ous', 'us', 'ously', 'OUS']]\n",
      "og_tokens: [' morph', 's'] \n",
      "   [['Ġmorph', 'Ġglyph', 'ĠMorph', 'Ġreg'], ['s', 'Ġs', 'ings', 'S']]\n",
      "og_tokens: [' whit', 'ish'] \n",
      "   [['Ġwhit', 'Ġwhite', 'Ġwhites', 'Ġwh'], ['ish', 'ishing', 'ished', 'ening']]\n",
      "og_tokens: [' under', 'b', 'elly'] \n",
      "   [['Ġunder', 'under', 'ĠUnder', 'Ġover'], ['b', 'p', 'c', 'd'], ['elly', 'owl', 'itten', 'olly']]\n",
      "og_tokens: [' pattern', 'ing'] \n",
      "   [['Ġpattern', 'Ġfeather', 'Ġband', 'Ġpatterns'], ['ing', 'ed', 'ation', 'ings']]\n",
      "og_tokens: [' sub', 'species'] \n",
      "   [['Ġsub', 'Ġsuper', 'ĠSub', 'Ġmicro'], ['species', 'types', 'population', 'cies']]\n",
      "og_tokens: [' fu', 'ert', 'esi'] \n",
      "   [['Ġfu', 'Ġmu', 'ĠFu', 'Ġpu'], ['ert', 'ern', 'erc', 'ero'], ['esi', 'es', 'ensis', 'ei']]\n",
      "og_tokens: [' n', 'ape'] \n",
      "   [['Ġn', 'ĠN', 'n', 'Ġr'], ['ape', 'ave', 'ap', 'apes']]\n",
      "og_tokens: [' hood', 'ed'] \n",
      "   [['Ġhood', 'ĠHood', 'hood', 'Ġwing'], ['ed', 'ing', 'y', 'bed']]\n",
      "og_tokens: [' vari', 'ably'] \n",
      "   [['Ġvari', 'ĠVari', 'Ġunpredict', 'Ġvariable'], ['ably', 'atively', 'able', 'ables']]\n",
      "og_tokens: ['neck', 'lace'] \n",
      "   [['neck', 'moon', 'Ġneck', 'collar'], ['lace', 'tie', 'line', 'brace']]\n",
      "og_tokens: [' st', 'ipp', 'ling'] \n",
      "   [['Ġst', 'Ġunst', 'Ġt', 'Ġp'], ['ipp', 'uff', 'udd', 'agg'], ['ling', 'eling', 'led', 'ching']]\n",
      "og_tokens: [' pal', 'er'] \n",
      "   [['Ġpal', 'Ġpall', 'Ġlight', 'pal'], ['er', 'ier', 'ers', 'uer']]\n",
      "og_tokens: [' sc', 'ap', 'ular'] \n",
      "   [['Ġsc', 'sc', 'Ġsubsc', 'Ġesc'], ['ap', 'app', 'aps', 'ab'], ['ular', 'ula', 'ulous', 'ulated']]\n",
      "og_tokens: [' t', 'awn', 'y'] \n",
      "   [['Ġt', 'Ġf', 'ĠT', 'Ġl'], ['awn', 'aw', 'int', 'ream'], ['y', 'ie', 'hy', 'ys']]\n",
      "og_tokens: [' r', 'uf', 'ous'] \n",
      "   [['Ġr', 'ĠR', 'r', 'Ġl'], ['uf', 'ub', 'uc', 'af'], ['ous', 'ously', 'us', 'OUS']]\n",
      "og_tokens: [' vari', 'ably'] \n",
      "   [['Ġvari', 'ĠVari', 'Ġvariable', 'Ġpersist'], ['ably', 'atively', 'ables', 'able']]\n",
      "og_tokens: [' sub', 'termin', 'al'] \n",
      "   [['Ġsub', 'Ġsuper', 'sub', 'ĠSub'], ['termin', 'bas', 'Termin', 'pir'], ['al', 'ar', 'ial', 'ian']]\n",
      "og_tokens: [' imm', 'atures'] \n",
      "   [['Ġimm', 'imm', 'Ġn', 'Ġm'], ['atures', 'ature', 'atur', 'ates']]\n",
      "og_tokens: [' pal', 'er'] \n",
      "   [['Ġpal', 'Ġpale', 'Ġpall', 'ĠPal'], ['er', 'ier', 'mer', 'uer']]\n",
      "og_tokens: [' morph', 's'] \n",
      "   [['Ġmorph', 'ĠMorph', 'Ġglyph', 'Ġpolymorph'], ['s', 'Ġs', 'ings', 'S']]\n",
      "og_tokens: [' sub', 'species'] \n",
      "   [['Ġsub', 'ĠSub', 'Ġunsub', 'sub'], ['species', 'specific', 'family', 'sex']]\n",
      "og_tokens: [' haw', 'ks'] \n",
      "   [['Ġhaw', 'Ġhawk', 'Ġjer', 'Ġhus'], ['ks', 'k', 'kens', 'kes']]\n",
      "og_tokens: [' h', 'ues'] \n",
      "   [['Ġh', 'h', 'ĠH', 'Ġha'], ['ues', 'UES', 'UE', 'imes']]\n",
      "og_tokens: [' r', 'uf', 'ous'] \n",
      "   [['Ġr', 'ĠR', 'r', 'Ġl'], ['uf', 'uff', 'uss', 'auc'], ['ous', 'OUS', 'ously', 'us']]\n",
      "og_tokens: [' t', 'inge'] \n",
      "   [['Ġt', 'ĠT', 'Ġpret', 't'], ['inge', 'inged', 'inging', 'inges']]\n",
      "og_tokens: [' rapt', 'ors'] \n",
      "   [['Ġrapt', 'Ġmete', 'Ġcurs', 'ĠRapt'], ['ors', 'or', 'urs', 'ores']]\n"
     ]
    }
   ],
   "source": [
    "for mask_idx in range(len(reduced_mapping)):\n",
    "    inputs = tokenizer(\n",
    "        text,\n",
    "        max_length=tokenizer.model_max_length,\n",
    "        truncation=True,\n",
    "        return_tensors='pt'\n",
    "    )\n",
    "\n",
    "    a = reduced_mapping[mask_idx][1]\n",
    "    b = reduced_mapping[mask_idx][2]\n",
    "    for i in range(a, b):\n",
    "        inputs['input_ids'][0,i] = tokenizer.mask_token_id\n",
    "\n",
    "    preds = masked_model(**inputs)\n",
    "    activated_preds = torch.softmax(preds[0], dim=2)\n",
    "    masked_token_indices = (inputs['input_ids'] == tokenizer.mask_token_id)\n",
    "    masked_preds = activated_preds[masked_token_indices]\n",
    "    topk = torch.topk(masked_preds, k, dim=1)\n",
    "\n",
    "    model_token = topk.indices.numpy()\n",
    "    sub_token_suggestions = []\n",
    "    for pos in model_token:\n",
    "        sub_token_suggestions.append([tokenizer.convert_ids_to_tokens(int(t)) for t in pos])\n",
    "\n",
    "    print(f'og_tokens: {model_tok[a:b]} \\n   {sub_token_suggestions}')"
   ]
  },
  {
   "cell_type": "code",
   "execution_count": 61,
   "metadata": {},
   "outputs": [
    {
     "output_type": "execute_result",
     "data": {
      "text/plain": [
       "'Red-tailed hawk plumage can be variable, depending on the subspecies and the region. These color variations are morphs, and are not related to molting. The western North American population, \"B. j. calurus\", is the most variable subspecies and has three main color morphs: light, dark, and intermediate or rufous. The dark and intermediate morphs constitute 10–20% of the population in the western United States but seem to constitute only 1–2% of \"B. j. calurus\" in western Canada. A whitish underbelly with a dark brown band across the belly, formed by horizontal streaks in feather patterning, is present in most color variations. This feature is variable in eastern hawks and generally absent in some light subspecies (i.e. \"B. j. fuertesi\"). Most adult red-tails have a dark brown nape and upper head which gives them a somewhat hooded appearance, while the throat can variably present a lighter brown “necklace”. Especially in younger birds, the underside may be otherwise covered with dark brown spotting and some adults may too manifest this stippling. The back is usually a slightly darker brown than elsewhere with paler scapular feathers, ranging from tawny to white, forming a variable imperfect “V” on the back. The tail of most adults, which of course gives this species its name, is rufous brick-red above with a variably sized black subterminal band and generally appears light buff-orange from below. In comparison, the typical pale immatures (i.e. less than two years old) typically have a mildly paler headed and tend to show a darker back than adults with more apparent pale wing feather edges above (for descriptions of dark morph juveniles from \"B. j. calurus\", which is also generally apt for description of rare dark morphs of other races, see under that subspecies description). In immature red-tailed hawks of all hues, the tail is a light brown above with numerous small dark brown bars of roughly equal width, but these tend to be much broader on dark morph birds. Even in young red-tails, the tail may be a somewhat rufous tinge of brown. The bill is relatively short and dark, in the hooked shape characteristic of raptors, and the head can sometimes appear small in size against the thick body frame. The cere, the legs, and the feet of the red-tailed hawk are all yellow, as is the hue of bare parts in many accipitrids of different lineages. Immature birds can be readily identified at close range by their yellowish irises. As the bird attains full maturity over the course of 3–4 years, the iris slowly darkens into a reddish-brown hue, which is the adult eye-color in all races. Seen in flight, adults usually have dark brown along the lower edge of the wings, against a mostly pale wing, which bares light brownish barring. Individually, the underwing coverts can range from all dark to off-whitish (most often more heavily streaked with brown) which contrasts with a distinctive black patagium marking. The wing coloring of adults and immatures is similar but for typical pale morph immatures having somewhat heavier brownish markings.'"
      ]
     },
     "metadata": {},
     "execution_count": 61
    }
   ],
   "source": [
    "text"
   ]
  },
  {
   "source": [
    "only one mask per word"
   ],
   "cell_type": "markdown",
   "metadata": {}
  },
  {
   "cell_type": "code",
   "execution_count": 62,
   "metadata": {},
   "outputs": [
    {
     "output_type": "stream",
     "name": "stdout",
     "text": [
      "og_token: plumage \n",
      "   [['Ġcolor', 'Ġcolors', 'Ġcoloring', 'Ġappearance']]\n",
      "og_token: subspecies \n",
      "   [['Ġspecies', 'Ġbird', 'Ġindividual', 'Ġbreed']]\n",
      "og_token: morphs \n",
      "   [['Ġnatural', 'Ġseasonal', 'Ġpermanent', 'Ġrandom']]\n",
      "og_token: molting \n",
      "   [['Ġsex', 'Ġindividuals', 'Ġsize', 'Ġspecies']]\n",
      "og_token: subspecies \n",
      "   [[',', 'Ġspecies', 'Ġone', 'Ġgroup']]\n",
      "og_token: morphs \n",
      "   [['Ġvariations', 'Ġgroups', 'Ġtypes', 'Ġforms']]\n",
      "og_token: rufous \n",
      "   [['Ġintermediate', 'Ġmixed', 'Ġgray', 'Ġvariable']]\n",
      "og_token: morphs \n",
      "   [['Ġforms', 'Ġmorph', 'Ġcolors', 'Ġtypes']]\n",
      "og_token: whitish \n",
      "   [['Ġwhite', 'Ġpale', 'Ġlighter', 'Ġlight']]\n",
      "og_token: underbelly \n",
      "   [['Ġbelly', 'Ġunderside', 'Ġabdomen', 'Ġbody']]\n",
      "og_token: patterning \n",
      "   [['Ġrows', 'Ġbeds', 'Ġpatterns', 'Ġtips']]\n",
      "og_token: subspecies \n",
      "   [['Ġforms', 'Ġvarieties', 'Ġspecies', 'Ġtypes']]\n",
      "og_token: fuertesi \n",
      "   [['Ġminor', 'Ġdispar', 'Ġray', 'Ġmajor']]\n",
      "og_token: nape \n",
      "   [['Ġneck', 'Ġthroat', 'Ġchest', 'Ġback']]\n",
      "og_token: hooded \n",
      "   [['Ġrough', 'Ġrugged', 'Ġmenacing', 'Ġglossy']]\n",
      "og_token: variably \n",
      "   [['Ġsometimes', 'Ġoccasionally', 'Ġalso', 'Ġoften']]\n",
      "og_token: necklace \n",
      "   [['V', 'ring', 'X', 'patch']]\n",
      "og_token: stippling \n",
      "   [['Ġfeature', 'Ġpattern', 'Ġcoloring', 'Ġtrait']]\n",
      "og_token: paler \n",
      "   [['Ġthe', 'Ġdark', 'Ġdarker', 'Ġsome']]\n",
      "og_token: scapular \n",
      "   [['Ġwing', 'Ġtail', 'Ġflight', 'Ġshoulder']]\n",
      "og_token: tawny \n",
      "   [['Ġtan', 'Ġgray', 'Ġbrown', 'Ġblack']]\n",
      "og_token: rufous \n",
      "   [['Ġredd', 'Ġdark', 'Ġa', 'Ġbright']]\n",
      "og_token: variably \n",
      "   [['Ġmoderately', 'Ġsimilarly', 'Ġmoderate', 'Ġmedium']]\n",
      "og_token: subterminal \n",
      "   [['Ġouter', 'Ġlateral', 'Ġcentral', 'Ġhorizontal']]\n",
      "og_token: immatures \n",
      "   [['Ġjuveniles', 'Ġjuvenile', 'Ġbirds', 'Ġchicks']]\n",
      "og_token: paler \n",
      "   [['Ġdarker', 'Ġbrown', 'Ġwhite', 'Ġorange']]\n",
      "og_token: morphs \n",
      "   [['Ġmorph', 'Ġjuveniles', 'Ġmales', 'Ġforms']]\n",
      "og_token: subspecies \n",
      "   [['Ġspecies', 'Ġspecific', 'Ġparticular', 'Ġtype']]\n",
      "og_token: hawks \n",
      "   [['Ġbirds', 'ĠHawks', 'Ġmales', 'Ġadults']]\n",
      "og_token: hues \n",
      "   [['Ġages', 'Ġsizes', 'Ġtypes', 'Ġcolors']]\n",
      "og_token: rufous \n",
      "   [['Ġdarker', 'Ġlighter', 'Ġlight', 'Ġdark']]\n",
      "og_token: tinge \n",
      "   [['Ġshade', 'Ġcolor', 'Ġtype', 'Ġsort']]\n",
      "og_token: raptors \n",
      "   [['Ġjuveniles', 'Ġmales', 'Ġadults', 'Ġfemales']]\n"
     ]
    }
   ],
   "source": [
    "for mask_idx in range(len(reduced_mapping)):\n",
    "    model_in = text\n",
    "    doc_i = reduced_mapping[mask_idx][0]\n",
    "    model_in = insert_mask(doc[doc_i].idx, len(doc[doc_i]), model_in, tokenizer.mask_token)\n",
    "\n",
    "    inputs = tokenizer(\n",
    "        model_in,\n",
    "        max_length=tokenizer.model_max_length,\n",
    "        truncation=True,\n",
    "        return_tensors='pt'\n",
    "    )\n",
    "    preds = masked_model(**inputs)\n",
    "    activated_preds = torch.softmax(preds[0], dim=2)\n",
    "    masked_token_indices = (inputs['input_ids'] == tokenizer.mask_token_id)\n",
    "    masked_preds = activated_preds[masked_token_indices]\n",
    "    topk = torch.topk(masked_preds, k, dim=1)\n",
    "\n",
    "    model_token = topk.indices.numpy()\n",
    "    full_word_suggestions = []\n",
    "    for pos in model_token:\n",
    "        full_word_suggestions.append([tokenizer.convert_ids_to_tokens(int(t)) for t in pos])\n",
    "\n",
    "    print(f'og_token: {doc[doc_i].text} \\n   {full_word_suggestions}')"
   ]
  },
  {
   "cell_type": "code",
   "execution_count": null,
   "metadata": {},
   "outputs": [],
   "source": []
  }
 ]
}