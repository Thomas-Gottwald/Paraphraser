{
 "metadata": {
  "language_info": {
   "codemirror_mode": {
    "name": "ipython",
    "version": 3
   },
   "file_extension": ".py",
   "mimetype": "text/x-python",
   "name": "python",
   "nbconvert_exporter": "python",
   "pygments_lexer": "ipython3",
   "version": "3.7.4-final"
  },
  "orig_nbformat": 2,
  "kernelspec": {
   "name": "python3",
   "display_name": "Python 3",
   "language": "python"
  }
 },
 "nbformat": 4,
 "nbformat_minor": 2,
 "cells": [
  {
   "source": [
    "# RoBERTa"
   ],
   "cell_type": "markdown",
   "metadata": {}
  },
  {
   "cell_type": "code",
   "execution_count": 1,
   "metadata": {},
   "outputs": [],
   "source": [
    "import torch\n",
    "from transformers import AutoConfig, AutoModelWithLMHead, AutoTokenizer"
   ]
  },
  {
   "cell_type": "code",
   "execution_count": 2,
   "metadata": {},
   "outputs": [],
   "source": [
    "model_name_or_path = \"roberta-large\"\n",
    "max_len = 512\n",
    "k = 5\n",
    "config = AutoConfig.from_pretrained(model_name_or_path)\n",
    "tokenizer = AutoTokenizer.from_pretrained(model_name_or_path, model_max_length=max_len)\n",
    "model = AutoModelWithLMHead.from_pretrained(model_name_or_path, config=config)"
   ]
  },
  {
   "cell_type": "code",
   "execution_count": 16,
   "metadata": {},
   "outputs": [],
   "source": [
    "toy_sentence = \"Hello, my dog is very <mask>\"\n",
    "inputs = tokenizer(\n",
    "    toy_sentence,\n",
    "    max_length=tokenizer.model_max_length,\n",
    "    truncation=True,\n",
    "    return_tensors='pt'\n",
    ")"
   ]
  },
  {
   "cell_type": "code",
   "execution_count": 17,
   "metadata": {},
   "outputs": [
    {
     "output_type": "execute_result",
     "data": {
      "text/plain": [
       "{'input_ids': tensor([[    0, 31414,     6,   127,  2335,    16,   182, 50264,     2]]), 'attention_mask': tensor([[1, 1, 1, 1, 1, 1, 1, 1, 1]])}"
      ]
     },
     "metadata": {},
     "execution_count": 17
    }
   ],
   "source": [
    "inputs"
   ]
  },
  {
   "cell_type": "code",
   "execution_count": 18,
   "metadata": {},
   "outputs": [],
   "source": [
    "preds = model(**inputs)\n",
    "activated_preds = torch.softmax(preds[0], dim=2)\n",
    "masked_token_indices = (inputs['input_ids'] == tokenizer.mask_token_id)\n",
    "masked_preds = activated_preds[masked_token_indices]\n",
    "topk = torch.topk(masked_preds, k, dim=1)"
   ]
  },
  {
   "cell_type": "code",
   "execution_count": 31,
   "metadata": {},
   "outputs": [
    {
     "output_type": "execute_result",
     "data": {
      "text/plain": [
       "torch.Size([1, 9, 50265])"
      ]
     },
     "metadata": {},
     "execution_count": 31
    }
   ],
   "source": [
    "activated_preds.shape"
   ]
  },
  {
   "cell_type": "code",
   "execution_count": 26,
   "metadata": {},
   "outputs": [
    {
     "output_type": "execute_result",
     "data": {
      "text/plain": [
       "torch.return_types.topk(\n",
       "values=tensor([[0.3848, 0.0407, 0.0359, 0.0266, 0.0228]], grad_fn=<TopkBackward>),\n",
       "indices=tensor([[ 4736,  4812, 38384, 11130,  7428]]))"
      ]
     },
     "metadata": {},
     "execution_count": 26
    }
   ],
   "source": [
    "topk"
   ]
  },
  {
   "cell_type": "code",
   "execution_count": 25,
   "metadata": {},
   "outputs": [
    {
     "output_type": "stream",
     "name": "stdout",
     "text": [
      "Ġsick\nĠill\nĠnaughty\nĠhungry\nĠtired\n"
     ]
    }
   ],
   "source": [
    "for sugested in topk.indices.detach().numpy():\n",
    "    for t in sugested:\n",
    "        print(tokenizer.convert_ids_to_tokens(int(t)))"
   ]
  },
  {
   "source": [
    "# XLNet"
   ],
   "cell_type": "markdown",
   "metadata": {}
  },
  {
   "cell_type": "code",
   "execution_count": 1,
   "metadata": {},
   "outputs": [],
   "source": [
    "# load the model without AutoModelWithLMHead\n",
    "import torch\n",
    "from transformers import AutoConfig, AutoTokenizer, AutoModelForCausalLM\n",
    "\n",
    "model_name_or_path = \"xlnet-large-cased\"\n",
    "max_len = 512 # check out model input size !!!\n",
    "k = 5\n",
    "config = AutoConfig.from_pretrained(model_name_or_path)\n",
    "tokenizer = AutoTokenizer.from_pretrained(model_name_or_path, model_max_length=max_len)\n",
    "model = AutoModelForCausalLM.from_pretrained(model_name_or_path, config=config)"
   ]
  },
  {
   "cell_type": "code",
   "execution_count": 1,
   "metadata": {},
   "outputs": [],
   "source": [
    "import torch\n",
    "from transformers import AutoConfig, AutoTokenizer, AutoModelWithLMHead"
   ]
  },
  {
   "cell_type": "code",
   "execution_count": 2,
   "metadata": {},
   "outputs": [
    {
     "output_type": "stream",
     "name": "stderr",
     "text": [
      "C:\\ProgramData\\Anaconda3\\lib\\site-packages\\transformers\\models\\auto\\modeling_auto.py:970: FutureWarning: The class `AutoModelWithLMHead` is deprecated and will be removed in a future version. Please use `AutoModelForCausalLM` for causal language models, `AutoModelForMaskedLM` for masked language models and `AutoModelForSeq2SeqLM` for encoder-decoder models.\n",
      "  FutureWarning,\n",
      "Downloading: 100%|██████████| 1.44G/1.44G [01:56<00:00, 12.3MB/s]\n"
     ]
    }
   ],
   "source": [
    "model_name_or_path = \"xlnet-large-cased\"\n",
    "max_len = 512 # check out model input size !!!\n",
    "k = 5\n",
    "config = AutoConfig.from_pretrained(model_name_or_path)\n",
    "tokenizer = AutoTokenizer.from_pretrained(model_name_or_path, model_max_length=max_len)\n",
    "model = AutoModelWithLMHead.from_pretrained(model_name_or_path, config=config)"
   ]
  },
  {
   "cell_type": "code",
   "execution_count": 2,
   "metadata": {},
   "outputs": [],
   "source": [
    "toy_sentence = \"Hello, my dog is very <mask>\"\n",
    "# toy_sentence = \"Hello, my dog is very cute\"\n",
    "inputs = tokenizer(\n",
    "    toy_sentence,\n",
    "    add_special_tokens=False,\n",
    "    max_length=tokenizer.model_max_length,\n",
    "    truncation=True,\n",
    "    return_tensors='pt'\n",
    ")"
   ]
  },
  {
   "cell_type": "code",
   "execution_count": 3,
   "metadata": {},
   "outputs": [
    {
     "output_type": "execute_result",
     "data": {
      "text/plain": [
       "{'input_ids': tensor([[   17, 11368,    19,    94,  2288,    27,   172,     6]]), 'token_type_ids': tensor([[0, 0, 0, 0, 0, 0, 0, 0]]), 'attention_mask': tensor([[1, 1, 1, 1, 1, 1, 1, 1]])}"
      ]
     },
     "metadata": {},
     "execution_count": 3
    }
   ],
   "source": [
    "inputs"
   ]
  },
  {
   "cell_type": "code",
   "execution_count": 4,
   "metadata": {},
   "outputs": [
    {
     "output_type": "execute_result",
     "data": {
      "text/plain": [
       "'Hello, my dog is very<mask>'"
      ]
     },
     "metadata": {},
     "execution_count": 4
    }
   ],
   "source": [
    "tokenizer.decode(inputs['input_ids'].flatten())"
   ]
  },
  {
   "cell_type": "code",
   "execution_count": 5,
   "metadata": {},
   "outputs": [],
   "source": [
    "preds = model(**inputs)\n",
    "activated_preds = torch.softmax(preds[0], dim=2)\n",
    "masked_token_indices = (inputs['input_ids'] == tokenizer.mask_token_id)\n",
    "# masked_token_indices = (inputs['input_ids'] >= 0)\n",
    "masked_preds = activated_preds[masked_token_indices]\n",
    "topk = torch.topk(masked_preds, k, dim=1)"
   ]
  },
  {
   "cell_type": "code",
   "execution_count": 6,
   "metadata": {},
   "outputs": [
    {
     "output_type": "execute_result",
     "data": {
      "text/plain": [
       "torch.Size([1, 8, 32000])"
      ]
     },
     "metadata": {},
     "execution_count": 6
    }
   ],
   "source": [
    "activated_preds.shape"
   ]
  },
  {
   "cell_type": "code",
   "execution_count": 7,
   "metadata": {},
   "outputs": [
    {
     "output_type": "execute_result",
     "data": {
      "text/plain": [
       "tensor([[2.2498e-05, 7.2611e-10, 8.6588e-10,  ..., 7.4294e-09, 6.8818e-10,\n",
       "         1.5228e-07]], grad_fn=<IndexBackward>)"
      ]
     },
     "metadata": {},
     "execution_count": 7
    }
   ],
   "source": [
    "masked_preds"
   ]
  },
  {
   "cell_type": "code",
   "execution_count": 8,
   "metadata": {},
   "outputs": [
    {
     "output_type": "execute_result",
     "data": {
      "text/plain": [
       "torch.return_types.topk(\n",
       "values=tensor([[0.0576, 0.0370, 0.0353, 0.0338, 0.0328]], grad_fn=<TopkBackward>),\n",
       "indices=tensor([[ 343,   62,   21,   35, 2653]]))"
      ]
     },
     "metadata": {},
     "execution_count": 8
    }
   ],
   "source": [
    "topk"
   ]
  },
  {
   "cell_type": "code",
   "execution_count": 9,
   "metadata": {},
   "outputs": [
    {
     "output_type": "stream",
     "name": "stdout",
     "text": [
      "0:\n▁really\n▁her\n▁and\n▁I\n▁super\n"
     ]
    }
   ],
   "source": [
    "for i, sugested in enumerate(topk.indices.detach().numpy()):\n",
    "    print(f'{i}:')\n",
    "    for t in sugested:\n",
    "        print(tokenizer.convert_ids_to_tokens(int(t)))"
   ]
  },
  {
   "source": [
    "-----------------------------------"
   ],
   "cell_type": "markdown",
   "metadata": {}
  },
  {
   "cell_type": "code",
   "execution_count": 44,
   "metadata": {},
   "outputs": [],
   "source": [
    "input_ids = torch.tensor(tokenizer.encode(\"Hello, my dog is very <mask>\", add_special_tokens=False)).unsqueeze(0)\n",
    "perm_mask = torch.zeros((1, input_ids.shape[1], input_ids.shape[1]), dtype=torch.float)\n",
    "perm_mask[:, :, -1] = 1.0\n",
    "target_mapping = torch.zeros((1, 1, input_ids.shape[1]), dtype=torch.float)\n",
    "target_mapping[0, 0, -1] = 1.0"
   ]
  },
  {
   "cell_type": "code",
   "execution_count": 45,
   "metadata": {},
   "outputs": [
    {
     "output_type": "execute_result",
     "data": {
      "text/plain": [
       "tensor([[   17, 11368,    19,    94,  2288,    27,   172,     6]])"
      ]
     },
     "metadata": {},
     "execution_count": 45
    }
   ],
   "source": [
    "input_ids"
   ]
  },
  {
   "cell_type": "code",
   "execution_count": 46,
   "metadata": {},
   "outputs": [
    {
     "output_type": "execute_result",
     "data": {
      "text/plain": [
       "tensor([[[0., 0., 0., 0., 0., 0., 0., 1.],\n",
       "         [0., 0., 0., 0., 0., 0., 0., 1.],\n",
       "         [0., 0., 0., 0., 0., 0., 0., 1.],\n",
       "         [0., 0., 0., 0., 0., 0., 0., 1.],\n",
       "         [0., 0., 0., 0., 0., 0., 0., 1.],\n",
       "         [0., 0., 0., 0., 0., 0., 0., 1.],\n",
       "         [0., 0., 0., 0., 0., 0., 0., 1.],\n",
       "         [0., 0., 0., 0., 0., 0., 0., 1.]]])"
      ]
     },
     "metadata": {},
     "execution_count": 46
    }
   ],
   "source": [
    "perm_mask"
   ]
  },
  {
   "cell_type": "code",
   "execution_count": 47,
   "metadata": {},
   "outputs": [
    {
     "output_type": "execute_result",
     "data": {
      "text/plain": [
       "tensor([[[0., 0., 0., 0., 0., 0., 0., 1.]]])"
      ]
     },
     "metadata": {},
     "execution_count": 47
    }
   ],
   "source": [
    "target_mapping"
   ]
  },
  {
   "cell_type": "code",
   "execution_count": 49,
   "metadata": {},
   "outputs": [],
   "source": [
    "outputs = model(input_ids, perm_mask=perm_mask, target_mapping=target_mapping)\n",
    "next_token_logits = outputs[0]"
   ]
  },
  {
   "cell_type": "code",
   "execution_count": 50,
   "metadata": {},
   "outputs": [
    {
     "output_type": "execute_result",
     "data": {
      "text/plain": [
       "tensor([[[-32.9998, -42.5084, -42.8883,  ..., -38.2738, -41.6116, -38.0217]]],\n",
       "       grad_fn=<AddBackward0>)"
      ]
     },
     "metadata": {},
     "execution_count": 50
    }
   ],
   "source": [
    "next_token_logits"
   ]
  },
  {
   "cell_type": "code",
   "execution_count": 72,
   "metadata": {},
   "outputs": [],
   "source": [
    "activated_outputs = torch.softmax(outputs[0], dim=2)\n",
    "topk_outputs = torch.topk(activated_outputs[0], k, dim=1)"
   ]
  },
  {
   "cell_type": "code",
   "execution_count": 73,
   "metadata": {},
   "outputs": [
    {
     "output_type": "execute_result",
     "data": {
      "text/plain": [
       "torch.return_types.topk(\n",
       "values=tensor([[0.4280, 0.1991, 0.0384, 0.0205, 0.0180]], grad_fn=<TopkBackward>),\n",
       "indices=tensor([[ 172,    9, 2653,   17,   21]]))"
      ]
     },
     "metadata": {},
     "execution_count": 73
    }
   ],
   "source": [
    "topk_outputs"
   ]
  },
  {
   "cell_type": "code",
   "execution_count": 74,
   "metadata": {},
   "outputs": [
    {
     "output_type": "stream",
     "name": "stdout",
     "text": [
      "▁very\n.\n▁super\n▁\n▁and\n"
     ]
    }
   ],
   "source": [
    "for sugested in topk_outputs.indices.detach().numpy():\n",
    "    for t in sugested:\n",
    "        print(tokenizer.convert_ids_to_tokens(int(t)))"
   ]
  },
  {
   "source": [
    "# BART"
   ],
   "cell_type": "markdown",
   "metadata": {}
  },
  {
   "cell_type": "code",
   "execution_count": 1,
   "metadata": {},
   "outputs": [
    {
     "output_type": "stream",
     "name": "stderr",
     "text": [
      "Downloading: 100%|██████████| 1.52k/1.52k [00:00<00:00, 1.67MB/s]\n",
      "Downloading: 100%|██████████| 1.02G/1.02G [01:23<00:00, 12.2MB/s]\n"
     ]
    }
   ],
   "source": [
    "from transformers import BartForConditionalGeneration, BartTokenizer\n",
    "model = BartForConditionalGeneration.from_pretrained(\"facebook/bart-large\", force_bos_token_to_be_generated=True)\n",
    "tok = BartTokenizer.from_pretrained(\"facebook/bart-large\")\n",
    "example_english_phrase = \"UN Chief Says There Is No <mask> in Syria\"\n",
    "batch = tok(example_english_phrase, return_tensors='pt')\n",
    "generated_ids = model.generate(batch['input_ids'])\n",
    "assert tok.batch_decode(generated_ids, skip_special_tokens=True) == ['UN Chief Says There Is No Plan to Stop Chemical Weapons in Syria']"
   ]
  },
  {
   "cell_type": "code",
   "execution_count": 2,
   "metadata": {},
   "outputs": [
    {
     "output_type": "execute_result",
     "data": {
      "text/plain": [
       "1024"
      ]
     },
     "metadata": {},
     "execution_count": 2
    }
   ],
   "source": [
    "tok.model_max_length"
   ]
  },
  {
   "cell_type": "code",
   "execution_count": 4,
   "metadata": {},
   "outputs": [
    {
     "output_type": "execute_result",
     "data": {
      "text/plain": [
       "'<mask>'"
      ]
     },
     "metadata": {},
     "execution_count": 4
    }
   ],
   "source": [
    "tok.mask_token"
   ]
  },
  {
   "cell_type": "code",
   "execution_count": 3,
   "metadata": {},
   "outputs": [
    {
     "output_type": "execute_result",
     "data": {
      "text/plain": [
       "{'input_ids': tensor([[    0,  4154,  1231, 15674,   345,  1534,   440, 50264,    11,  1854,\n",
       "             2]]), 'attention_mask': tensor([[1, 1, 1, 1, 1, 1, 1, 1, 1, 1, 1]])}"
      ]
     },
     "metadata": {},
     "execution_count": 3
    }
   ],
   "source": [
    "batch"
   ]
  },
  {
   "cell_type": "code",
   "execution_count": 5,
   "metadata": {},
   "outputs": [
    {
     "output_type": "execute_result",
     "data": {
      "text/plain": [
       "tensor([[    2,     0,  4154,  1231, 15674,   345,  1534,   440,  5427,     7,\n",
       "         12457, 14329, 28054,    11,  1854,     2]])"
      ]
     },
     "metadata": {},
     "execution_count": 5
    }
   ],
   "source": [
    "generated_ids"
   ]
  },
  {
   "source": [
    "---------------------------------"
   ],
   "cell_type": "markdown",
   "metadata": {}
  },
  {
   "cell_type": "code",
   "execution_count": 1,
   "metadata": {},
   "outputs": [],
   "source": [
    "import torch\n",
    "from transformers import AutoConfig, AutoModelWithLMHead, AutoTokenizer"
   ]
  },
  {
   "cell_type": "code",
   "execution_count": 2,
   "metadata": {},
   "outputs": [],
   "source": [
    "model_name_or_path = \"facebook/bart-large\"\n",
    "max_len = 512\n",
    "k = 5\n",
    "config = AutoConfig.from_pretrained(model_name_or_path)\n",
    "tokenizer = AutoTokenizer.from_pretrained(model_name_or_path, model_max_length=max_len)\n",
    "model = AutoModelWithLMHead.from_pretrained(model_name_or_path, config=config)"
   ]
  },
  {
   "cell_type": "code",
   "execution_count": 3,
   "metadata": {},
   "outputs": [],
   "source": [
    "toy_sentence = \"Hello, my dog is very <mask>\"\n",
    "inputs = tokenizer(\n",
    "    toy_sentence,\n",
    "    max_length=tokenizer.model_max_length,\n",
    "    truncation=True,\n",
    "    return_tensors='pt'\n",
    ")"
   ]
  },
  {
   "cell_type": "code",
   "execution_count": 4,
   "metadata": {},
   "outputs": [
    {
     "output_type": "execute_result",
     "data": {
      "text/plain": [
       "{'input_ids': tensor([[    0, 31414,     6,   127,  2335,    16,   182, 50264,     2]]), 'attention_mask': tensor([[1, 1, 1, 1, 1, 1, 1, 1, 1]])}"
      ]
     },
     "metadata": {},
     "execution_count": 4
    }
   ],
   "source": [
    "inputs"
   ]
  },
  {
   "cell_type": "code",
   "execution_count": 5,
   "metadata": {},
   "outputs": [],
   "source": [
    "preds = model(**inputs)\n",
    "activated_preds = torch.softmax(preds[0], dim=2)\n",
    "masked_token_indices = (inputs['input_ids'] == tokenizer.mask_token_id)\n",
    "masked_preds = activated_preds[masked_token_indices]\n",
    "topk = torch.topk(masked_preds, k, dim=1)"
   ]
  },
  {
   "cell_type": "code",
   "execution_count": 6,
   "metadata": {},
   "outputs": [
    {
     "output_type": "execute_result",
     "data": {
      "text/plain": [
       "tensor([[1.9357e-12, 9.9633e-10, 1.3515e-04,  ..., 2.2609e-09, 5.4310e-10,\n",
       "         7.0380e-10]], grad_fn=<IndexBackward>)"
      ]
     },
     "metadata": {},
     "execution_count": 6
    }
   ],
   "source": [
    "masked_preds"
   ]
  },
  {
   "cell_type": "code",
   "execution_count": 7,
   "metadata": {},
   "outputs": [
    {
     "output_type": "execute_result",
     "data": {
      "text/plain": [
       "torch.return_types.topk(\n",
       "values=tensor([[0.1285, 0.0366, 0.0307, 0.0261, 0.0260]], grad_fn=<TopkBackward>),\n",
       "indices=tensor([[ 4736,  1372,  4812, 10985, 20100]]))"
      ]
     },
     "metadata": {},
     "execution_count": 7
    }
   ],
   "source": [
    "topk"
   ]
  },
  {
   "cell_type": "code",
   "execution_count": 8,
   "metadata": {},
   "outputs": [
    {
     "output_type": "stream",
     "name": "stdout",
     "text": [
      "0:\nĠsick\nĠhappy\nĠill\nĠconfused\nĠlonely\n"
     ]
    }
   ],
   "source": [
    "for i, sugested in enumerate(topk.indices.detach().numpy()):\n",
    "    print(f'{i}:')\n",
    "    for t in sugested:\n",
    "        print(tokenizer.convert_ids_to_tokens(int(t)))"
   ]
  },
  {
   "source": [
    "# Pagasus Paraphraser"
   ],
   "cell_type": "markdown",
   "metadata": {}
  },
  {
   "cell_type": "code",
   "execution_count": 6,
   "metadata": {},
   "outputs": [],
   "source": [
    "import torch\n",
    "from transformers import PegasusForConditionalGeneration, PegasusTokenizer"
   ]
  },
  {
   "source": [
    "set up the language model"
   ],
   "cell_type": "markdown",
   "metadata": {}
  },
  {
   "cell_type": "code",
   "execution_count": 7,
   "metadata": {},
   "outputs": [],
   "source": [
    "model_name = 'tuner007/pegasus_paraphrase'\n",
    "torch_device = 'cuda' if torch.cuda.is_available() else 'cpu'\n",
    "tokenizer = PegasusTokenizer.from_pretrained(model_name)\n",
    "model = PegasusForConditionalGeneration.from_pretrained(model_name).to(torch_device)"
   ]
  },
  {
   "cell_type": "code",
   "execution_count": 3,
   "metadata": {},
   "outputs": [],
   "source": [
    "def get_response(input_text,num_return_sequences):\n",
    "  batch = tokenizer.prepare_seq2seq_batch([input_text],truncation=True,padding='longest',max_length=60, return_tensors=\"pt\").to(torch_device)\n",
    "  translated = model.generate(**batch,max_length=60,num_beams=10, num_return_sequences=num_return_sequences, temperature=1.5)\n",
    "  tgt_text = tokenizer.batch_decode(translated, skip_special_tokens=True)\n",
    "  return tgt_text"
   ]
  },
  {
   "source": [
    "test for a example text"
   ],
   "cell_type": "markdown",
   "metadata": {}
  },
  {
   "cell_type": "code",
   "execution_count": 6,
   "metadata": {},
   "outputs": [
    {
     "output_type": "execute_result",
     "data": {
      "text/plain": [
       "['The test of your knowledge is your ability to convey it.',\n",
       " 'The ability to convey your knowledge is the ultimate test of your knowledge.',\n",
       " 'The ability to convey your knowledge is the most important test of your knowledge.',\n",
       " 'Your capacity to convey your knowledge is the ultimate test of it.',\n",
       " 'The test of your knowledge is your ability to communicate it.',\n",
       " 'Your capacity to convey your knowledge is the ultimate test of your knowledge.',\n",
       " 'Your capacity to convey your knowledge to another is the ultimate test of your knowledge.',\n",
       " 'Your capacity to convey your knowledge is the most important test of your knowledge.',\n",
       " 'The test of your knowledge is how well you can convey it.',\n",
       " 'Your capacity to convey your knowledge is the ultimate test.']"
      ]
     },
     "metadata": {},
     "execution_count": 6
    }
   ],
   "source": [
    "context = \"The ultimate test of your knowledge is your capacity to convey it to another.\"\n",
    "get_response(context,10)"
   ]
  },
  {
   "source": [
    "### like the t5 paraphraser"
   ],
   "cell_type": "markdown",
   "metadata": {}
  },
  {
   "cell_type": "code",
   "execution_count": 1,
   "metadata": {},
   "outputs": [],
   "source": [
    "import torch\n",
    "from transformers import PegasusForConditionalGeneration, PegasusTokenizer"
   ]
  },
  {
   "cell_type": "code",
   "execution_count": 2,
   "metadata": {},
   "outputs": [],
   "source": [
    "def set_seed(seed):\n",
    "  torch.manual_seed(seed)\n",
    "  if torch.cuda.is_available():\n",
    "    torch.cuda.manual_seed_all(seed)\n",
    "\n",
    "set_seed(42)"
   ]
  },
  {
   "cell_type": "code",
   "execution_count": 3,
   "metadata": {},
   "outputs": [
    {
     "output_type": "stream",
     "name": "stdout",
     "text": [
      "device  cuda\n"
     ]
    }
   ],
   "source": [
    "model = PegasusForConditionalGeneration.from_pretrained('tuner007/pegasus_paraphrase')\n",
    "tokenizer = PegasusTokenizer.from_pretrained('tuner007/pegasus_paraphrase')\n",
    "\n",
    "device = torch.device(\"cuda\" if torch.cuda.is_available() else \"cpu\")\n",
    "print (\"device \",device)\n",
    "model = model.to(device)"
   ]
  },
  {
   "cell_type": "code",
   "execution_count": 4,
   "metadata": {},
   "outputs": [],
   "source": [
    "def paraphrase_question(text, top_k=50, top_p=0.95, num_return_sequences=3):\n",
    "    max_len = 256\n",
    "\n",
    "    encoding = tokenizer.encode_plus(text,pad_to_max_length=True, return_tensors=\"pt\")\n",
    "    input_ids, attention_masks = encoding[\"input_ids\"].to(device), encoding[\"attention_mask\"].to(device)\n",
    "\n",
    "    # set top_k = 50 and set top_p = 0.95 and num_return_sequences = 3\n",
    "    # set top_k = 120 and set top_p = 0.98 and num_return_sequences = 10\n",
    "    beam_outputs = model.generate(\n",
    "        input_ids=input_ids, attention_mask=attention_masks,\n",
    "        do_sample=True,\n",
    "        max_length=max_len,\n",
    "        top_k=top_k,\n",
    "        top_p=top_p,\n",
    "        early_stopping=True,\n",
    "        num_return_sequences=num_return_sequences\n",
    "    )\n",
    "\n",
    "    print (\"\\nOriginal Question ::\")\n",
    "    print (sentence)\n",
    "    print (\"\\n\")\n",
    "    print (\"Paraphrased Questions :: \")\n",
    "    final_outputs =[]\n",
    "    for beam_output in beam_outputs:\n",
    "        sent = tokenizer.decode(beam_output, skip_special_tokens=True,clean_up_tokenization_spaces=True)\n",
    "        if sent.lower() != sentence.lower() and sent not in final_outputs:\n",
    "            final_outputs.append(sent)\n",
    "\n",
    "    for i, final_output in enumerate(final_outputs):\n",
    "        print(\"{}: {}\".format(i, final_output))"
   ]
  },
  {
   "cell_type": "code",
   "execution_count": 6,
   "metadata": {},
   "outputs": [
    {
     "output_type": "stream",
     "name": "stdout",
     "text": [
      "\nOriginal Question ::\nWhich course should I take to get started in data science?\n\n\nParaphrased Questions :: \n0: Which data science course should I take?\n"
     ]
    }
   ],
   "source": [
    "sentence = \"Which course should I take to get started in data science?\"\n",
    "# sentence = \"What is the answer to the ultimate question of life, the universe and everything?\"\n",
    "text =  \"paraphrase: \" + sentence + \" </s>\"\n",
    "\n",
    "paraphrase_question(text, top_k=50, top_p=0.95, num_return_sequences=10)"
   ]
  },
  {
   "source": [
    "# t5 Paraphraser"
   ],
   "cell_type": "markdown",
   "metadata": {}
  },
  {
   "cell_type": "code",
   "execution_count": 1,
   "metadata": {},
   "outputs": [],
   "source": [
    "import torch\n",
    "from transformers import T5ForConditionalGeneration,T5Tokenizer"
   ]
  },
  {
   "cell_type": "code",
   "execution_count": 50,
   "metadata": {},
   "outputs": [],
   "source": [
    "def set_seed(seed):\n",
    "  torch.manual_seed(seed)\n",
    "  if torch.cuda.is_available():\n",
    "    torch.cuda.manual_seed_all(seed)\n",
    "\n",
    "set_seed(42)"
   ]
  },
  {
   "cell_type": "code",
   "execution_count": 3,
   "metadata": {},
   "outputs": [
    {
     "output_type": "stream",
     "name": "stderr",
     "text": [
      "Some weights of the model checkpoint at ramsrigouthamg/t5_paraphraser were not used when initializing T5ForConditionalGeneration: ['decoder.block.0.layer.1.EncDecAttention.relative_attention_bias.weight']\n",
      "- This IS expected if you are initializing T5ForConditionalGeneration from the checkpoint of a model trained on another task or with another architecture (e.g. initializing a BertForSequenceClassification model from a BertForPreTraining model).\n",
      "- This IS NOT expected if you are initializing T5ForConditionalGeneration from the checkpoint of a model that you expect to be exactly identical (initializing a BertForSequenceClassification model from a BertForSequenceClassification model).\n",
      "Downloading: 100%|██████████| 792k/792k [00:00<00:00, 1.45MB/s]\n",
      "Downloading: 100%|██████████| 1.79k/1.79k [00:00<00:00, 2.06MB/s]\n",
      "Downloading: 100%|██████████| 25.0/25.0 [00:00<00:00, 28.8kB/s]\n",
      "device  cuda\n"
     ]
    }
   ],
   "source": [
    "model = T5ForConditionalGeneration.from_pretrained('ramsrigouthamg/t5_paraphraser')\n",
    "tokenizer = T5Tokenizer.from_pretrained('ramsrigouthamg/t5_paraphraser')\n",
    "\n",
    "device = torch.device(\"cuda\" if torch.cuda.is_available() else \"cpu\")\n",
    "print (\"device \",device)\n",
    "model = model.to(device)"
   ]
  },
  {
   "cell_type": "code",
   "execution_count": 35,
   "metadata": {},
   "outputs": [],
   "source": [
    "def paraphrase_question(text, top_k=50, top_p=0.95, num_return_sequences=3):\n",
    "    max_len = 256\n",
    "\n",
    "    encoding = tokenizer.encode_plus(text,pad_to_max_length=True, return_tensors=\"pt\")\n",
    "    input_ids, attention_masks = encoding[\"input_ids\"].to(device), encoding[\"attention_mask\"].to(device)\n",
    "\n",
    "    # set top_k = 50 and set top_p = 0.95 and num_return_sequences = 3\n",
    "    # set top_k = 120 and set top_p = 0.98 and num_return_sequences = 10\n",
    "    beam_outputs = model.generate(\n",
    "        input_ids=input_ids, attention_mask=attention_masks,\n",
    "        do_sample=True,\n",
    "        max_length=max_len,\n",
    "        top_k=top_k,\n",
    "        top_p=top_p,\n",
    "        early_stopping=True,\n",
    "        num_return_sequences=num_return_sequences\n",
    "    )\n",
    "\n",
    "    print (\"\\nOriginal Question ::\")\n",
    "    print (sentence)\n",
    "    print (\"\\n\")\n",
    "    print (\"Paraphrased Questions :: \")\n",
    "    final_outputs =[]\n",
    "    for beam_output in beam_outputs:\n",
    "        sent = tokenizer.decode(beam_output, skip_special_tokens=True,clean_up_tokenization_spaces=True)\n",
    "        if sent.lower() != sentence.lower() and sent not in final_outputs:\n",
    "            final_outputs.append(sent)\n",
    "\n",
    "    for i, final_output in enumerate(final_outputs):\n",
    "        print(\"{}: {}\".format(i, final_output))"
   ]
  },
  {
   "source": [
    "for some example question"
   ],
   "cell_type": "markdown",
   "metadata": {}
  },
  {
   "cell_type": "code",
   "execution_count": 112,
   "metadata": {},
   "outputs": [
    {
     "output_type": "stream",
     "name": "stdout",
     "text": [
      "\nOriginal Question ::\nWhich course should I take to get started in data science?\n\n\nParaphrased Questions :: \n0: What is the right course to study data science?\n1: What courses should be taken to pursue data science?\n2: How should I study data science in college?\n3: What are the best courses for data science?\n4: What are the best courses to learn data science?\n5: How can I get started in data science?\n6: What is the best online course I should go through to get a career in data science?\n7: What are the best data science courses?\n8: What are some good courses for data science?\n9: What is the best place to get started with data science?\n"
     ]
    }
   ],
   "source": [
    "sentence = \"Which course should I take to get started in data science?\"\n",
    "# sentence = \"What is the answer to the ultimate question of life, the universe and everything?\"\n",
    "text =  \"paraphrase: \" + sentence + \" </s>\"\n",
    "\n",
    "paraphrase_question(text, top_k=50, top_p=0.95, num_return_sequences=10)"
   ]
  },
  {
   "source": [
    "### like pegasus paraphraser"
   ],
   "cell_type": "markdown",
   "metadata": {}
  },
  {
   "cell_type": "code",
   "execution_count": 1,
   "metadata": {},
   "outputs": [],
   "source": [
    "import torch\n",
    "from transformers import T5ForConditionalGeneration,T5Tokenizer"
   ]
  },
  {
   "cell_type": "code",
   "execution_count": 2,
   "metadata": {},
   "outputs": [],
   "source": [
    "model_name = 'ramsrigouthamg/t5_paraphraser'\n",
    "torch_device = 'cuda' if torch.cuda.is_available() else 'cpu'\n",
    "tokenizer = T5Tokenizer.from_pretrained(model_name)\n",
    "model = T5ForConditionalGeneration.from_pretrained(model_name).to(torch_device)"
   ]
  },
  {
   "cell_type": "code",
   "execution_count": 3,
   "metadata": {},
   "outputs": [],
   "source": [
    "def get_response(input_text,num_return_sequences):\n",
    "  batch = tokenizer.prepare_seq2seq_batch([input_text],truncation=True,padding='longest',max_length=60, return_tensors=\"pt\").to(torch_device)\n",
    "  translated = model.generate(**batch,max_length=60,num_beams=10, num_return_sequences=num_return_sequences, temperature=1.5)\n",
    "  tgt_text = tokenizer.batch_decode(translated, skip_special_tokens=True)\n",
    "  return tgt_text"
   ]
  },
  {
   "cell_type": "code",
   "execution_count": 4,
   "metadata": {},
   "outputs": [
    {
     "output_type": "execute_result",
     "data": {
      "text/plain": [
       "['The ultimate test of your knowledge is your capacity to convey it to another.',\n",
       " 'The ultimate test of your knowledge is your capacity to convey it to another person.',\n",
       " 'The ultimate test of your knowledge is your ability to convey it to another.',\n",
       " 'The ultimate test of knowledge is your capacity to convey it to another.',\n",
       " 'The ultimate test of your knowledge is your ability to convey it to another person.',\n",
       " 'The ultimate test of your knowledge is your capacity to transmit it to another.',\n",
       " 'The ultimate test of knowledge is your capacity to convey it to another person.',\n",
       " 'What is the ultimate test of your knowledge is your capacity to convey it to another.',\n",
       " 'What is the ultimate test of your knowledge is your capacity to convey it to another person.',\n",
       " 'The ultimate test of knowledge is your ability to convey it to another.']"
      ]
     },
     "metadata": {},
     "execution_count": 4
    }
   ],
   "source": [
    "context = \"The ultimate test of your knowledge is your capacity to convey it to another.\"\n",
    "get_response(context,10)"
   ]
  },
  {
   "source": [
    "## Notes\n",
    "\n",
    "over all investigate language models for conditional generation"
   ],
   "cell_type": "markdown",
   "metadata": {}
  },
  {
   "source": [
    "### Test for generate function of BART\n",
    "\n",
    "the function is inherent from GenerationMixin over PreTrainedModel"
   ],
   "cell_type": "markdown",
   "metadata": {}
  },
  {
   "cell_type": "code",
   "execution_count": null,
   "metadata": {},
   "outputs": [],
   "source": [
    "import torch\n",
    "from transformers import BartForConditionalGeneration, BartTokenizer"
   ]
  },
  {
   "cell_type": "code",
   "execution_count": null,
   "metadata": {},
   "outputs": [],
   "source": [
    "model_name = ''\n",
    "torch_device = 'cuda' if torch.cuda.is_available() else 'cpu'\n",
    "tokenizer = BartTokenizer.from_pretrained(model_name)\n",
    "model = BartForConditionalGeneration.from_pretrained(model_name).to(torch_device)"
   ]
  },
  {
   "cell_type": "code",
   "execution_count": null,
   "metadata": {},
   "outputs": [],
   "source": [
    "context = \"The ultimate test of your knowledge is your capacity to convey it to another.\"\n",
    "get_response(context,10)"
   ]
  },
  {
   "source": [
    "### Test this Praphrasas on some sample Data"
   ],
   "cell_type": "markdown",
   "metadata": {}
  },
  {
   "source": [
    "### the sample paragraphs"
   ],
   "cell_type": "markdown",
   "metadata": {}
  },
  {
   "cell_type": "code",
   "execution_count": 2,
   "metadata": {},
   "outputs": [],
   "source": [
    "import spacy\n",
    "\n",
    "nlp = spacy.load(\"en_core_web_sm\", disable=[\"parser\", \"tagger\", \"ner\"])\n",
    "nlp.add_pipe(spacy.lang.en.English().create_pipe(\"sentencizer\"))\n",
    "\n",
    "def sentencizer(text):\n",
    "    return list(nlp(text).sents)"
   ]
  },
  {
   "cell_type": "code",
   "execution_count": 1,
   "metadata": {},
   "outputs": [],
   "source": [
    "# wikipedia: 146195-ORIG-10.txt\n",
    "paragrpah_1 = \"\"\"Robinson built a record of 40–0 before losing for the first time to LaMotta in a 10-round re-match. LaMotta, who had a weight advantage over Robinson, knocked Robinson out of the ring in the eighth round, and won the fight by decision. The fight took place in Robinson's former home town of Detroit, and attracted a record crowd. After being controlled by Robinson in the early portions of the fight, LaMotta came back to take control in the later rounds. After winning the third LaMotta fight less than three weeks later, Robinson then defeated his childhood idol: former champion Henry Armstrong. Robinson fought Armstrong only because Armstrong was in need of money. By now Armstrong was an old fighter, and Robinson later stated that he carried Armstrong.\"\"\"\n",
    "\n",
    "# wikipedia: 15738365-ORIG-6.txt\n",
    "paragrpah_2 = \"\"\"Paper shortages caused by the war forced the magazine to a bimonthly schedule in 1942, and only four more issues appeared. The last issue was dated September–October 1943. Over the lifetime of the magazine its focus shifted from weird fiction to include both science fiction and fantasy. The magazine is now hard to find and complete runs are very rare.\"\"\"\n",
    "\n",
    "# wikipedia: 27509373-ORIG-28.txt\n",
    "paragrpah_3 = \"\"\"The tale was also apparently popular in later times, and became the subject of a number of independent poems; none appears to have been directly based on the surviving text, however, suggesting that other versions of the same tale served as their inspiration. The first poem is appended to the old text in the Book of Leinster, Harley 5280 and H.3.18. Its author used the opportunity to display his knowledge of the names of Irish heroes in general, in which he does not confine himself to characters of the story. The second poem follows the first in Harley 5280, and appears also in three other manuscripts: the Book of Lecan, Laud 610 in the Bodelian Library and lastly in the Stowe manuscript collection.\n",
    "In these two poems, the real hero is not the dog Ailbe but the pig – the latter being \"practically a panegyric on the pig\" – although the story's title implies this may have been an original feature. In the unusual choice of a pig as the main protagonist, the story becomes associated with a broader Celtic tradition, including the wild boar motif of Arthurian legend. The wild boar Twrch Trwyth, for example, causes considerable difficulty for the men of Arthur's court in the 11th-century Welsh story of \"Culhwch and Olwen\"; while the exposition of the geographical details of Ailbe's route in the rout of the Connachta in the Irish tale has parallels with the route taken by Twrch Trwyth in the Welsh hunt. Indeed, Thurneysen notes that in relation to Mac Da Thó's pig, the poets use the words \"torc\" (boar) and \"muc\" (pig) interchangeably.\"\"\""
   ]
  },
  {
   "source": [
    "### Pegasus"
   ],
   "cell_type": "markdown",
   "metadata": {}
  },
  {
   "cell_type": "code",
   "execution_count": 3,
   "metadata": {},
   "outputs": [],
   "source": [
    "import torch\n",
    "from transformers import PegasusForConditionalGeneration, PegasusTokenizer\n",
    "\n",
    "model_name = 'tuner007/pegasus_paraphrase'\n",
    "torch_device = 'cuda' if torch.cuda.is_available() else 'cpu'\n",
    "tokenizer = PegasusTokenizer.from_pretrained(model_name)\n",
    "model = PegasusForConditionalGeneration.from_pretrained(model_name).to(torch_device)"
   ]
  },
  {
   "cell_type": "code",
   "execution_count": 2,
   "metadata": {},
   "outputs": [],
   "source": [
    "def paraphrase_pegasus(input_text,num_return_sequences):\n",
    "    batch = tokenizer.prepare_seq2seq_batch([input_text],truncation=True,padding='longest',max_length=60, return_tensors=\"pt\").to(torch_device)\n",
    "    translated = model.generate(**batch,max_length=60,num_beams=10, num_return_sequences=num_return_sequences, temperature=1.5)\n",
    "    tgt_text = tokenizer.batch_decode(translated, skip_special_tokens=True)\n",
    "    return tgt_text"
   ]
  },
  {
   "cell_type": "code",
   "execution_count": 30,
   "metadata": {},
   "outputs": [
    {
     "output_type": "stream",
     "name": "stdout",
     "text": [
      "Robinson built a record of 40–0 before losing for the first time to LaMotta in a 10-round re-match.\n",
      " -> Robinson lost for the first time to LaMotta in a 10-round re- match.\n",
      "LaMotta, who had a weight advantage over Robinson, knocked Robinson out of the ring in the eighth round, and won the fight by decision.\n",
      " -> LaMotta knocked Robinson out of the ring in the eighth round and won the fight by decision.\n",
      "The fight took place in Robinson's former home town of Detroit, and attracted a record crowd.\n",
      " -> A record crowd watched the fight in Robinson's hometown of Detroit.\n",
      "After being controlled by Robinson in the early portions of the fight, LaMotta came back to take control in the later rounds.\n",
      " -> After being controlled by Robinson in the early parts of the fight, LaMotta came back to take control in the later rounds.\n",
      "After winning the third LaMotta fight less than three weeks later, Robinson then defeated his childhood idol:\n",
      " -> Robinson defeated his childhood hero, LaMotta, less than three weeks after winning the third fight.\n",
      "former champion Henry Armstrong.\n",
      " -> Henry Armstrong was a champion.\n",
      "Robinson fought Armstrong only because Armstrong was in need of money.\n",
      " -> Robinson fought Armstrong because he needed money.\n",
      "By now Armstrong was an old fighter, and Robinson later stated that he carried Armstrong.\n",
      " -> Robinson stated that he carried the old fighter.\n"
     ]
    }
   ],
   "source": [
    "spun_text_1 = []\n",
    "for sentence in sentencizer(paragrpah_1):\n",
    "    print(sentence.text)\n",
    "    spun_sentence = paraphrase_pegasus(sentence.text, 1)[0]\n",
    "    print(f' -> {spun_sentence}')\n",
    "    spun_text_1.append(spun_sentence)"
   ]
  },
  {
   "cell_type": "code",
   "execution_count": 28,
   "metadata": {},
   "outputs": [
    {
     "output_type": "stream",
     "name": "stdout",
     "text": [
      "Paper shortages caused the magazine to be on a bimonthly schedule in 1942.\n",
      "The last issue was published in 1943.\n",
      "Science fiction and fantasy were included in the magazine's focus over the course of its lifetime.\n",
      "The magazine is hard to find and complete runs are very rare.\n"
     ]
    }
   ],
   "source": [
    "for sentence in sentencizer(paragrpah_2):\n",
    "    print(paraphrase_pegasus(sentence.text, 1)[0])"
   ]
  },
  {
   "cell_type": "code",
   "execution_count": 29,
   "metadata": {},
   "outputs": [
    {
     "output_type": "stream",
     "name": "stdout",
     "text": [
      "The tale became the subject of a number of independent poems.\n",
      "Other versions of the same tale served as their inspiration, as none appears to have been directly based on the surviving text.\n",
      "The first poem is appended to the old text.\n",
      "The author was able to show his knowledge of the names of Irish heroes in general because he did not limit himself to the characters of the story.\n",
      "The second poem is in three other manuscripts.\n",
      "The Book of Lecan, Laud 610 and the manuscript collection are in the Bodelian Library.\n",
      "The real hero in these two poems is not the dog Ailbe but the pig, although the story's title suggests this may have been an original feature.\n",
      "In the unusual choice of a pig as the main character, the story becomes associated with a broader Celtic tradition.\n",
      "The men of Arthur's court in the 11th-century Welsh story of \"Culhwch and Olwen\" were not easy to get along with.\n",
      "While the geographical details of Ailbe's route in the Connachta in the Irish tale have parallels with the route taken by Twrch Trwyth in the Welsh hunt.\n",
      "The poets use the words \"torc\" and \"muc\" interchangeably in relation to Mac Da Th's pig.\n"
     ]
    }
   ],
   "source": [
    "for sentence in sentencizer(paragrpah_3):\n",
    "    print(paraphrase_pegasus(sentence.text, 1)[0])"
   ]
  },
  {
   "source": [
    "### paraphrase sentence by sentence"
   ],
   "cell_type": "markdown",
   "metadata": {}
  },
  {
   "cell_type": "code",
   "execution_count": 4,
   "metadata": {},
   "outputs": [],
   "source": [
    "def paraphrase_pegasus_sentence_wise(text, **model_args):\n",
    "    tgt_texts = []\n",
    "    for sentence in sentencizer(text):\n",
    "        batch = tokenizer.prepare_seq2seq_batch([sentence.text],truncation=True,padding='longest',max_length=60, return_tensors=\"pt\").to(torch_device)\n",
    "        min_len = batch['input_ids'].flatten().shape[0] // 2\n",
    "        translated = model.generate(\n",
    "            **batch,\n",
    "            min_length=min_len,\n",
    "            max_length=60,\n",
    "            **model_args\n",
    "        )\n",
    "        tgt_texts.extend(tokenizer.batch_decode(translated, skip_special_tokens=True))\n",
    "\n",
    "    print('\\n\\n'.join(tgt_texts))"
   ]
  },
  {
   "cell_type": "code",
   "execution_count": 21,
   "metadata": {},
   "outputs": [
    {
     "output_type": "stream",
     "name": "stdout",
     "text": [
      "Robinson lost for the first time in his career in a 10-round re- match against LaMotta.\n\nRobinson was knocked out of the ring in the eighth round by LaMotta, but the fight was decided by a single point.\n\nRobinson's former home town of Detroit attracted a record crowd for the fight, which took place in the middle of the night.\n\nIn the later rounds, LaMotta came back to take control of the fight after being controlled by Robinson in the early part of the fight.\n\nRobinson defeated his childhood hero, LaMotta, less than three weeks after winning the third fight.\n\nThe former champion was Henry Armstrong.\n\nRobinson was the one who fought Armstrong because he was in need of money.\n\nRobinson later stated that he was the one who carried the old fighter, by now he was an old fighter, and he was an old fighter, by now he was an old fighter, and he was an old fighter, by now he was an old fighter, and he was an old fighter\n"
     ]
    }
   ],
   "source": [
    "paraphrase_pegasus_sentence_wise(\n",
    "    paragrpah_1,\n",
    "    num_beams=10, # beam for beam search\n",
    "    top_k=50, # number of highest propability tokens to keep for top-k filtering\n",
    "    top_p=1.0, # if < 1 than  only the tokens with probabilities that add up to this value or highter are kept for geneartion\n",
    "    num_return_sequences=1,\n",
    "    temperature=1.5,\n",
    "    length_penalty=2.0, # panalty to produce longer texts\n",
    "    encoder_no_repeat_ngram_size=10 # no ngram of this size or longer form the encoder_input_ids can occur in the decoder_input_ids\n",
    ")"
   ]
  },
  {
   "cell_type": "code",
   "execution_count": 31,
   "metadata": {},
   "outputs": [
    {
     "output_type": "stream",
     "name": "stdout",
     "text": [
      "Robinson built a 40–0 record before losing to LaMotta for the first time in a 10 round re- match.\n\nRobinson lost for the first time in his career in a 10 round re- match against LaMotta.\n\nRobinson built a 40–0 record before losing to LaMotta for the first time in a re- match.\n\nRobinson lost for the first time in his career in a 10 round re- match to LaMotta.\n\nRobinson built a 40–0 record before losing to LaMotta for the first time in a 10- round re- match.\n\nRobinson was knocked out in the eighth round by LaMotta, but the fight was decided by a single point.\n\nRobinson was knocked out in the eighth round by LaMotta, but the fight was decided by the judges.\n\nRobinson was knocked out in the eighth round by LaMotta who won the fight by a decision.\n\nRobinson was knocked out in the eighth round by LaMotta, but he won the fight by a decision.\n\nRobinson was knocked out in the eighth round by LaMotta, and the fight was decided by a single point.\n\nA record crowd watched the fight in Robinson's hometown of Detroit.\n\nThere was a record crowd at the fight in Detroit.\n\nThe crowd at the fight in Detroit was a record.\n\nThere was a record crowd for the fight in Detroit.\n\nA record crowd watched the fight in Detroit, where Robinson grew up.\n\nIn the later rounds, LaMotta took control of the fight after being controlled by Robinson early in the fight.\n\nIn the later rounds, LaMotta took control of the fight after being controlled by Robinson.\n\nIn the later rounds, LaMotta took control after being controlled by Robinson early in the fight.\n\nIn the later rounds, LaMotta took control of the fight after being controlled by Robinson early on.\n\nIn the later rounds, LaMotta took control of the fight after he was controlled by Robinson early in the fight.\n\nRobinson defeated his childhood hero, LaMotta, less than three weeks after winning the third fight.\n\nRobinson defeated his childhood hero, LaMotta, less than three weeks after he won the third fight.\n\nRobinson defeated his childhood hero, LaMotta, three weeks after winning the third fight.\n\nRobinson defeated his childhood hero, LaMotta, just three weeks after winning the third fight.\n\nRobinson beat his childhood hero, LaMotta, less than three weeks after winning the third fight.\n\nHenry Armstrong was a champion.\n\nHe was a former champion.\n\nThe former champion was Henry Armstrong.\n\nA former champion.\n\nHenry was a champion.\n\nRobinson fought Armstrong because he needed money.\n\nRobinson foughtArmstrong because he needed money.\n\nRobinson fought the man because he needed money.\n\nRobinson fought Armstrong because he was in need of cash.\n\nRobinson fought for money.\n\nRobinson stated that he carried the old fighter.\n\nRobinson said that he carried the old fighter.\n\nRobinson later said that he carried the old fighter.\n\nRobinson stated that he carried the old fighter, by now he was an old fighter.\n\nRobinson stated that he carried the fighter, who was an old fighter.\n"
     ]
    }
   ],
   "source": [
    "paraphrase_pegasus_sentence_wise(\n",
    "    paragrpah_1,\n",
    "    num_beams=10, # beam for beam search\n",
    "    top_k=50, # number of highest propability tokens to keep for top-k filtering\n",
    "    top_p=1.0, # if < 1 than  only the tokens with probabilities that add up to this value or highter are kept for geneartion\n",
    "    num_return_sequences=5,\n",
    "    temperature=1.5,\n",
    "    length_penalty=1.0, # panalty to produce longer texts\n",
    "    encoder_no_repeat_ngram_size=5 # no ngram of this size or longer form the encoder_input_ids can occur in the decoder_input_ids\n",
    ")"
   ]
  },
  {
   "source": [
    "### t5"
   ],
   "cell_type": "markdown",
   "metadata": {}
  },
  {
   "cell_type": "code",
   "execution_count": 1,
   "metadata": {},
   "outputs": [],
   "source": [
    "import torch\n",
    "from transformers import T5ForConditionalGeneration,T5Tokenizer\n",
    "\n",
    "model_name = 'ramsrigouthamg/t5_paraphraser'\n",
    "torch_device = 'cuda' if torch.cuda.is_available() else 'cpu'\n",
    "tokenizer = T5Tokenizer.from_pretrained(model_name)\n",
    "model = T5ForConditionalGeneration.from_pretrained(model_name).to(torch_device)"
   ]
  },
  {
   "cell_type": "code",
   "execution_count": 2,
   "metadata": {},
   "outputs": [],
   "source": [
    "def set_seed(seed):\n",
    "  torch.manual_seed(seed)\n",
    "  if torch.cuda.is_available():\n",
    "    torch.cuda.manual_seed_all(seed)\n",
    "\n",
    "set_seed(42)"
   ]
  },
  {
   "cell_type": "code",
   "execution_count": 7,
   "metadata": {},
   "outputs": [],
   "source": [
    "def paraphrase_t5(input_text,num_return_sequences):\n",
    "  batch = tokenizer.prepare_seq2seq_batch([input_text],truncation=True,padding='longest',max_length=512, return_tensors=\"pt\").to(torch_device)\n",
    "  translated = model.generate(**batch,max_length=512,num_beams=10, num_return_sequences=num_return_sequences, temperature=1.5)\n",
    "  tgt_text = tokenizer.batch_decode(translated, skip_special_tokens=True)\n",
    "  return tgt_text"
   ]
  },
  {
   "source": [
    "-------------------------------------------------------------"
   ],
   "cell_type": "markdown",
   "metadata": {}
  },
  {
   "cell_type": "code",
   "execution_count": 19,
   "metadata": {},
   "outputs": [
    {
     "output_type": "execute_result",
     "data": {
      "text/plain": [
       "{'input_ids': tensor([[17461,  1192,     3,     9,  1368,    13,  1283,   104,   632,   274,\n",
       "          5489,    21,     8,   166,    97,    12,   325,   329,    32,    17,\n",
       "            17,     9,    16,     3,     9,  9445,  7775,     3,    60,    18,\n",
       "         19515,     5,   325,   329,    32,    17,    17,     9,     6,   113,\n",
       "           141,     3,     9,  1293,  2337,   147, 17461,     6,  7673,    15,\n",
       "            26, 17461,    91,    13,     8,     3,  1007,    16,     8, 21227,\n",
       "          1751,     6,    11,   751,     8,  2870,    57,  1357,     5,    37,\n",
       "          2870,   808,   286,    16, 17461,    31,     7,  1798,   234,  1511,\n",
       "            13, 11901,     6,    11,    44, 11674,     3,     9,  1368,  4374,\n",
       "             5,   621,   271,  6478,    57, 17461,    16,     8,   778, 17622,\n",
       "            13,     8,  2870,     6,   325,   329,    32,    17,    17,     9,\n",
       "           764,   223,    12,   240,   610,    16,     8,   865, 14419,     5,\n",
       "           621,  3447,     8,  1025,   325,   329,    32,    17,    17,     9,\n",
       "          2870,   705,   145,   386,  1274,   865,     6, 17461,   258, 17025,\n",
       "           112,  7352, 21979,    10,  1798,  6336,  7780, 26044,     5, 17461,\n",
       "             3, 13973, 26044,   163,   250, 26044,    47,    16,   174,    13,\n",
       "           540,     5,   938,   230, 26044,    47,    46,   625, 14248,     6,\n",
       "            11, 17461,   865,  4568,    24,     3,    88,  4006, 26044,     5,\n",
       "             1]], device='cuda:0'), 'attention_mask': tensor([[1, 1, 1, 1, 1, 1, 1, 1, 1, 1, 1, 1, 1, 1, 1, 1, 1, 1, 1, 1, 1, 1, 1, 1,\n",
       "         1, 1, 1, 1, 1, 1, 1, 1, 1, 1, 1, 1, 1, 1, 1, 1, 1, 1, 1, 1, 1, 1, 1, 1,\n",
       "         1, 1, 1, 1, 1, 1, 1, 1, 1, 1, 1, 1, 1, 1, 1, 1, 1, 1, 1, 1, 1, 1, 1, 1,\n",
       "         1, 1, 1, 1, 1, 1, 1, 1, 1, 1, 1, 1, 1, 1, 1, 1, 1, 1, 1, 1, 1, 1, 1, 1,\n",
       "         1, 1, 1, 1, 1, 1, 1, 1, 1, 1, 1, 1, 1, 1, 1, 1, 1, 1, 1, 1, 1, 1, 1, 1,\n",
       "         1, 1, 1, 1, 1, 1, 1, 1, 1, 1, 1, 1, 1, 1, 1, 1, 1, 1, 1, 1, 1, 1, 1, 1,\n",
       "         1, 1, 1, 1, 1, 1, 1, 1, 1, 1, 1, 1, 1, 1, 1, 1, 1, 1, 1, 1, 1, 1, 1, 1,\n",
       "         1, 1, 1, 1, 1, 1, 1, 1, 1, 1, 1, 1, 1]], device='cuda:0')}"
      ]
     },
     "metadata": {},
     "execution_count": 19
    }
   ],
   "source": [
    "input_text = paragrpah_1\n",
    "batch = tokenizer.prepare_seq2seq_batch([input_text],truncation=True,padding='longest',max_length=256, return_tensors=\"pt\").to(torch_device)\n",
    "# batch['input_ids'].flatten().shape[0]\n",
    "batch"
   ]
  },
  {
   "cell_type": "code",
   "execution_count": 24,
   "metadata": {},
   "outputs": [
    {
     "output_type": "execute_result",
     "data": {
      "text/plain": [
       "{'input_ids': tensor([[17461,  1192,     3,     9,  1368,    13,  1283,   104,   632,   274,\n",
       "          5489,    21,     8,   166,    97,    12,   325,   329,    32,    17,\n",
       "            17,     9,    16,     3,     9,  9445,  7775,     3,    60,    18,\n",
       "         19515,     5,   325,   329,    32,    17,    17,     9,     6,   113,\n",
       "           141,     3,     9,  1293,  2337,   147, 17461,     6,  7673,    15,\n",
       "            26, 17461,    91,    13,     8,     3,  1007,    16,     8, 21227,\n",
       "          1751,     6,    11,   751,     8,  2870,    57,  1357,     5,    37,\n",
       "          2870,   808,   286,    16, 17461,    31,     7,  1798,   234,  1511,\n",
       "            13, 11901,     6,    11,    44, 11674,     3,     9,  1368,  4374,\n",
       "             5,   621,   271,  6478,    57, 17461,    16,     8,   778, 17622,\n",
       "            13,     8,  2870,     6,   325,   329,    32,    17,    17,     9,\n",
       "           764,   223,    12,   240,   610,    16,     8,   865, 14419,     5,\n",
       "           621,  3447,     8,  1025,   325,   329,    32,    17,    17,     9,\n",
       "          2870,   705,   145,   386,  1274,   865,     6, 17461,   258, 17025,\n",
       "           112,  7352, 21979,    10,  1798,  6336,  7780, 26044,     5, 17461,\n",
       "             3, 13973, 26044,   163,   250, 26044,    47,    16,   174,    13,\n",
       "           540,     5,   938,   230, 26044,    47,    46,   625, 14248,     6,\n",
       "            11, 17461,   865,  4568,    24,     3,    88,  4006, 26044,     5,\n",
       "             1]], device='cuda:0'), 'attention_mask': tensor([[1, 1, 1, 1, 1, 1, 1, 1, 1, 1, 1, 1, 1, 1, 1, 1, 1, 1, 1, 1, 1, 1, 1, 1,\n",
       "         1, 1, 1, 1, 1, 1, 1, 1, 1, 1, 1, 1, 1, 1, 1, 1, 1, 1, 1, 1, 1, 1, 1, 1,\n",
       "         1, 1, 1, 1, 1, 1, 1, 1, 1, 1, 1, 1, 1, 1, 1, 1, 1, 1, 1, 1, 1, 1, 1, 1,\n",
       "         1, 1, 1, 1, 1, 1, 1, 1, 1, 1, 1, 1, 1, 1, 1, 1, 1, 1, 1, 1, 1, 1, 1, 1,\n",
       "         1, 1, 1, 1, 1, 1, 1, 1, 1, 1, 1, 1, 1, 1, 1, 1, 1, 1, 1, 1, 1, 1, 1, 1,\n",
       "         1, 1, 1, 1, 1, 1, 1, 1, 1, 1, 1, 1, 1, 1, 1, 1, 1, 1, 1, 1, 1, 1, 1, 1,\n",
       "         1, 1, 1, 1, 1, 1, 1, 1, 1, 1, 1, 1, 1, 1, 1, 1, 1, 1, 1, 1, 1, 1, 1, 1,\n",
       "         1, 1, 1, 1, 1, 1, 1, 1, 1, 1, 1, 1, 1]], device='cuda:0')}"
      ]
     },
     "metadata": {},
     "execution_count": 24
    }
   ],
   "source": [
    "text = \"paraphrase: \" + input_text + \" </s>\"\n",
    "encoding = tokenizer.encode_plus(input_text, pad_to_max_length=True, return_tensors='pt').to(torch_device)\n",
    "encoding"
   ]
  },
  {
   "cell_type": "code",
   "execution_count": 28,
   "metadata": {},
   "outputs": [
    {
     "output_type": "stream",
     "name": "stdout",
     "text": [
      "yes\n"
     ]
    }
   ],
   "source": [
    "if torch.all(torch.eq(encoding['input_ids'], batch['input_ids'])):\n",
    "    print('yes')"
   ]
  },
  {
   "cell_type": "code",
   "execution_count": 30,
   "metadata": {},
   "outputs": [
    {
     "output_type": "execute_result",
     "data": {
      "text/plain": [
       "torch.Size([1, 75])"
      ]
     },
     "metadata": {},
     "execution_count": 30
    }
   ],
   "source": [
    "translated = model.generate(\n",
    "    **encoding,\n",
    "    do_sample=True,\n",
    "    # min_length=140,\n",
    "    max_length=256,\n",
    "    top_k=120,\n",
    "    top_p=0.98,\n",
    "    early_stopping=True,\n",
    "    num_return_sequences=1)\n",
    "translated.shape"
   ]
  },
  {
   "cell_type": "code",
   "execution_count": 33,
   "metadata": {},
   "outputs": [
    {
     "output_type": "execute_result",
     "data": {
      "text/plain": [
       "\"Woodrow Wilson defeated Henry Armstrong. Robinson then was ruled out for good. Two days later, Wilson fought Armstrong again. Robinson had been the owner of Woodrow Wilson's home gym for several years, and Wilson was a good father to his daughter. Robinson was in a lot of trouble in the fight and had a lot of luck.\""
      ]
     },
     "metadata": {},
     "execution_count": 33
    }
   ],
   "source": [
    "tokenizer.decode(translated.flatten(), skip_special_tokens=True, clean_up_tokenization_spaces=True)"
   ]
  },
  {
   "cell_type": "code",
   "execution_count": 31,
   "metadata": {},
   "outputs": [
    {
     "output_type": "execute_result",
     "data": {
      "text/plain": [
       "\"Robinson built a record of 40–0 before losing for the first time to LaMotta in a 10-round re-match. LaMotta, who had a weight advantage over Robinson, knocked Robinson out of the ring in the eighth round, and won the fight by decision. The fight took place in Robinson's former home town of Detroit, and attracted a record crowd. After being controlled by Robinson in the early portions of the fight, LaMotta came back to take control in the later rounds. After winning the third LaMotta fight less than three weeks later, Robinson then defeated his childhood idol: former champion Henry Armstrong. Robinson fought Armstrong only because Armstrong was in need of money. By now Armstrong was an old fighter, and Robinson later stated that he carried Armstrong.\""
      ]
     },
     "metadata": {},
     "execution_count": 31
    }
   ],
   "source": [
    "paragrpah_1"
   ]
  },
  {
   "cell_type": "code",
   "execution_count": 34,
   "metadata": {},
   "outputs": [
    {
     "output_type": "execute_result",
     "data": {
      "text/plain": [
       "[\"Woodrow Wilson defeated Henry Armstrong. Robinson then was ruled out for good. Two days later, Wilson fought Armstrong again. Robinson had been the owner of Woodrow Wilson's home gym for several years, and Wilson was a good father to his daughter. Robinson was in a lot of trouble in the fight and had a lot of luck.\"]"
      ]
     },
     "metadata": {},
     "execution_count": 34
    }
   ],
   "source": [
    "tokenizer.batch_decode(translated, skip_special_tokens=True)"
   ]
  },
  {
   "source": [
    "----------------------------------"
   ],
   "cell_type": "markdown",
   "metadata": {}
  },
  {
   "cell_type": "code",
   "execution_count": 8,
   "metadata": {},
   "outputs": [
    {
     "output_type": "execute_result",
     "data": {
      "text/plain": [
       "[\"Robinson built a record of 40–0 before losing for the first time to LaMotta in a 10-round re-match. LaMotta knocked Robinson out of the ring in the eighth round, and won the fight by decision. The fight took place in Robinson's former home town of Detroit, and attracted a record crowd.\"]"
      ]
     },
     "metadata": {},
     "execution_count": 8
    }
   ],
   "source": [
    "paraphrase_t5(paragrpah_1, 1)"
   ]
  },
  {
   "cell_type": "code",
   "execution_count": 9,
   "metadata": {},
   "outputs": [
    {
     "output_type": "stream",
     "name": "stdout",
     "text": [
      "Robinson built a record of 40–0 before losing for the first time to LaMotta in a 10-round re-match.\n",
      " -> Robinson built a record of 40–0 before losing for the first time to LaMotta in a 10-round re-match.\n",
      "LaMotta, who had a weight advantage over Robinson, knocked Robinson out of the ring in the eighth round, and won the fight by decision.\n",
      " -> Robinson, who had a weight advantage over LaMotta, knocked Robinson out of the ring in the eighth round, and won the fight by decision.\n",
      "The fight took place in Robinson's former home town of Detroit, and attracted a record crowd.\n",
      " -> The fight took place in Robinson's former home town of Detroit, and attracted a record crowd.\n",
      "After being controlled by Robinson in the early portions of the fight, LaMotta came back to take control in the later rounds.\n",
      " -> After being controlled by Robinson in the early portions of the fight, LaMotta came back to take control in the later rounds.\n",
      "After winning the third LaMotta fight less than three weeks later, Robinson then defeated his childhood idol:\n",
      " -> After winning the third LaMotta fight less than three weeks later, Robinson then defeated his childhood idol.\n",
      "former champion Henry Armstrong.\n",
      " -> Former champion Henry Armstrong.\n",
      "Robinson fought Armstrong only because Armstrong was in need of money.\n",
      " -> Robinson fought Armstrong only because Armstrong was in need of money. Robinson fought Armstrong only because Armstrong was in need of money. Robinson fought Armstrong only because Armstrong was in need of money. Robinson fought Armstrong only because Armstrong was in need of money. Robinson fought Armstrong only because Armstrong was in need of money. Robinson fought Armstrong only because Armstrong was in need of money. Robinson fought Armstrong only because Armstrong was in need of money. Robinson fought Armstrong only because Armstrong was in need of money.\n",
      "By now Armstrong was an old fighter, and Robinson later stated that he carried Armstrong.\n",
      " -> By now Armstrong was an old fighter, and Robinson later stated that he carried Armstrong.\n"
     ]
    }
   ],
   "source": [
    "spun_text_1 = []\n",
    "for sentence in sentencizer(paragrpah_1):\n",
    "    print(sentence.text)\n",
    "    spun_sentence = paraphrase_t5(sentence.text, 1)[0]\n",
    "    print(f' -> {spun_sentence}')\n",
    "    spun_text_1.append(spun_sentence)"
   ]
  },
  {
   "cell_type": "code",
   "execution_count": 10,
   "metadata": {},
   "outputs": [
    {
     "output_type": "stream",
     "name": "stdout",
     "text": [
      "Paper shortages caused by the war forced the magazine to a bimonthly schedule in 1942, and only four more issues appeared.\n",
      "The last issue was dated September–October 1943.\n",
      "Over the lifetime of the magazine its focus shifted from weird fiction to include both science fiction and fantasy.\n",
      "The magazine is now hard to find and complete runs are very rare.\n"
     ]
    }
   ],
   "source": [
    "for sentence in sentencizer(paragrpah_2):\n",
    "    print(paraphrase_t5(sentence.text, 1)[0])"
   ]
  },
  {
   "cell_type": "code",
   "execution_count": 11,
   "metadata": {},
   "outputs": [
    {
     "output_type": "stream",
     "name": "stdout",
     "text": [
      "The tale was also apparently popular in later times, and became the subject of a number of independent poems.\n",
      "None appears to have been directly based on the surviving text, however, suggesting that other versions of the same tale served as their inspiration.\n",
      "The first poem is appended to the old text in the Book of Leinster, Harley 5280 and H.3.18.\n",
      "Its author used the opportunity to display his knowledge of the names of Irish heroes in general, in which he does not confine himself to characters of the story.\n",
      "The second poem follows the first in Harley 5280, and appears also in three other manuscripts:\n",
      "The Book of Lecan, Laud 610 in the Bodelian Library and lastly in the Stowe manuscript collection.\n",
      "In these two poems, the real hero is not the dog Ailbe but the pig – the latter being \"practically a panegyric on the pig\" – although the story's title implies this may have been an original feature.\n",
      "In the unusual choice of a pig as the main protagonist, the story becomes associated with a broader Celtic tradition, including the wild boar motif of Arthurian legend.\n",
      "The wild boar Twrch Trwyth, for example, causes considerable difficulty for the men of Arthur's court in the 11th-century Welsh story of \"Culhwch and Olwen\";\n",
      "The exposition of the geographical details of Ailbe's route in the rout of the Connachta in the Irish tale has parallels with the route taken by Twrch Trwyth in the Welsh hunt.\n",
      "Indeed, Thurneysen notes that in relation to Mac Da Thó's pig, the poets use the words \"torc\" (boar) and \"muc\" (pig) interchangeably.\n"
     ]
    }
   ],
   "source": [
    "for sentence in sentencizer(paragrpah_3):\n",
    "    print(paraphrase_t5(sentence.text, 1)[0])"
   ]
  },
  {
   "source": [
    "# Stuff"
   ],
   "cell_type": "markdown",
   "metadata": {}
  },
  {
   "cell_type": "code",
   "execution_count": 32,
   "metadata": {},
   "outputs": [],
   "source": [
    "#num_beams=1, top_k=50, top_p=1.0 ,num_return_sequences=1, temperature=1.0\n",
    "def paraphrase_t5(input_text, **model_args):\n",
    "    batch = tokenizer.prepare_seq2seq_batch([input_text],truncation=True,padding='longest',max_length=512, return_tensors=\"pt\").to(torch_device)\n",
    "\n",
    "    min_len = batch['input_ids'].flatten().shape[0] // 2\n",
    "\n",
    "    translated = model.generate(\n",
    "        **batch,\n",
    "        do_sample=True,\n",
    "        early_stopping=True,\n",
    "        min_length=min_len,\n",
    "        max_length=256,\n",
    "        **model_args\n",
    "    )\n",
    "\n",
    "    print(f'min_len:{min_len} | {translated.shape}')\n",
    "\n",
    "    tgt_text = tokenizer.batch_decode(translated, skip_special_tokens=True)\n",
    "\n",
    "    print('\\n\\n'.join(tgt_text))\n",
    "    # return tgt_text"
   ]
  },
  {
   "cell_type": "code",
   "execution_count": 43,
   "metadata": {},
   "outputs": [
    {
     "output_type": "execute_result",
     "data": {
      "text/plain": [
       "\"Robinson built a record of 40–0 before losing for the first time to LaMotta in a 10-round re-match. LaMotta, who had a weight advantage over Robinson, knocked Robinson out of the ring in the eighth round, and won the fight by decision. The fight took place in Robinson's former home town of Detroit, and attracted a record crowd. After being controlled by Robinson in the early portions of the fight, LaMotta came back to take control in the later rounds. After winning the third LaMotta fight less than three weeks later, Robinson then defeated his childhood idol: former champion Henry Armstrong. Robinson fought Armstrong only because Armstrong was in need of money. By now Armstrong was an old fighter, and Robinson later stated that he carried Armstrong.\""
      ]
     },
     "metadata": {},
     "execution_count": 43
    }
   ],
   "source": [
    "paragrpah_1"
   ]
  },
  {
   "cell_type": "code",
   "execution_count": 83,
   "metadata": {},
   "outputs": [
    {
     "output_type": "stream",
     "name": "stdout",
     "text": [
      "min_len:90 | torch.Size([5, 110])\nRobinson and LaMotta met on the ring in Cincinnati, Ohio between 1987-1991 and won the fight by unanimous decision. Robinson had already smoked Armstrong's first and third ring fight before that. Robinson lost after the first three rounds after Wilson's knockout. He couldn't afford to fight Armstrong in the ring because he needed money and didn't have a weight advantage over Robinson for that contest.\n\nWhen Robinson won in his last fight with LaMotta, he built a record of 40–0 before being knocked out of the ring in eighth round and winning by decision. After Armstrong was an old fighter, Robinson then defeated and replaced Armstrong. Even though Armstrong is no longer in a ring, he proved that he was in good health. So, Robinson fought on and defeated Armstrong for the rest of his career.\n\nOriginally a fighter, Robinson fought the former champion Henry Armstrong for money. After losing the first round, Robinson lost by decision to LaMotta. LaMotta won the fight by decision. Robinson then lost to Bobby LePage. Robinson's last fight was in the August 10, 2008 fight. Robinson became a household name. Robinson decided to make an independent decision. He lost only due to money.\n\nRobinson lost in the eighth round to LaMotta, who came back to take control in the later rounds, and became his former adversary. Robinson fought Armstrong only because he had money to buy, and Robinson then destroyed the old champion. Robinson then won the fight by decision; Armstrong was unarmed and in a wheelchair. A decision that would have caused Robinson to be eliminated is not in the cards. He is now able to residify the fight at the end of the fight.\n\nAfter Robinson dropped two featherweight opponents, LaMotta defeated Robinson in a 9-2 decision, only for the 1st time in his career. Robinson now competes in the American Open, as well as the PPV. Robinson was not a fighter, but he was proud of his opponent and fought for the victory. Robinson ranked 42 in his class and he was the champion of his division.\n"
     ]
    }
   ],
   "source": [
    "paraphrase_t5(paragrpah_1, num_return_sequences=5)"
   ]
  },
  {
   "cell_type": "code",
   "execution_count": 84,
   "metadata": {},
   "outputs": [
    {
     "output_type": "stream",
     "name": "stdout",
     "text": [
      "min_len:90 | torch.Size([5, 108])\nRobinson built a record of 40–0 before losing for the first time to LaMotta in a 10-round re-match. LaMotta knocked Robinson out of the ring in the eighth round, and won the fight by decision. The fight took place in Robinson's former home town of Detroit, and attracted a record crowd. Robinson later stated that he carried Armstrong.\n\nRobinson built a record of 40–0 before losing for the first time to LaMotta in a 10-round re-match. LaMotta knocked Robinson out of the ring in the eighth round, and won the fight by decision. The fight took place in Robinson's former home town of Detroit, and attracted a record crowd. Robinson later stated that he carried Armstrong.\n\nRobinson fought Henry Armstrong only because he was in need of money. By now Armstrong was an old fighter, and Robinson later stated that he carried Armstrong. The fight took place in Robinson's former home town of Detroit, and attracted a record crowd. Robinson then lost for the first time to LaMotta, who had a weight advantage over Robinson, knocked Robinson out of the ring in the eighth round, and won the fight by decision.\n\nRobinson fought Henry Armstrong only because he was in need of money. By now Armstrong was an old fighter, and Robinson later stated that he carried Armstrong. The fight took place in Robinson's former home town of Detroit, and attracted a record crowd. Robinson then lost for the first time to LaMotta in a 10-round re-match. LaMotta knocked Robinson out of the ring in the eighth round, and won the fight by decision.\n\nRobinson fought Henry Armstrong only because he was in need of money. By now Armstrong was an old fighter, and Robinson later stated that he carried Armstrong. The fight took place in Robinson's former home town of Detroit, and attracted a record crowd. Robinson then lost for the first time to LaMotta, who had a weight advantage over Robinson, knocked Robinson out of the ring in the eighth round, and won the fight by decision.\n"
     ]
    }
   ],
   "source": [
    "paraphrase_t5(paragrpah_1, num_beams=10, num_return_sequences=5)"
   ]
  },
  {
   "cell_type": "code",
   "execution_count": 85,
   "metadata": {},
   "outputs": [
    {
     "output_type": "stream",
     "name": "stdout",
     "text": [
      "min_len:90 | torch.Size([5, 115])\nAs a child (22 years ago), Robinson was so ashamed to be so upset him and wanted to stop and go home: 'Ronan will be here when I will come back for more time.' The final fight had been postponed due to LaMotte's lacker's. When he appeared for despite being under pay obscene as obscene, he lost. And now is his dead body'. Robinson lost three fights later, in an altercation between Rob Robinson and\n\nBefore Robinson retired from boxing Robinson went to his old favourite. In an apparent frank outfoxing, Henry Armstrong won the second fight. This time he attacked into a guy about the old Man. Why? Robinson won the fight in August in Louisville. When Robinson died as a result of an undereye fall at age 20, he would never have stopped lifting him. Now only. Robinson now makes $60,000 yearly. Who won at the end of October?\n\nAfter losing to Bobby McCaure, Robinson fightd Robinson twice the number of rounds in the top four. Robinson won only because Armstrong started hurtling (winter 2013 fight), and Robinson fought Armstrong until he recovered, before having a battle. But LaMotta had saved him not even once. Robinson now regrets both events. Robinson takes only credit until Robinson has lost. Why does Robert Robinson love Johnny?\"\n\nWhy were Robinson and Armstrong buddies with him after the MMA fight?...and Robinson lost to LaMotta : (the heavyweight - who dropped in every single point) in the final third....The fighting took place in Robinson's former home town of Detroit and attracted a record crowd. [email protected] Robinson then defeated his idol -- longtime favorite Henry Armstrong : (@]\n\nNelson LaMotta knocked Robinson to left for third round only to become rehabilitated at fight end. Robinson wanted to lose to Hendrix (Sagres) in the second round, and had to leave first round just for not earning any money he had. Robertson gave up after his two round clinches in the fifth and seventh rounds under The Judge Robert Robinson, by unanimous decision victory in his hometown. In the final round before losing the fight, Nelson walked back into the ring to continue to\n"
     ]
    }
   ],
   "source": [
    "paraphrase_t5(paragrpah_1, num_return_sequences=5, temperature=1.5)"
   ]
  },
  {
   "cell_type": "code",
   "execution_count": 79,
   "metadata": {},
   "outputs": [
    {
     "output_type": "stream",
     "name": "stdout",
     "text": [
      "min_len:90 | torch.Size([5, 101])\nRobinson lost in the first round to LaMotta, who had a weight advantage over Robinson in a 10-round re-match. The fight took place in Robinson's former home town of Detroit, and had a record crowd. Robinson then defeated his childhood idol, former champion Henry Armstrong, and Robinson fought Armstrong. By now Armstrong was an old fighter, and Robinson later stated that he carried Armstrong.\n\nRobinson fought Henry Armstrong only because Armstrong was in need of money. By then Armstrong was an old fighter, and Robinson said that he fought Armstrong only because Armstrong was in need of money. The fight took place in Robinson's former home town of Detroit, and attracted a record crowd. Robinson then lost for the first time to LaMotta, who knocked Robinson out of the ring in the eighth round, and won the fight by decision.\n\nRobinson lost to LaMotta in the eighth round. LaMotta had a weight advantage over Robinson, and Robinson had a record of 40–0 before losing for the first time in Detroit. The fight took place in Detroit's former home town of Detroit, and attracted a record crowd. Robinson then defeated Armstrong by decision. Robinson fought Armstrong only because Armstrong was in need of money, and Robinson later stated that he carried Armstrong.\n\nRobinson fought former champion Henry Armstrong for a year before losing to LaMotta in a 10-round fight. By then Armstrong was no longer alive, and Robinson lost only to Armstrong in the first round. The fight took place in Robinson's former home town of Detroit, and attracted a record crowd. Robinson then lost for the second time to LaMotta in a 10-round re-match.\n\nRobinson fought Henry Armstrong only because he was in need of money. He had a record of 40–0 before losing for the first time to LaMotta in the eighth round, and won the fight by decision. The fight took place in Robinson's former home town of Detroit, and attracted a record crowd. After Robinson's defeat, LaMotta fought Robinson in the first round, and won the fight by decision.\n"
     ]
    }
   ],
   "source": [
    "paraphrase_t5(paragrpah_1, num_beams=10, num_return_sequences=5, temperature=1.5)"
   ]
  },
  {
   "cell_type": "code",
   "execution_count": 37,
   "metadata": {},
   "outputs": [
    {
     "output_type": "stream",
     "name": "stdout",
     "text": [
      "min_len:90 | torch.Size([5, 115])\n",
      "Robinson built a record of 40-0 before losing to LaMotta for the first time in a 10-round re-match in Detroit. Robinson fought Armstrong only because he was in need of money, and Robinson later stated that he fought Armstrong only because he was in need of money. The fight took place in Pittsburgh, and attracted a record crowd. The fight took place in Pittsburgh, and attracted a record crowd. Robinson then defeated his childhood idol, former champion Henry Armstrong.\n",
      "\n",
      "Robinson fought Henry Armstrong only because he was in need of money. By then Armstrong was an old fighter, and Robinson fought Armstrong only because he was in need of money. After Robinson defeated Armstrong for the first time in a 10-round re-match, LaMotta knocked Robinson out of the ring, and won the fight by decision. LaMotta had a weight advantage over Robinson, who lost for the first time to Robinson in a 10-round re-match, and Robinson\n",
      "\n",
      "Robinson fought Henry Armstrong only because he was in need of money. By then Armstrong was an old fighter, and Robinson then stated that he fought Armstrong only because he was in need of money. The fight took place in Robinson's hometown of Chicago, and attracted a record crowd. Robinson then lost for the first time in a 10-round re-match, and LaMotta knocked Robinson out of the ring, and won the fight by decision.\n",
      "\n",
      "Robinson fought Henry Armstrong only because he was in need of money. By then Armstrong was an old fighter, and Robinson then stated that he carried Armstrong. LaMotta knocked Robinson out of the ring, and won the fight by decision. LaMotta had a weight advantage over Robinson, who lost for the first time in a 10-round re-match, and Robinson then defeated Robinson for the first time.\n",
      "\n",
      "Robinson fought Henry Armstrong only because he was in need of money. By then Armstrong was an old fighter, and Robinson fought Armstrong only because he was in need of money. The fight took place in Robinson's hometown of Chicago, and attracted a record crowd. LaMotta knocked Robinson out of the ring, and won the fight by decision. After Robinson lost for the first time to Robinson in the eighth round, LaMotta won the fight by decision.\n"
     ]
    }
   ],
   "source": [
    "paraphrase_t5(\n",
    "    paragrpah_1,\n",
    "    num_beams=10, # beam for beam search\n",
    "    top_k=50, # number of highest propability tokens to keep for top-k filtering\n",
    "    top_p=1.0, # if < 1 than  only the tokens with probabilities that add up to this value or highter are kept for geneartion\n",
    "    num_return_sequences=5,\n",
    "    temperature=1.0,\n",
    "    length_penalty=2.0, # panalty to produce longer texts\n",
    "    encoder_no_repeat_ngram_size=10 # no ngram of this size or longer form the encoder_input_ids can occur in the decoder_input_ids\n",
    ")"
   ]
  },
  {
   "cell_type": "code",
   "execution_count": 38,
   "metadata": {},
   "outputs": [],
   "source": [
    "test_text_1 = \"\"\"Robinson built a record of 40–0 before losing for the first time to LaMotta in a 10-round re-match. LaMotta, who had a weight advantage over Robinson, knocked Robinson out of the ring in the eighth round, and won the fight by decision. The fight took place in Robinson's former home town of Detroit, and attracted a record crowd. After being controlled by Robinson in the early portions of the fight, LaMotta came back to take control in the later rounds.\"\"\"\n",
    "\n",
    "test_text_2=\"\"\"After winning the third LaMotta fight less than three weeks later, Robinson then defeated his childhood idol: former champion Henry Armstrong. Robinson fought Armstrong only because Armstrong was in need of money. By now Armstrong was an old fighter, and Robinson later stated that he carried Armstrong.\"\"\""
   ]
  },
  {
   "cell_type": "code",
   "execution_count": 41,
   "metadata": {},
   "outputs": [
    {
     "output_type": "stream",
     "name": "stdout",
     "text": [
      "min_len:60 | torch.Size([5, 96])\nRobinson lost for the first time to LaMotta in a 10-round rematch against Robinson in Detroit. Robinson built a record of 40–0 before losing for the first time to Robinson in the ring in the eighth round, and won the fight by decision. Robinson's opponent had a weight advantage over Robinson, who knocked Robinson out of the ring in the ninth round, and won the fight by decision.\n\nRobinson built a record of 40-0 before losing to LaMotta in a 10-round re-match. Robinson lost for the first time in the ring to LaMotta in the ninth round, and won the fight by decision. After being controlled in the early portions of the fight, Robinson came back to take control in the later rounds.\n\nRobinson lost in a 10-round re-match against LaMotta in Detroit, and built a record of 40-0 before losing for the first time. LaMotta had a weight advantage over Robinson and won the fight by decision. After being controlled by Robinson in the early portions of the fight, Robinson came back to take control in the later rounds.\n\nRobinson lost for the first time to LaMotta in a rematch in Detroit. LaMotta knocked Robinson out of the ring in the eighth round, and won by decision. Robinson had a record of 40–0 before losing for the first time to Robinson in a 10-round re-match.\n\nRobinson had a record of 40–0 before losing to LaMotta in the eighth round, knocking Robinson out of the ring in the ninth round, and winning the fight by decision. The fight took place in Robinson's former home town of Michigan, and attracted a record crowd. After being controlled in the early portions of the fight, LaMotta returned to take control in the later rounds.\n"
     ]
    }
   ],
   "source": [
    "paraphrase_t5(\n",
    "    test_text_1,\n",
    "    num_beams=10, # beam for beam search\n",
    "    top_k=50, # number of highest propability tokens to keep for top-k filtering\n",
    "    top_p=1.0, # if < 1 than  only the tokens with probabilities that add up to this value or highter are kept for geneartion\n",
    "    num_return_sequences=5,\n",
    "    temperature=1.5,\n",
    "    length_penalty=2.0, # panalty to produce longer texts\n",
    "    encoder_no_repeat_ngram_size=20 # no ngram of this size or longer form the encoder_input_ids can occur in the decoder_input_ids\n",
    ")"
   ]
  },
  {
   "cell_type": "code",
   "execution_count": 42,
   "metadata": {},
   "outputs": [
    {
     "output_type": "stream",
     "name": "stdout",
     "text": [
      "min_len:30 | torch.Size([5, 55])\nRobinson fought Henry Armstrong in the third LaMotta fight less than two weeks later, and Robinson then defeated his childhood idol, Robinson. Robinson fought only because Armstrong was in need of money, and Robinson later stated that he carried Armstrong.\n\nAfter winning the third fight less than three weeks later, Robinson then defeated his childhood idol, former champion Henry Armstrong. Robinson fought Armstrong only because Armstrong was in need of money. Robinson later stated that he carried Armstrong.\n\nAfter Robinson defeated LaMotta, Robinson then defeated his childhood idol Henry Armstrong. Robinson fought Armstrong only because Armstrong was in need of money. Robinson later stated that he carried Armstrong.\n\nAfter winning the third fight less than three weeks later, Robinson then defeated his childhood idol, former champion Henry Armstrong. Robinson fought Armstrong only because Armstrong was in need of money. Robinson later stated that he carried Armstrong.\n\nRobinson defeated his childhood idol Henry Armstrong. Robinson fought Armstrong only because he needed money. By now Armstrong was an old fighter. Robinson later stated that he carried Armstrong.\n"
     ]
    }
   ],
   "source": [
    "paraphrase_t5(\n",
    "    test_text_2,\n",
    "    num_beams=10, # beam for beam search\n",
    "    top_k=50, # number of highest propability tokens to keep for top-k filtering\n",
    "    top_p=1.0, # if < 1 than  only the tokens with probabilities that add up to this value or highter are kept for geneartion\n",
    "    num_return_sequences=5,\n",
    "    temperature=1.5,\n",
    "    length_penalty=2.0, # panalty to produce longer texts\n",
    "    encoder_no_repeat_ngram_size=20 # no ngram of this size or longer form the encoder_input_ids can occur in the decoder_input_ids\n",
    ")"
   ]
  },
  {
   "cell_type": "code",
   "execution_count": null,
   "metadata": {},
   "outputs": [],
   "source": []
  }
 ]
}